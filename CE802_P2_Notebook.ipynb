{
 "cells": [
  {
   "cell_type": "markdown",
   "metadata": {},
   "source": [
    "### Part A"
   ]
  },
  {
   "cell_type": "markdown",
   "metadata": {},
   "source": [
    "# Data Wrangling & EDA(Exploratory Data Analysis)"
   ]
  },
  {
   "cell_type": "markdown",
   "metadata": {},
   "source": [
    "* Here we will be doing Exploratory Data Analysis on data, we will be observing the dataset and then finding any missing values, to categorize values, to find the shape of dataset by plotting to identify relationships in dataset. Then locating any outliers in dataset. Organizing a dataset. \n",
    "After doing EDA, we will find which features are less important so we can easily remove them from data.\n",
    "Then we are ploting boxplot for few features of the data. To remove outlier using boxplot, calculating the first and third quartile, then evaluate the interquartile range, estimate the lower bound and upper bound, replacing the data points that lie outside of the lower and the upper bound with a NULL value. \n"
   ]
  },
  {
   "cell_type": "code",
   "execution_count": 655,
   "metadata": {},
   "outputs": [],
   "source": [
    "import warnings\n",
    "warnings.filterwarnings('ignore')"
   ]
  },
  {
   "cell_type": "code",
   "execution_count": 595,
   "metadata": {},
   "outputs": [],
   "source": [
    "#Import Required libraries and Data File\n",
    "\n",
    "import pandas as pd\n",
    "import numpy as np\n",
    "import matplotlib.pyplot as plt\n",
    "import seaborn as sns\n",
    "sns.set()\n",
    "%matplotlib inline\n",
    "\n",
    "from sklearn.preprocessing import MinMaxScaler"
   ]
  },
  {
   "cell_type": "code",
   "execution_count": 596,
   "metadata": {},
   "outputs": [],
   "source": [
    "data = pd.read_csv('CE802_P2_Data.csv')\n",
    "test_df = pd.read_csv('CE802_P2_Test.csv')"
   ]
  },
  {
   "cell_type": "code",
   "execution_count": 597,
   "metadata": {},
   "outputs": [
    {
     "data": {
      "text/html": [
       "<div>\n",
       "<style scoped>\n",
       "    .dataframe tbody tr th:only-of-type {\n",
       "        vertical-align: middle;\n",
       "    }\n",
       "\n",
       "    .dataframe tbody tr th {\n",
       "        vertical-align: top;\n",
       "    }\n",
       "\n",
       "    .dataframe thead th {\n",
       "        text-align: right;\n",
       "    }\n",
       "</style>\n",
       "<table border=\"1\" class=\"dataframe\">\n",
       "  <thead>\n",
       "    <tr style=\"text-align: right;\">\n",
       "      <th></th>\n",
       "      <th>F1</th>\n",
       "      <th>F2</th>\n",
       "      <th>F3</th>\n",
       "      <th>F4</th>\n",
       "      <th>F5</th>\n",
       "      <th>F6</th>\n",
       "      <th>F7</th>\n",
       "      <th>F8</th>\n",
       "      <th>F9</th>\n",
       "      <th>F10</th>\n",
       "      <th>...</th>\n",
       "      <th>F12</th>\n",
       "      <th>F13</th>\n",
       "      <th>F14</th>\n",
       "      <th>F15</th>\n",
       "      <th>F16</th>\n",
       "      <th>F17</th>\n",
       "      <th>F18</th>\n",
       "      <th>F19</th>\n",
       "      <th>F20</th>\n",
       "      <th>F21</th>\n",
       "    </tr>\n",
       "  </thead>\n",
       "  <tbody>\n",
       "    <tr>\n",
       "      <th>0</th>\n",
       "      <td>8197.29</td>\n",
       "      <td>1.72</td>\n",
       "      <td>7891.36</td>\n",
       "      <td>10.5620</td>\n",
       "      <td>-4.5399</td>\n",
       "      <td>0</td>\n",
       "      <td>-11.0406</td>\n",
       "      <td>-12.4440</td>\n",
       "      <td>-46.680</td>\n",
       "      <td>-2585.96</td>\n",
       "      <td>...</td>\n",
       "      <td>1.53520</td>\n",
       "      <td>-15.2229</td>\n",
       "      <td>-44625.312</td>\n",
       "      <td>8.4144</td>\n",
       "      <td>0.5220</td>\n",
       "      <td>17.8269</td>\n",
       "      <td>3490.58</td>\n",
       "      <td>0</td>\n",
       "      <td>4384.23</td>\n",
       "      <td>NaN</td>\n",
       "    </tr>\n",
       "    <tr>\n",
       "      <th>1</th>\n",
       "      <td>14538.99</td>\n",
       "      <td>0.72</td>\n",
       "      <td>7499.68</td>\n",
       "      <td>7.2722</td>\n",
       "      <td>-4.7820</td>\n",
       "      <td>1</td>\n",
       "      <td>-11.4459</td>\n",
       "      <td>-17.1720</td>\n",
       "      <td>-39.340</td>\n",
       "      <td>-4081.96</td>\n",
       "      <td>...</td>\n",
       "      <td>2.76840</td>\n",
       "      <td>-16.4400</td>\n",
       "      <td>-44620.413</td>\n",
       "      <td>9.0572</td>\n",
       "      <td>13.1320</td>\n",
       "      <td>17.1897</td>\n",
       "      <td>2369.52</td>\n",
       "      <td>1</td>\n",
       "      <td>3717.98</td>\n",
       "      <td>NaN</td>\n",
       "    </tr>\n",
       "    <tr>\n",
       "      <th>2</th>\n",
       "      <td>13826.49</td>\n",
       "      <td>0.72</td>\n",
       "      <td>8083.36</td>\n",
       "      <td>10.0380</td>\n",
       "      <td>-8.3700</td>\n",
       "      <td>0</td>\n",
       "      <td>-17.2530</td>\n",
       "      <td>-17.2080</td>\n",
       "      <td>-47.600</td>\n",
       "      <td>-2993.04</td>\n",
       "      <td>...</td>\n",
       "      <td>1.25344</td>\n",
       "      <td>-13.7910</td>\n",
       "      <td>-44600.720</td>\n",
       "      <td>9.8430</td>\n",
       "      <td>43.5000</td>\n",
       "      <td>16.7982</td>\n",
       "      <td>3262.72</td>\n",
       "      <td>0</td>\n",
       "      <td>3754.71</td>\n",
       "      <td>NaN</td>\n",
       "    </tr>\n",
       "    <tr>\n",
       "      <th>3</th>\n",
       "      <td>11627.79</td>\n",
       "      <td>1.72</td>\n",
       "      <td>7770.58</td>\n",
       "      <td>9.2460</td>\n",
       "      <td>-4.5081</td>\n",
       "      <td>0</td>\n",
       "      <td>-11.9301</td>\n",
       "      <td>-16.9590</td>\n",
       "      <td>-45.445</td>\n",
       "      <td>-3973.96</td>\n",
       "      <td>...</td>\n",
       "      <td>1.81800</td>\n",
       "      <td>-15.4131</td>\n",
       "      <td>-44613.167</td>\n",
       "      <td>8.6980</td>\n",
       "      <td>28.1060</td>\n",
       "      <td>16.9833</td>\n",
       "      <td>3390.80</td>\n",
       "      <td>1</td>\n",
       "      <td>3916.23</td>\n",
       "      <td>NaN</td>\n",
       "    </tr>\n",
       "    <tr>\n",
       "      <th>4</th>\n",
       "      <td>13140.09</td>\n",
       "      <td>1.72</td>\n",
       "      <td>6954.96</td>\n",
       "      <td>7.8252</td>\n",
       "      <td>-6.6102</td>\n",
       "      <td>0</td>\n",
       "      <td>-12.5493</td>\n",
       "      <td>-10.9881</td>\n",
       "      <td>-47.000</td>\n",
       "      <td>-3001.92</td>\n",
       "      <td>...</td>\n",
       "      <td>1.93120</td>\n",
       "      <td>-13.6899</td>\n",
       "      <td>-44702.260</td>\n",
       "      <td>11.7460</td>\n",
       "      <td>17.7608</td>\n",
       "      <td>19.5120</td>\n",
       "      <td>3592.62</td>\n",
       "      <td>1</td>\n",
       "      <td>2224.93</td>\n",
       "      <td>NaN</td>\n",
       "    </tr>\n",
       "  </tbody>\n",
       "</table>\n",
       "<p>5 rows × 21 columns</p>\n",
       "</div>"
      ],
      "text/plain": [
       "         F1    F2       F3       F4      F5  F6       F7       F8      F9  \\\n",
       "0   8197.29  1.72  7891.36  10.5620 -4.5399   0 -11.0406 -12.4440 -46.680   \n",
       "1  14538.99  0.72  7499.68   7.2722 -4.7820   1 -11.4459 -17.1720 -39.340   \n",
       "2  13826.49  0.72  8083.36  10.0380 -8.3700   0 -17.2530 -17.2080 -47.600   \n",
       "3  11627.79  1.72  7770.58   9.2460 -4.5081   0 -11.9301 -16.9590 -45.445   \n",
       "4  13140.09  1.72  6954.96   7.8252 -6.6102   0 -12.5493 -10.9881 -47.000   \n",
       "\n",
       "       F10  ...      F12      F13        F14      F15      F16      F17  \\\n",
       "0 -2585.96  ...  1.53520 -15.2229 -44625.312   8.4144   0.5220  17.8269   \n",
       "1 -4081.96  ...  2.76840 -16.4400 -44620.413   9.0572  13.1320  17.1897   \n",
       "2 -2993.04  ...  1.25344 -13.7910 -44600.720   9.8430  43.5000  16.7982   \n",
       "3 -3973.96  ...  1.81800 -15.4131 -44613.167   8.6980  28.1060  16.9833   \n",
       "4 -3001.92  ...  1.93120 -13.6899 -44702.260  11.7460  17.7608  19.5120   \n",
       "\n",
       "       F18  F19      F20  F21  \n",
       "0  3490.58    0  4384.23  NaN  \n",
       "1  2369.52    1  3717.98  NaN  \n",
       "2  3262.72    0  3754.71  NaN  \n",
       "3  3390.80    1  3916.23  NaN  \n",
       "4  3592.62    1  2224.93  NaN  \n",
       "\n",
       "[5 rows x 21 columns]"
      ]
     },
     "execution_count": 597,
     "metadata": {},
     "output_type": "execute_result"
    }
   ],
   "source": [
    "test_data = test_df.iloc[:,:-1].copy()\n",
    "test_data.head()"
   ]
  },
  {
   "cell_type": "code",
   "execution_count": 598,
   "metadata": {},
   "outputs": [
    {
     "data": {
      "text/html": [
       "<div>\n",
       "<style scoped>\n",
       "    .dataframe tbody tr th:only-of-type {\n",
       "        vertical-align: middle;\n",
       "    }\n",
       "\n",
       "    .dataframe tbody tr th {\n",
       "        vertical-align: top;\n",
       "    }\n",
       "\n",
       "    .dataframe thead th {\n",
       "        text-align: right;\n",
       "    }\n",
       "</style>\n",
       "<table border=\"1\" class=\"dataframe\">\n",
       "  <thead>\n",
       "    <tr style=\"text-align: right;\">\n",
       "      <th></th>\n",
       "      <th>F1</th>\n",
       "      <th>F2</th>\n",
       "      <th>F3</th>\n",
       "      <th>F4</th>\n",
       "      <th>F5</th>\n",
       "      <th>F6</th>\n",
       "      <th>F7</th>\n",
       "      <th>F8</th>\n",
       "      <th>F9</th>\n",
       "      <th>F10</th>\n",
       "      <th>...</th>\n",
       "      <th>F13</th>\n",
       "      <th>F14</th>\n",
       "      <th>F15</th>\n",
       "      <th>F16</th>\n",
       "      <th>F17</th>\n",
       "      <th>F18</th>\n",
       "      <th>F19</th>\n",
       "      <th>F20</th>\n",
       "      <th>F21</th>\n",
       "      <th>Class</th>\n",
       "    </tr>\n",
       "  </thead>\n",
       "  <tbody>\n",
       "    <tr>\n",
       "      <th>0</th>\n",
       "      <td>13146.09</td>\n",
       "      <td>0.72</td>\n",
       "      <td>7435.16</td>\n",
       "      <td>8.4494</td>\n",
       "      <td>-7.4760</td>\n",
       "      <td>0</td>\n",
       "      <td>-12.4365</td>\n",
       "      <td>-17.259</td>\n",
       "      <td>-67.900</td>\n",
       "      <td>-2964.93</td>\n",
       "      <td>...</td>\n",
       "      <td>-16.107</td>\n",
       "      <td>-44577.510</td>\n",
       "      <td>10.7280</td>\n",
       "      <td>36.186</td>\n",
       "      <td>16.562850</td>\n",
       "      <td>3021.22</td>\n",
       "      <td>0</td>\n",
       "      <td>3669.7200</td>\n",
       "      <td>-29.26</td>\n",
       "      <td>True</td>\n",
       "    </tr>\n",
       "    <tr>\n",
       "      <th>1</th>\n",
       "      <td>12317.79</td>\n",
       "      <td>1.72</td>\n",
       "      <td>7503.04</td>\n",
       "      <td>7.7752</td>\n",
       "      <td>-6.6531</td>\n",
       "      <td>0</td>\n",
       "      <td>-17.3760</td>\n",
       "      <td>-23.109</td>\n",
       "      <td>-64.010</td>\n",
       "      <td>-2936.40</td>\n",
       "      <td>...</td>\n",
       "      <td>-17.826</td>\n",
       "      <td>-44586.630</td>\n",
       "      <td>8.8566</td>\n",
       "      <td>20.619</td>\n",
       "      <td>16.486371</td>\n",
       "      <td>3489.32</td>\n",
       "      <td>0</td>\n",
       "      <td>3744.1880</td>\n",
       "      <td>-29.24</td>\n",
       "      <td>False</td>\n",
       "    </tr>\n",
       "    <tr>\n",
       "      <th>2</th>\n",
       "      <td>13654.29</td>\n",
       "      <td>0.72</td>\n",
       "      <td>7709.40</td>\n",
       "      <td>9.1180</td>\n",
       "      <td>-5.5212</td>\n",
       "      <td>1</td>\n",
       "      <td>-14.8380</td>\n",
       "      <td>-23.454</td>\n",
       "      <td>-42.869</td>\n",
       "      <td>-3005.28</td>\n",
       "      <td>...</td>\n",
       "      <td>-18.744</td>\n",
       "      <td>-44615.366</td>\n",
       "      <td>9.4040</td>\n",
       "      <td>21.630</td>\n",
       "      <td>18.880200</td>\n",
       "      <td>3471.59</td>\n",
       "      <td>1</td>\n",
       "      <td>3779.6600</td>\n",
       "      <td>NaN</td>\n",
       "      <td>False</td>\n",
       "    </tr>\n",
       "    <tr>\n",
       "      <th>3</th>\n",
       "      <td>12713.67</td>\n",
       "      <td>1.72</td>\n",
       "      <td>7403.88</td>\n",
       "      <td>14.4380</td>\n",
       "      <td>-4.4715</td>\n",
       "      <td>0</td>\n",
       "      <td>-11.3466</td>\n",
       "      <td>-14.433</td>\n",
       "      <td>-38.565</td>\n",
       "      <td>-3043.26</td>\n",
       "      <td>...</td>\n",
       "      <td>-16.935</td>\n",
       "      <td>-44710.120</td>\n",
       "      <td>10.1084</td>\n",
       "      <td>3.656</td>\n",
       "      <td>20.610000</td>\n",
       "      <td>3406.62</td>\n",
       "      <td>1</td>\n",
       "      <td>3700.0600</td>\n",
       "      <td>-27.18</td>\n",
       "      <td>False</td>\n",
       "    </tr>\n",
       "    <tr>\n",
       "      <th>4</th>\n",
       "      <td>17194.29</td>\n",
       "      <td>1.72</td>\n",
       "      <td>7446.12</td>\n",
       "      <td>10.9880</td>\n",
       "      <td>-6.2214</td>\n",
       "      <td>0</td>\n",
       "      <td>-12.6738</td>\n",
       "      <td>-23.805</td>\n",
       "      <td>-38.522</td>\n",
       "      <td>-3477.56</td>\n",
       "      <td>...</td>\n",
       "      <td>-18.762</td>\n",
       "      <td>-44597.500</td>\n",
       "      <td>8.4616</td>\n",
       "      <td>5.260</td>\n",
       "      <td>19.680000</td>\n",
       "      <td>3504.97</td>\n",
       "      <td>1</td>\n",
       "      <td>3733.9424</td>\n",
       "      <td>-27.20</td>\n",
       "      <td>True</td>\n",
       "    </tr>\n",
       "  </tbody>\n",
       "</table>\n",
       "<p>5 rows × 22 columns</p>\n",
       "</div>"
      ],
      "text/plain": [
       "         F1    F2       F3       F4      F5  F6       F7      F8      F9  \\\n",
       "0  13146.09  0.72  7435.16   8.4494 -7.4760   0 -12.4365 -17.259 -67.900   \n",
       "1  12317.79  1.72  7503.04   7.7752 -6.6531   0 -17.3760 -23.109 -64.010   \n",
       "2  13654.29  0.72  7709.40   9.1180 -5.5212   1 -14.8380 -23.454 -42.869   \n",
       "3  12713.67  1.72  7403.88  14.4380 -4.4715   0 -11.3466 -14.433 -38.565   \n",
       "4  17194.29  1.72  7446.12  10.9880 -6.2214   0 -12.6738 -23.805 -38.522   \n",
       "\n",
       "       F10  ...     F13        F14      F15     F16        F17      F18  F19  \\\n",
       "0 -2964.93  ... -16.107 -44577.510  10.7280  36.186  16.562850  3021.22    0   \n",
       "1 -2936.40  ... -17.826 -44586.630   8.8566  20.619  16.486371  3489.32    0   \n",
       "2 -3005.28  ... -18.744 -44615.366   9.4040  21.630  18.880200  3471.59    1   \n",
       "3 -3043.26  ... -16.935 -44710.120  10.1084   3.656  20.610000  3406.62    1   \n",
       "4 -3477.56  ... -18.762 -44597.500   8.4616   5.260  19.680000  3504.97    1   \n",
       "\n",
       "         F20    F21  Class  \n",
       "0  3669.7200 -29.26   True  \n",
       "1  3744.1880 -29.24  False  \n",
       "2  3779.6600    NaN  False  \n",
       "3  3700.0600 -27.18  False  \n",
       "4  3733.9424 -27.20   True  \n",
       "\n",
       "[5 rows x 22 columns]"
      ]
     },
     "execution_count": 598,
     "metadata": {},
     "output_type": "execute_result"
    }
   ],
   "source": [
    "df_data = data.copy()\n",
    "df_data.head(5)"
   ]
  },
  {
   "cell_type": "code",
   "execution_count": 599,
   "metadata": {},
   "outputs": [
    {
     "data": {
      "text/plain": [
       "(1000, 21)"
      ]
     },
     "execution_count": 599,
     "metadata": {},
     "output_type": "execute_result"
    }
   ],
   "source": [
    "test_data.shape"
   ]
  },
  {
   "cell_type": "code",
   "execution_count": 600,
   "metadata": {},
   "outputs": [
    {
     "data": {
      "text/plain": [
       "(1000, 22)"
      ]
     },
     "execution_count": 600,
     "metadata": {},
     "output_type": "execute_result"
    }
   ],
   "source": [
    "df_data.shape"
   ]
  },
  {
   "cell_type": "code",
   "execution_count": 601,
   "metadata": {},
   "outputs": [
    {
     "data": {
      "text/html": [
       "<div>\n",
       "<style scoped>\n",
       "    .dataframe tbody tr th:only-of-type {\n",
       "        vertical-align: middle;\n",
       "    }\n",
       "\n",
       "    .dataframe tbody tr th {\n",
       "        vertical-align: top;\n",
       "    }\n",
       "\n",
       "    .dataframe thead th {\n",
       "        text-align: right;\n",
       "    }\n",
       "</style>\n",
       "<table border=\"1\" class=\"dataframe\">\n",
       "  <thead>\n",
       "    <tr style=\"text-align: right;\">\n",
       "      <th></th>\n",
       "      <th>F1</th>\n",
       "      <th>F2</th>\n",
       "      <th>F3</th>\n",
       "      <th>F4</th>\n",
       "      <th>F5</th>\n",
       "      <th>F6</th>\n",
       "      <th>F7</th>\n",
       "      <th>F8</th>\n",
       "      <th>F9</th>\n",
       "      <th>F10</th>\n",
       "      <th>...</th>\n",
       "      <th>F12</th>\n",
       "      <th>F13</th>\n",
       "      <th>F14</th>\n",
       "      <th>F15</th>\n",
       "      <th>F16</th>\n",
       "      <th>F17</th>\n",
       "      <th>F18</th>\n",
       "      <th>F19</th>\n",
       "      <th>F20</th>\n",
       "      <th>F21</th>\n",
       "    </tr>\n",
       "  </thead>\n",
       "  <tbody>\n",
       "    <tr>\n",
       "      <th>0</th>\n",
       "      <td>13146.09</td>\n",
       "      <td>0.72</td>\n",
       "      <td>7435.16</td>\n",
       "      <td>8.4494</td>\n",
       "      <td>-7.4760</td>\n",
       "      <td>0</td>\n",
       "      <td>-12.4365</td>\n",
       "      <td>-17.259</td>\n",
       "      <td>-67.900</td>\n",
       "      <td>-2964.93</td>\n",
       "      <td>...</td>\n",
       "      <td>1.3934</td>\n",
       "      <td>-16.107</td>\n",
       "      <td>-44577.510</td>\n",
       "      <td>10.7280</td>\n",
       "      <td>36.186</td>\n",
       "      <td>16.562850</td>\n",
       "      <td>3021.22</td>\n",
       "      <td>0</td>\n",
       "      <td>3669.7200</td>\n",
       "      <td>-29.26</td>\n",
       "    </tr>\n",
       "    <tr>\n",
       "      <th>1</th>\n",
       "      <td>12317.79</td>\n",
       "      <td>1.72</td>\n",
       "      <td>7503.04</td>\n",
       "      <td>7.7752</td>\n",
       "      <td>-6.6531</td>\n",
       "      <td>0</td>\n",
       "      <td>-17.3760</td>\n",
       "      <td>-23.109</td>\n",
       "      <td>-64.010</td>\n",
       "      <td>-2936.40</td>\n",
       "      <td>...</td>\n",
       "      <td>2.3936</td>\n",
       "      <td>-17.826</td>\n",
       "      <td>-44586.630</td>\n",
       "      <td>8.8566</td>\n",
       "      <td>20.619</td>\n",
       "      <td>16.486371</td>\n",
       "      <td>3489.32</td>\n",
       "      <td>0</td>\n",
       "      <td>3744.1880</td>\n",
       "      <td>-29.24</td>\n",
       "    </tr>\n",
       "    <tr>\n",
       "      <th>2</th>\n",
       "      <td>13654.29</td>\n",
       "      <td>0.72</td>\n",
       "      <td>7709.40</td>\n",
       "      <td>9.1180</td>\n",
       "      <td>-5.5212</td>\n",
       "      <td>1</td>\n",
       "      <td>-14.8380</td>\n",
       "      <td>-23.454</td>\n",
       "      <td>-42.869</td>\n",
       "      <td>-3005.28</td>\n",
       "      <td>...</td>\n",
       "      <td>6.1300</td>\n",
       "      <td>-18.744</td>\n",
       "      <td>-44615.366</td>\n",
       "      <td>9.4040</td>\n",
       "      <td>21.630</td>\n",
       "      <td>18.880200</td>\n",
       "      <td>3471.59</td>\n",
       "      <td>1</td>\n",
       "      <td>3779.6600</td>\n",
       "      <td>NaN</td>\n",
       "    </tr>\n",
       "    <tr>\n",
       "      <th>3</th>\n",
       "      <td>12713.67</td>\n",
       "      <td>1.72</td>\n",
       "      <td>7403.88</td>\n",
       "      <td>14.4380</td>\n",
       "      <td>-4.4715</td>\n",
       "      <td>0</td>\n",
       "      <td>-11.3466</td>\n",
       "      <td>-14.433</td>\n",
       "      <td>-38.565</td>\n",
       "      <td>-3043.26</td>\n",
       "      <td>...</td>\n",
       "      <td>2.6608</td>\n",
       "      <td>-16.935</td>\n",
       "      <td>-44710.120</td>\n",
       "      <td>10.1084</td>\n",
       "      <td>3.656</td>\n",
       "      <td>20.610000</td>\n",
       "      <td>3406.62</td>\n",
       "      <td>1</td>\n",
       "      <td>3700.0600</td>\n",
       "      <td>-27.18</td>\n",
       "    </tr>\n",
       "    <tr>\n",
       "      <th>4</th>\n",
       "      <td>17194.29</td>\n",
       "      <td>1.72</td>\n",
       "      <td>7446.12</td>\n",
       "      <td>10.9880</td>\n",
       "      <td>-6.2214</td>\n",
       "      <td>0</td>\n",
       "      <td>-12.6738</td>\n",
       "      <td>-23.805</td>\n",
       "      <td>-38.522</td>\n",
       "      <td>-3477.56</td>\n",
       "      <td>...</td>\n",
       "      <td>1.3212</td>\n",
       "      <td>-18.762</td>\n",
       "      <td>-44597.500</td>\n",
       "      <td>8.4616</td>\n",
       "      <td>5.260</td>\n",
       "      <td>19.680000</td>\n",
       "      <td>3504.97</td>\n",
       "      <td>1</td>\n",
       "      <td>3733.9424</td>\n",
       "      <td>-27.20</td>\n",
       "    </tr>\n",
       "  </tbody>\n",
       "</table>\n",
       "<p>5 rows × 21 columns</p>\n",
       "</div>"
      ],
      "text/plain": [
       "         F1    F2       F3       F4      F5  F6       F7      F8      F9  \\\n",
       "0  13146.09  0.72  7435.16   8.4494 -7.4760   0 -12.4365 -17.259 -67.900   \n",
       "1  12317.79  1.72  7503.04   7.7752 -6.6531   0 -17.3760 -23.109 -64.010   \n",
       "2  13654.29  0.72  7709.40   9.1180 -5.5212   1 -14.8380 -23.454 -42.869   \n",
       "3  12713.67  1.72  7403.88  14.4380 -4.4715   0 -11.3466 -14.433 -38.565   \n",
       "4  17194.29  1.72  7446.12  10.9880 -6.2214   0 -12.6738 -23.805 -38.522   \n",
       "\n",
       "       F10  ...     F12     F13        F14      F15     F16        F17  \\\n",
       "0 -2964.93  ...  1.3934 -16.107 -44577.510  10.7280  36.186  16.562850   \n",
       "1 -2936.40  ...  2.3936 -17.826 -44586.630   8.8566  20.619  16.486371   \n",
       "2 -3005.28  ...  6.1300 -18.744 -44615.366   9.4040  21.630  18.880200   \n",
       "3 -3043.26  ...  2.6608 -16.935 -44710.120  10.1084   3.656  20.610000   \n",
       "4 -3477.56  ...  1.3212 -18.762 -44597.500   8.4616   5.260  19.680000   \n",
       "\n",
       "       F18  F19        F20    F21  \n",
       "0  3021.22    0  3669.7200 -29.26  \n",
       "1  3489.32    0  3744.1880 -29.24  \n",
       "2  3471.59    1  3779.6600    NaN  \n",
       "3  3406.62    1  3700.0600 -27.18  \n",
       "4  3504.97    1  3733.9424 -27.20  \n",
       "\n",
       "[5 rows x 21 columns]"
      ]
     },
     "execution_count": 601,
     "metadata": {},
     "output_type": "execute_result"
    }
   ],
   "source": [
    "y = df_data[\"Class\"] \n",
    "df_data = df_data.drop(columns=\"Class\")\n",
    "df_data.head()"
   ]
  },
  {
   "cell_type": "code",
   "execution_count": 602,
   "metadata": {},
   "outputs": [
    {
     "data": {
      "text/plain": [
       "Index(['F1', 'F2', 'F3', 'F4', 'F5', 'F6', 'F7', 'F8', 'F9', 'F10', 'F11',\n",
       "       'F12', 'F13', 'F14', 'F15', 'F16', 'F17', 'F18', 'F19', 'F20', 'F21'],\n",
       "      dtype='object')"
      ]
     },
     "execution_count": 602,
     "metadata": {},
     "output_type": "execute_result"
    }
   ],
   "source": [
    "df_data.columns"
   ]
  },
  {
   "cell_type": "markdown",
   "metadata": {},
   "source": [
    "**Normalization / feature scaling**"
   ]
  },
  {
   "cell_type": "code",
   "execution_count": 603,
   "metadata": {},
   "outputs": [
    {
     "data": {
      "text/html": [
       "<div>\n",
       "<style scoped>\n",
       "    .dataframe tbody tr th:only-of-type {\n",
       "        vertical-align: middle;\n",
       "    }\n",
       "\n",
       "    .dataframe tbody tr th {\n",
       "        vertical-align: top;\n",
       "    }\n",
       "\n",
       "    .dataframe thead th {\n",
       "        text-align: right;\n",
       "    }\n",
       "</style>\n",
       "<table border=\"1\" class=\"dataframe\">\n",
       "  <thead>\n",
       "    <tr style=\"text-align: right;\">\n",
       "      <th></th>\n",
       "      <th>F1</th>\n",
       "      <th>F2</th>\n",
       "      <th>F3</th>\n",
       "      <th>F4</th>\n",
       "      <th>F5</th>\n",
       "      <th>F6</th>\n",
       "      <th>F7</th>\n",
       "      <th>F8</th>\n",
       "      <th>F9</th>\n",
       "      <th>F10</th>\n",
       "      <th>...</th>\n",
       "      <th>F12</th>\n",
       "      <th>F13</th>\n",
       "      <th>F14</th>\n",
       "      <th>F15</th>\n",
       "      <th>F16</th>\n",
       "      <th>F17</th>\n",
       "      <th>F18</th>\n",
       "      <th>F19</th>\n",
       "      <th>F20</th>\n",
       "      <th>F21</th>\n",
       "    </tr>\n",
       "  </thead>\n",
       "  <tbody>\n",
       "    <tr>\n",
       "      <th>0</th>\n",
       "      <td>0.430263</td>\n",
       "      <td>0.0</td>\n",
       "      <td>0.458509</td>\n",
       "      <td>0.178002</td>\n",
       "      <td>0.688904</td>\n",
       "      <td>0.0</td>\n",
       "      <td>0.879999</td>\n",
       "      <td>0.534482</td>\n",
       "      <td>0.610313</td>\n",
       "      <td>0.659345</td>\n",
       "      <td>...</td>\n",
       "      <td>0.018855</td>\n",
       "      <td>0.757940</td>\n",
       "      <td>0.934917</td>\n",
       "      <td>0.268235</td>\n",
       "      <td>0.794811</td>\n",
       "      <td>0.005320</td>\n",
       "      <td>0.623171</td>\n",
       "      <td>0.0</td>\n",
       "      <td>0.406715</td>\n",
       "      <td>0.478708</td>\n",
       "    </tr>\n",
       "    <tr>\n",
       "      <th>1</th>\n",
       "      <td>0.397952</td>\n",
       "      <td>1.0</td>\n",
       "      <td>0.463093</td>\n",
       "      <td>0.101399</td>\n",
       "      <td>0.766381</td>\n",
       "      <td>0.0</td>\n",
       "      <td>0.510141</td>\n",
       "      <td>0.102376</td>\n",
       "      <td>0.657881</td>\n",
       "      <td>0.660983</td>\n",
       "      <td>...</td>\n",
       "      <td>0.130338</td>\n",
       "      <td>0.630318</td>\n",
       "      <td>0.934755</td>\n",
       "      <td>0.062678</td>\n",
       "      <td>0.571660</td>\n",
       "      <td>0.000938</td>\n",
       "      <td>0.661135</td>\n",
       "      <td>0.0</td>\n",
       "      <td>0.414968</td>\n",
       "      <td>0.480176</td>\n",
       "    </tr>\n",
       "    <tr>\n",
       "      <th>2</th>\n",
       "      <td>0.450088</td>\n",
       "      <td>0.0</td>\n",
       "      <td>0.477029</td>\n",
       "      <td>0.253969</td>\n",
       "      <td>0.872950</td>\n",
       "      <td>1.0</td>\n",
       "      <td>0.700180</td>\n",
       "      <td>0.076893</td>\n",
       "      <td>0.916399</td>\n",
       "      <td>0.657029</td>\n",
       "      <td>...</td>\n",
       "      <td>0.546800</td>\n",
       "      <td>0.562163</td>\n",
       "      <td>0.934247</td>\n",
       "      <td>0.122805</td>\n",
       "      <td>0.586153</td>\n",
       "      <td>0.138089</td>\n",
       "      <td>0.659697</td>\n",
       "      <td>1.0</td>\n",
       "      <td>0.418899</td>\n",
       "      <td>NaN</td>\n",
       "    </tr>\n",
       "  </tbody>\n",
       "</table>\n",
       "<p>3 rows × 21 columns</p>\n",
       "</div>"
      ],
      "text/plain": [
       "         F1   F2        F3        F4        F5   F6        F7        F8  \\\n",
       "0  0.430263  0.0  0.458509  0.178002  0.688904  0.0  0.879999  0.534482   \n",
       "1  0.397952  1.0  0.463093  0.101399  0.766381  0.0  0.510141  0.102376   \n",
       "2  0.450088  0.0  0.477029  0.253969  0.872950  1.0  0.700180  0.076893   \n",
       "\n",
       "         F9       F10  ...       F12       F13       F14       F15       F16  \\\n",
       "0  0.610313  0.659345  ...  0.018855  0.757940  0.934917  0.268235  0.794811   \n",
       "1  0.657881  0.660983  ...  0.130338  0.630318  0.934755  0.062678  0.571660   \n",
       "2  0.916399  0.657029  ...  0.546800  0.562163  0.934247  0.122805  0.586153   \n",
       "\n",
       "        F17       F18  F19       F20       F21  \n",
       "0  0.005320  0.623171  0.0  0.406715  0.478708  \n",
       "1  0.000938  0.661135  0.0  0.414968  0.480176  \n",
       "2  0.138089  0.659697  1.0  0.418899       NaN  \n",
       "\n",
       "[3 rows x 21 columns]"
      ]
     },
     "execution_count": 603,
     "metadata": {},
     "output_type": "execute_result"
    }
   ],
   "source": [
    "#feature scaling\n",
    "min_max_scaler = MinMaxScaler()\n",
    "x_scaled_minmax = min_max_scaler.fit_transform(df_data)\n",
    "df_data = pd.DataFrame(x_scaled_minmax, columns = df_data.columns)\n",
    "\n",
    "df_data.head(3)"
   ]
  },
  {
   "cell_type": "code",
   "execution_count": 604,
   "metadata": {},
   "outputs": [
    {
     "data": {
      "text/html": [
       "<div>\n",
       "<style scoped>\n",
       "    .dataframe tbody tr th:only-of-type {\n",
       "        vertical-align: middle;\n",
       "    }\n",
       "\n",
       "    .dataframe tbody tr th {\n",
       "        vertical-align: top;\n",
       "    }\n",
       "\n",
       "    .dataframe thead th {\n",
       "        text-align: right;\n",
       "    }\n",
       "</style>\n",
       "<table border=\"1\" class=\"dataframe\">\n",
       "  <thead>\n",
       "    <tr style=\"text-align: right;\">\n",
       "      <th></th>\n",
       "      <th>F1</th>\n",
       "      <th>F2</th>\n",
       "      <th>F3</th>\n",
       "      <th>F4</th>\n",
       "      <th>F5</th>\n",
       "      <th>F6</th>\n",
       "      <th>F7</th>\n",
       "      <th>F8</th>\n",
       "      <th>F9</th>\n",
       "      <th>F10</th>\n",
       "      <th>...</th>\n",
       "      <th>F12</th>\n",
       "      <th>F13</th>\n",
       "      <th>F14</th>\n",
       "      <th>F15</th>\n",
       "      <th>F16</th>\n",
       "      <th>F17</th>\n",
       "      <th>F18</th>\n",
       "      <th>F19</th>\n",
       "      <th>F20</th>\n",
       "      <th>F21</th>\n",
       "    </tr>\n",
       "  </thead>\n",
       "  <tbody>\n",
       "    <tr>\n",
       "      <th>0</th>\n",
       "      <td>0.333243</td>\n",
       "      <td>1.0</td>\n",
       "      <td>0.586530</td>\n",
       "      <td>0.419569</td>\n",
       "      <td>0.961831</td>\n",
       "      <td>0.0</td>\n",
       "      <td>0.984887</td>\n",
       "      <td>0.888647</td>\n",
       "      <td>0.843789</td>\n",
       "      <td>0.682059</td>\n",
       "      <td>...</td>\n",
       "      <td>0.034285</td>\n",
       "      <td>0.825671</td>\n",
       "      <td>0.477498</td>\n",
       "      <td>0.014013</td>\n",
       "      <td>0.249729</td>\n",
       "      <td>0.070760</td>\n",
       "      <td>0.550625</td>\n",
       "      <td>0.0</td>\n",
       "      <td>0.338729</td>\n",
       "      <td>NaN</td>\n",
       "    </tr>\n",
       "    <tr>\n",
       "      <th>1</th>\n",
       "      <td>0.524980</td>\n",
       "      <td>0.0</td>\n",
       "      <td>0.554938</td>\n",
       "      <td>0.044421</td>\n",
       "      <td>0.936611</td>\n",
       "      <td>1.0</td>\n",
       "      <td>0.955159</td>\n",
       "      <td>0.535072</td>\n",
       "      <td>0.951501</td>\n",
       "      <td>0.537601</td>\n",
       "      <td>...</td>\n",
       "      <td>0.169789</td>\n",
       "      <td>0.736409</td>\n",
       "      <td>0.478026</td>\n",
       "      <td>0.084626</td>\n",
       "      <td>0.439639</td>\n",
       "      <td>0.037531</td>\n",
       "      <td>0.459755</td>\n",
       "      <td>1.0</td>\n",
       "      <td>0.268649</td>\n",
       "      <td>NaN</td>\n",
       "    </tr>\n",
       "    <tr>\n",
       "      <th>2</th>\n",
       "      <td>0.503438</td>\n",
       "      <td>0.0</td>\n",
       "      <td>0.602016</td>\n",
       "      <td>0.359815</td>\n",
       "      <td>0.562842</td>\n",
       "      <td>0.0</td>\n",
       "      <td>0.529213</td>\n",
       "      <td>0.532380</td>\n",
       "      <td>0.830289</td>\n",
       "      <td>0.642750</td>\n",
       "      <td>...</td>\n",
       "      <td>0.003325</td>\n",
       "      <td>0.930687</td>\n",
       "      <td>0.480150</td>\n",
       "      <td>0.170947</td>\n",
       "      <td>0.896988</td>\n",
       "      <td>0.017115</td>\n",
       "      <td>0.532155</td>\n",
       "      <td>0.0</td>\n",
       "      <td>0.272513</td>\n",
       "      <td>NaN</td>\n",
       "    </tr>\n",
       "  </tbody>\n",
       "</table>\n",
       "<p>3 rows × 21 columns</p>\n",
       "</div>"
      ],
      "text/plain": [
       "         F1   F2        F3        F4        F5   F6        F7        F8  \\\n",
       "0  0.333243  1.0  0.586530  0.419569  0.961831  0.0  0.984887  0.888647   \n",
       "1  0.524980  0.0  0.554938  0.044421  0.936611  1.0  0.955159  0.535072   \n",
       "2  0.503438  0.0  0.602016  0.359815  0.562842  0.0  0.529213  0.532380   \n",
       "\n",
       "         F9       F10  ...       F12       F13       F14       F15       F16  \\\n",
       "0  0.843789  0.682059  ...  0.034285  0.825671  0.477498  0.014013  0.249729   \n",
       "1  0.951501  0.537601  ...  0.169789  0.736409  0.478026  0.084626  0.439639   \n",
       "2  0.830289  0.642750  ...  0.003325  0.930687  0.480150  0.170947  0.896988   \n",
       "\n",
       "        F17       F18  F19       F20  F21  \n",
       "0  0.070760  0.550625  0.0  0.338729  NaN  \n",
       "1  0.037531  0.459755  1.0  0.268649  NaN  \n",
       "2  0.017115  0.532155  0.0  0.272513  NaN  \n",
       "\n",
       "[3 rows x 21 columns]"
      ]
     },
     "execution_count": 604,
     "metadata": {},
     "output_type": "execute_result"
    }
   ],
   "source": [
    "x_scaled_minmax_test = min_max_scaler.fit_transform(test_data)\n",
    "test_data = pd.DataFrame(x_scaled_minmax_test, columns = test_data.columns)\n",
    "\n",
    "test_data.head(3)"
   ]
  },
  {
   "cell_type": "code",
   "execution_count": 605,
   "metadata": {},
   "outputs": [
    {
     "name": "stdout",
     "output_type": "stream",
     "text": [
      "<class 'pandas.core.frame.DataFrame'>\n",
      "RangeIndex: 1000 entries, 0 to 999\n",
      "Data columns (total 21 columns):\n",
      " #   Column  Non-Null Count  Dtype  \n",
      "---  ------  --------------  -----  \n",
      " 0   F1      1000 non-null   float64\n",
      " 1   F2      1000 non-null   float64\n",
      " 2   F3      1000 non-null   float64\n",
      " 3   F4      1000 non-null   float64\n",
      " 4   F5      1000 non-null   float64\n",
      " 5   F6      1000 non-null   float64\n",
      " 6   F7      1000 non-null   float64\n",
      " 7   F8      1000 non-null   float64\n",
      " 8   F9      1000 non-null   float64\n",
      " 9   F10     1000 non-null   float64\n",
      " 10  F11     1000 non-null   float64\n",
      " 11  F12     1000 non-null   float64\n",
      " 12  F13     1000 non-null   float64\n",
      " 13  F14     1000 non-null   float64\n",
      " 14  F15     1000 non-null   float64\n",
      " 15  F16     1000 non-null   float64\n",
      " 16  F17     1000 non-null   float64\n",
      " 17  F18     1000 non-null   float64\n",
      " 18  F19     1000 non-null   float64\n",
      " 19  F20     1000 non-null   float64\n",
      " 20  F21     500 non-null    float64\n",
      "dtypes: float64(21)\n",
      "memory usage: 164.2 KB\n"
     ]
    }
   ],
   "source": [
    "df_data.info()"
   ]
  },
  {
   "cell_type": "code",
   "execution_count": 606,
   "metadata": {},
   "outputs": [
    {
     "data": {
      "text/html": [
       "<div>\n",
       "<style scoped>\n",
       "    .dataframe tbody tr th:only-of-type {\n",
       "        vertical-align: middle;\n",
       "    }\n",
       "\n",
       "    .dataframe tbody tr th {\n",
       "        vertical-align: top;\n",
       "    }\n",
       "\n",
       "    .dataframe thead th {\n",
       "        text-align: right;\n",
       "    }\n",
       "</style>\n",
       "<table border=\"1\" class=\"dataframe\">\n",
       "  <thead>\n",
       "    <tr style=\"text-align: right;\">\n",
       "      <th></th>\n",
       "      <th>F1</th>\n",
       "      <th>F2</th>\n",
       "      <th>F3</th>\n",
       "      <th>F4</th>\n",
       "      <th>F5</th>\n",
       "      <th>F6</th>\n",
       "      <th>F7</th>\n",
       "      <th>F8</th>\n",
       "      <th>F9</th>\n",
       "      <th>F10</th>\n",
       "      <th>...</th>\n",
       "      <th>F12</th>\n",
       "      <th>F13</th>\n",
       "      <th>F14</th>\n",
       "      <th>F15</th>\n",
       "      <th>F16</th>\n",
       "      <th>F17</th>\n",
       "      <th>F18</th>\n",
       "      <th>F19</th>\n",
       "      <th>F20</th>\n",
       "      <th>F21</th>\n",
       "    </tr>\n",
       "  </thead>\n",
       "  <tbody>\n",
       "    <tr>\n",
       "      <th>count</th>\n",
       "      <td>1000.000000</td>\n",
       "      <td>1000.000000</td>\n",
       "      <td>1000.000000</td>\n",
       "      <td>1000.000000</td>\n",
       "      <td>1000.000000</td>\n",
       "      <td>1000.000000</td>\n",
       "      <td>1000.000000</td>\n",
       "      <td>1000.000000</td>\n",
       "      <td>1000.000000</td>\n",
       "      <td>1000.000000</td>\n",
       "      <td>...</td>\n",
       "      <td>1000.000000</td>\n",
       "      <td>1000.000000</td>\n",
       "      <td>1000.000000</td>\n",
       "      <td>1000.000000</td>\n",
       "      <td>1000.000000</td>\n",
       "      <td>1000.000000</td>\n",
       "      <td>1000.000000</td>\n",
       "      <td>1000.000000</td>\n",
       "      <td>1000.000000</td>\n",
       "      <td>500.000000</td>\n",
       "    </tr>\n",
       "    <tr>\n",
       "      <th>mean</th>\n",
       "      <td>0.436517</td>\n",
       "      <td>0.529000</td>\n",
       "      <td>0.469995</td>\n",
       "      <td>0.221307</td>\n",
       "      <td>0.781380</td>\n",
       "      <td>0.481000</td>\n",
       "      <td>0.798117</td>\n",
       "      <td>0.795661</td>\n",
       "      <td>0.875883</td>\n",
       "      <td>0.638754</td>\n",
       "      <td>...</td>\n",
       "      <td>0.220434</td>\n",
       "      <td>0.787146</td>\n",
       "      <td>0.933322</td>\n",
       "      <td>0.205540</td>\n",
       "      <td>0.549648</td>\n",
       "      <td>0.083235</td>\n",
       "      <td>0.630384</td>\n",
       "      <td>0.507000</td>\n",
       "      <td>0.447988</td>\n",
       "      <td>0.504623</td>\n",
       "    </tr>\n",
       "    <tr>\n",
       "      <th>std</th>\n",
       "      <td>0.082258</td>\n",
       "      <td>0.499408</td>\n",
       "      <td>0.069095</td>\n",
       "      <td>0.204498</td>\n",
       "      <td>0.173477</td>\n",
       "      <td>0.499889</td>\n",
       "      <td>0.191714</td>\n",
       "      <td>0.192715</td>\n",
       "      <td>0.125776</td>\n",
       "      <td>0.060723</td>\n",
       "      <td>...</td>\n",
       "      <td>0.201248</td>\n",
       "      <td>0.201070</td>\n",
       "      <td>0.029887</td>\n",
       "      <td>0.197979</td>\n",
       "      <td>0.139382</td>\n",
       "      <td>0.115493</td>\n",
       "      <td>0.084118</td>\n",
       "      <td>0.500201</td>\n",
       "      <td>0.082841</td>\n",
       "      <td>0.156057</td>\n",
       "    </tr>\n",
       "    <tr>\n",
       "      <th>min</th>\n",
       "      <td>0.000000</td>\n",
       "      <td>0.000000</td>\n",
       "      <td>0.000000</td>\n",
       "      <td>0.000000</td>\n",
       "      <td>0.000000</td>\n",
       "      <td>0.000000</td>\n",
       "      <td>0.000000</td>\n",
       "      <td>0.000000</td>\n",
       "      <td>0.000000</td>\n",
       "      <td>0.000000</td>\n",
       "      <td>...</td>\n",
       "      <td>0.000000</td>\n",
       "      <td>0.000000</td>\n",
       "      <td>0.000000</td>\n",
       "      <td>0.000000</td>\n",
       "      <td>0.000000</td>\n",
       "      <td>0.000000</td>\n",
       "      <td>0.000000</td>\n",
       "      <td>0.000000</td>\n",
       "      <td>0.000000</td>\n",
       "      <td>0.000000</td>\n",
       "    </tr>\n",
       "    <tr>\n",
       "      <th>25%</th>\n",
       "      <td>0.403619</td>\n",
       "      <td>0.000000</td>\n",
       "      <td>0.451688</td>\n",
       "      <td>0.061854</td>\n",
       "      <td>0.674075</td>\n",
       "      <td>0.000000</td>\n",
       "      <td>0.716129</td>\n",
       "      <td>0.710316</td>\n",
       "      <td>0.841642</td>\n",
       "      <td>0.634642</td>\n",
       "      <td>...</td>\n",
       "      <td>0.065835</td>\n",
       "      <td>0.698862</td>\n",
       "      <td>0.933841</td>\n",
       "      <td>0.056862</td>\n",
       "      <td>0.461489</td>\n",
       "      <td>0.007508</td>\n",
       "      <td>0.621178</td>\n",
       "      <td>0.000000</td>\n",
       "      <td>0.413039</td>\n",
       "      <td>0.395742</td>\n",
       "    </tr>\n",
       "    <tr>\n",
       "      <th>50%</th>\n",
       "      <td>0.420327</td>\n",
       "      <td>1.000000</td>\n",
       "      <td>0.468515</td>\n",
       "      <td>0.155301</td>\n",
       "      <td>0.819185</td>\n",
       "      <td>0.000000</td>\n",
       "      <td>0.859052</td>\n",
       "      <td>0.852235</td>\n",
       "      <td>0.913428</td>\n",
       "      <td>0.652451</td>\n",
       "      <td>...</td>\n",
       "      <td>0.158303</td>\n",
       "      <td>0.850439</td>\n",
       "      <td>0.934183</td>\n",
       "      <td>0.143730</td>\n",
       "      <td>0.550747</td>\n",
       "      <td>0.040151</td>\n",
       "      <td>0.647137</td>\n",
       "      <td>1.000000</td>\n",
       "      <td>0.427081</td>\n",
       "      <td>0.511747</td>\n",
       "    </tr>\n",
       "    <tr>\n",
       "      <th>75%</th>\n",
       "      <td>0.447440</td>\n",
       "      <td>1.000000</td>\n",
       "      <td>0.488101</td>\n",
       "      <td>0.331060</td>\n",
       "      <td>0.918905</td>\n",
       "      <td>1.000000</td>\n",
       "      <td>0.939864</td>\n",
       "      <td>0.939925</td>\n",
       "      <td>0.960996</td>\n",
       "      <td>0.662288</td>\n",
       "      <td>...</td>\n",
       "      <td>0.312398</td>\n",
       "      <td>0.936684</td>\n",
       "      <td>0.934517</td>\n",
       "      <td>0.286469</td>\n",
       "      <td>0.637608</td>\n",
       "      <td>0.109922</td>\n",
       "      <td>0.662837</td>\n",
       "      <td>1.000000</td>\n",
       "      <td>0.456949</td>\n",
       "      <td>0.612335</td>\n",
       "    </tr>\n",
       "    <tr>\n",
       "      <th>max</th>\n",
       "      <td>1.000000</td>\n",
       "      <td>1.000000</td>\n",
       "      <td>1.000000</td>\n",
       "      <td>1.000000</td>\n",
       "      <td>1.000000</td>\n",
       "      <td>1.000000</td>\n",
       "      <td>1.000000</td>\n",
       "      <td>1.000000</td>\n",
       "      <td>1.000000</td>\n",
       "      <td>1.000000</td>\n",
       "      <td>...</td>\n",
       "      <td>1.000000</td>\n",
       "      <td>1.000000</td>\n",
       "      <td>1.000000</td>\n",
       "      <td>1.000000</td>\n",
       "      <td>1.000000</td>\n",
       "      <td>1.000000</td>\n",
       "      <td>1.000000</td>\n",
       "      <td>1.000000</td>\n",
       "      <td>1.000000</td>\n",
       "      <td>1.000000</td>\n",
       "    </tr>\n",
       "  </tbody>\n",
       "</table>\n",
       "<p>8 rows × 21 columns</p>\n",
       "</div>"
      ],
      "text/plain": [
       "                F1           F2           F3           F4           F5  \\\n",
       "count  1000.000000  1000.000000  1000.000000  1000.000000  1000.000000   \n",
       "mean      0.436517     0.529000     0.469995     0.221307     0.781380   \n",
       "std       0.082258     0.499408     0.069095     0.204498     0.173477   \n",
       "min       0.000000     0.000000     0.000000     0.000000     0.000000   \n",
       "25%       0.403619     0.000000     0.451688     0.061854     0.674075   \n",
       "50%       0.420327     1.000000     0.468515     0.155301     0.819185   \n",
       "75%       0.447440     1.000000     0.488101     0.331060     0.918905   \n",
       "max       1.000000     1.000000     1.000000     1.000000     1.000000   \n",
       "\n",
       "                F6           F7           F8           F9          F10  ...  \\\n",
       "count  1000.000000  1000.000000  1000.000000  1000.000000  1000.000000  ...   \n",
       "mean      0.481000     0.798117     0.795661     0.875883     0.638754  ...   \n",
       "std       0.499889     0.191714     0.192715     0.125776     0.060723  ...   \n",
       "min       0.000000     0.000000     0.000000     0.000000     0.000000  ...   \n",
       "25%       0.000000     0.716129     0.710316     0.841642     0.634642  ...   \n",
       "50%       0.000000     0.859052     0.852235     0.913428     0.652451  ...   \n",
       "75%       1.000000     0.939864     0.939925     0.960996     0.662288  ...   \n",
       "max       1.000000     1.000000     1.000000     1.000000     1.000000  ...   \n",
       "\n",
       "               F12          F13          F14          F15          F16  \\\n",
       "count  1000.000000  1000.000000  1000.000000  1000.000000  1000.000000   \n",
       "mean      0.220434     0.787146     0.933322     0.205540     0.549648   \n",
       "std       0.201248     0.201070     0.029887     0.197979     0.139382   \n",
       "min       0.000000     0.000000     0.000000     0.000000     0.000000   \n",
       "25%       0.065835     0.698862     0.933841     0.056862     0.461489   \n",
       "50%       0.158303     0.850439     0.934183     0.143730     0.550747   \n",
       "75%       0.312398     0.936684     0.934517     0.286469     0.637608   \n",
       "max       1.000000     1.000000     1.000000     1.000000     1.000000   \n",
       "\n",
       "               F17          F18          F19          F20         F21  \n",
       "count  1000.000000  1000.000000  1000.000000  1000.000000  500.000000  \n",
       "mean      0.083235     0.630384     0.507000     0.447988    0.504623  \n",
       "std       0.115493     0.084118     0.500201     0.082841    0.156057  \n",
       "min       0.000000     0.000000     0.000000     0.000000    0.000000  \n",
       "25%       0.007508     0.621178     0.000000     0.413039    0.395742  \n",
       "50%       0.040151     0.647137     1.000000     0.427081    0.511747  \n",
       "75%       0.109922     0.662837     1.000000     0.456949    0.612335  \n",
       "max       1.000000     1.000000     1.000000     1.000000    1.000000  \n",
       "\n",
       "[8 rows x 21 columns]"
      ]
     },
     "execution_count": 606,
     "metadata": {},
     "output_type": "execute_result"
    }
   ],
   "source": [
    "df_data.describe()"
   ]
  },
  {
   "cell_type": "code",
   "execution_count": 607,
   "metadata": {},
   "outputs": [
    {
     "data": {
      "text/plain": [
       "F1       0\n",
       "F2       0\n",
       "F3       0\n",
       "F4       0\n",
       "F5       0\n",
       "F6       0\n",
       "F7       0\n",
       "F8       0\n",
       "F9       0\n",
       "F10      0\n",
       "F11      0\n",
       "F12      0\n",
       "F13      0\n",
       "F14      0\n",
       "F15      0\n",
       "F16      0\n",
       "F17      0\n",
       "F18      0\n",
       "F19      0\n",
       "F20      0\n",
       "F21    500\n",
       "dtype: int64"
      ]
     },
     "execution_count": 607,
     "metadata": {},
     "output_type": "execute_result"
    }
   ],
   "source": [
    "df_data.isnull().sum()"
   ]
  },
  {
   "cell_type": "code",
   "execution_count": 608,
   "metadata": {},
   "outputs": [
    {
     "data": {
      "text/plain": [
       "F1       0\n",
       "F2       0\n",
       "F3       0\n",
       "F4       0\n",
       "F5       0\n",
       "F6       0\n",
       "F7       0\n",
       "F8       0\n",
       "F9       0\n",
       "F10      0\n",
       "F11      0\n",
       "F12      0\n",
       "F13      0\n",
       "F14      0\n",
       "F15      0\n",
       "F16      0\n",
       "F17      0\n",
       "F18      0\n",
       "F19      0\n",
       "F20      0\n",
       "F21    500\n",
       "dtype: int64"
      ]
     },
     "execution_count": 608,
     "metadata": {},
     "output_type": "execute_result"
    }
   ],
   "source": [
    "test_data.isnull().sum()"
   ]
  },
  {
   "cell_type": "code",
   "execution_count": 609,
   "metadata": {},
   "outputs": [
    {
     "data": {
      "text/plain": [
       "0.480176    8\n",
       "0.565345    6\n",
       "0.534508    5\n",
       "0.531571    5\n",
       "0.468429    4\n",
       "           ..\n",
       "0.543319    1\n",
       "0.466960    1\n",
       "0.386197    1\n",
       "0.270191    1\n",
       "0.000000    1\n",
       "Name: F21, Length: 294, dtype: int64"
      ]
     },
     "execution_count": 609,
     "metadata": {},
     "output_type": "execute_result"
    }
   ],
   "source": [
    "df_data['F21'].value_counts()"
   ]
  },
  {
   "cell_type": "code",
   "execution_count": 610,
   "metadata": {},
   "outputs": [],
   "source": [
    "#imputation method\n",
    "df_data['F21'] = df_data['F21'].replace(to_replace = np.nan, value = df_data['F21'].median()) \n",
    "test_data['F21'] = test_data['F21'].replace(to_replace = np.nan, value = test_data['F21'].median()) "
   ]
  },
  {
   "cell_type": "code",
   "execution_count": 611,
   "metadata": {},
   "outputs": [
    {
     "data": {
      "image/png": "[encoded data removed]",
      "text/plain": [
       "<Figure size 432x288 with 1 Axes>"
      ]
     },
     "metadata": {
      "needs_background": "light"
     },
     "output_type": "display_data"
    }
   ],
   "source": [
    "sns.distplot(df_data['F21']) #distribution of data using distplot\n",
    "plt.show()"
   ]
  },
  {
   "cell_type": "code",
   "execution_count": 612,
   "metadata": {},
   "outputs": [
    {
     "data": {
      "text/html": [
       "<div>\n",
       "<style scoped>\n",
       "    .dataframe tbody tr th:only-of-type {\n",
       "        vertical-align: middle;\n",
       "    }\n",
       "\n",
       "    .dataframe tbody tr th {\n",
       "        vertical-align: top;\n",
       "    }\n",
       "\n",
       "    .dataframe thead th {\n",
       "        text-align: right;\n",
       "    }\n",
       "</style>\n",
       "<table border=\"1\" class=\"dataframe\">\n",
       "  <thead>\n",
       "    <tr style=\"text-align: right;\">\n",
       "      <th></th>\n",
       "      <th>F1</th>\n",
       "      <th>F2</th>\n",
       "      <th>F3</th>\n",
       "      <th>F4</th>\n",
       "      <th>F5</th>\n",
       "      <th>F6</th>\n",
       "      <th>F7</th>\n",
       "      <th>F8</th>\n",
       "      <th>F9</th>\n",
       "      <th>F10</th>\n",
       "      <th>...</th>\n",
       "      <th>F12</th>\n",
       "      <th>F13</th>\n",
       "      <th>F14</th>\n",
       "      <th>F15</th>\n",
       "      <th>F16</th>\n",
       "      <th>F17</th>\n",
       "      <th>F18</th>\n",
       "      <th>F19</th>\n",
       "      <th>F20</th>\n",
       "      <th>F21</th>\n",
       "    </tr>\n",
       "  </thead>\n",
       "  <tbody>\n",
       "    <tr>\n",
       "      <th>count</th>\n",
       "      <td>1000.000000</td>\n",
       "      <td>1000.000000</td>\n",
       "      <td>1000.000000</td>\n",
       "      <td>1000.000000</td>\n",
       "      <td>1000.000000</td>\n",
       "      <td>1000.000000</td>\n",
       "      <td>1000.000000</td>\n",
       "      <td>1000.000000</td>\n",
       "      <td>1000.000000</td>\n",
       "      <td>1000.000000</td>\n",
       "      <td>...</td>\n",
       "      <td>1000.000000</td>\n",
       "      <td>1000.000000</td>\n",
       "      <td>1000.000000</td>\n",
       "      <td>1000.000000</td>\n",
       "      <td>1000.000000</td>\n",
       "      <td>1000.000000</td>\n",
       "      <td>1000.000000</td>\n",
       "      <td>1000.000000</td>\n",
       "      <td>1000.000000</td>\n",
       "      <td>1000.000000</td>\n",
       "    </tr>\n",
       "    <tr>\n",
       "      <th>mean</th>\n",
       "      <td>0.436517</td>\n",
       "      <td>0.529000</td>\n",
       "      <td>0.469995</td>\n",
       "      <td>0.221307</td>\n",
       "      <td>0.781380</td>\n",
       "      <td>0.481000</td>\n",
       "      <td>0.798117</td>\n",
       "      <td>0.795661</td>\n",
       "      <td>0.875883</td>\n",
       "      <td>0.638754</td>\n",
       "      <td>...</td>\n",
       "      <td>0.220434</td>\n",
       "      <td>0.787146</td>\n",
       "      <td>0.933322</td>\n",
       "      <td>0.205540</td>\n",
       "      <td>0.549648</td>\n",
       "      <td>0.083235</td>\n",
       "      <td>0.630384</td>\n",
       "      <td>0.507000</td>\n",
       "      <td>0.447988</td>\n",
       "      <td>0.508185</td>\n",
       "    </tr>\n",
       "    <tr>\n",
       "      <th>std</th>\n",
       "      <td>0.082258</td>\n",
       "      <td>0.499408</td>\n",
       "      <td>0.069095</td>\n",
       "      <td>0.204498</td>\n",
       "      <td>0.173477</td>\n",
       "      <td>0.499889</td>\n",
       "      <td>0.191714</td>\n",
       "      <td>0.192715</td>\n",
       "      <td>0.125776</td>\n",
       "      <td>0.060723</td>\n",
       "      <td>...</td>\n",
       "      <td>0.201248</td>\n",
       "      <td>0.201070</td>\n",
       "      <td>0.029887</td>\n",
       "      <td>0.197979</td>\n",
       "      <td>0.139382</td>\n",
       "      <td>0.115493</td>\n",
       "      <td>0.084118</td>\n",
       "      <td>0.500201</td>\n",
       "      <td>0.082841</td>\n",
       "      <td>0.110351</td>\n",
       "    </tr>\n",
       "    <tr>\n",
       "      <th>min</th>\n",
       "      <td>0.000000</td>\n",
       "      <td>0.000000</td>\n",
       "      <td>0.000000</td>\n",
       "      <td>0.000000</td>\n",
       "      <td>0.000000</td>\n",
       "      <td>0.000000</td>\n",
       "      <td>0.000000</td>\n",
       "      <td>0.000000</td>\n",
       "      <td>0.000000</td>\n",
       "      <td>0.000000</td>\n",
       "      <td>...</td>\n",
       "      <td>0.000000</td>\n",
       "      <td>0.000000</td>\n",
       "      <td>0.000000</td>\n",
       "      <td>0.000000</td>\n",
       "      <td>0.000000</td>\n",
       "      <td>0.000000</td>\n",
       "      <td>0.000000</td>\n",
       "      <td>0.000000</td>\n",
       "      <td>0.000000</td>\n",
       "      <td>0.000000</td>\n",
       "    </tr>\n",
       "    <tr>\n",
       "      <th>25%</th>\n",
       "      <td>0.403619</td>\n",
       "      <td>0.000000</td>\n",
       "      <td>0.451688</td>\n",
       "      <td>0.061854</td>\n",
       "      <td>0.674075</td>\n",
       "      <td>0.000000</td>\n",
       "      <td>0.716129</td>\n",
       "      <td>0.710316</td>\n",
       "      <td>0.841642</td>\n",
       "      <td>0.634642</td>\n",
       "      <td>...</td>\n",
       "      <td>0.065835</td>\n",
       "      <td>0.698862</td>\n",
       "      <td>0.933841</td>\n",
       "      <td>0.056862</td>\n",
       "      <td>0.461489</td>\n",
       "      <td>0.007508</td>\n",
       "      <td>0.621178</td>\n",
       "      <td>0.000000</td>\n",
       "      <td>0.413039</td>\n",
       "      <td>0.511564</td>\n",
       "    </tr>\n",
       "    <tr>\n",
       "      <th>50%</th>\n",
       "      <td>0.420327</td>\n",
       "      <td>1.000000</td>\n",
       "      <td>0.468515</td>\n",
       "      <td>0.155301</td>\n",
       "      <td>0.819185</td>\n",
       "      <td>0.000000</td>\n",
       "      <td>0.859052</td>\n",
       "      <td>0.852235</td>\n",
       "      <td>0.913428</td>\n",
       "      <td>0.652451</td>\n",
       "      <td>...</td>\n",
       "      <td>0.158303</td>\n",
       "      <td>0.850439</td>\n",
       "      <td>0.934183</td>\n",
       "      <td>0.143730</td>\n",
       "      <td>0.550747</td>\n",
       "      <td>0.040151</td>\n",
       "      <td>0.647137</td>\n",
       "      <td>1.000000</td>\n",
       "      <td>0.427081</td>\n",
       "      <td>0.511747</td>\n",
       "    </tr>\n",
       "    <tr>\n",
       "      <th>75%</th>\n",
       "      <td>0.447440</td>\n",
       "      <td>1.000000</td>\n",
       "      <td>0.488101</td>\n",
       "      <td>0.331060</td>\n",
       "      <td>0.918905</td>\n",
       "      <td>1.000000</td>\n",
       "      <td>0.939864</td>\n",
       "      <td>0.939925</td>\n",
       "      <td>0.960996</td>\n",
       "      <td>0.662288</td>\n",
       "      <td>...</td>\n",
       "      <td>0.312398</td>\n",
       "      <td>0.936684</td>\n",
       "      <td>0.934517</td>\n",
       "      <td>0.286469</td>\n",
       "      <td>0.637608</td>\n",
       "      <td>0.109922</td>\n",
       "      <td>0.662837</td>\n",
       "      <td>1.000000</td>\n",
       "      <td>0.456949</td>\n",
       "      <td>0.511931</td>\n",
       "    </tr>\n",
       "    <tr>\n",
       "      <th>max</th>\n",
       "      <td>1.000000</td>\n",
       "      <td>1.000000</td>\n",
       "      <td>1.000000</td>\n",
       "      <td>1.000000</td>\n",
       "      <td>1.000000</td>\n",
       "      <td>1.000000</td>\n",
       "      <td>1.000000</td>\n",
       "      <td>1.000000</td>\n",
       "      <td>1.000000</td>\n",
       "      <td>1.000000</td>\n",
       "      <td>...</td>\n",
       "      <td>1.000000</td>\n",
       "      <td>1.000000</td>\n",
       "      <td>1.000000</td>\n",
       "      <td>1.000000</td>\n",
       "      <td>1.000000</td>\n",
       "      <td>1.000000</td>\n",
       "      <td>1.000000</td>\n",
       "      <td>1.000000</td>\n",
       "      <td>1.000000</td>\n",
       "      <td>1.000000</td>\n",
       "    </tr>\n",
       "  </tbody>\n",
       "</table>\n",
       "<p>8 rows × 21 columns</p>\n",
       "</div>"
      ],
      "text/plain": [
       "                F1           F2           F3           F4           F5  \\\n",
       "count  1000.000000  1000.000000  1000.000000  1000.000000  1000.000000   \n",
       "mean      0.436517     0.529000     0.469995     0.221307     0.781380   \n",
       "std       0.082258     0.499408     0.069095     0.204498     0.173477   \n",
       "min       0.000000     0.000000     0.000000     0.000000     0.000000   \n",
       "25%       0.403619     0.000000     0.451688     0.061854     0.674075   \n",
       "50%       0.420327     1.000000     0.468515     0.155301     0.819185   \n",
       "75%       0.447440     1.000000     0.488101     0.331060     0.918905   \n",
       "max       1.000000     1.000000     1.000000     1.000000     1.000000   \n",
       "\n",
       "                F6           F7           F8           F9          F10  ...  \\\n",
       "count  1000.000000  1000.000000  1000.000000  1000.000000  1000.000000  ...   \n",
       "mean      0.481000     0.798117     0.795661     0.875883     0.638754  ...   \n",
       "std       0.499889     0.191714     0.192715     0.125776     0.060723  ...   \n",
       "min       0.000000     0.000000     0.000000     0.000000     0.000000  ...   \n",
       "25%       0.000000     0.716129     0.710316     0.841642     0.634642  ...   \n",
       "50%       0.000000     0.859052     0.852235     0.913428     0.652451  ...   \n",
       "75%       1.000000     0.939864     0.939925     0.960996     0.662288  ...   \n",
       "max       1.000000     1.000000     1.000000     1.000000     1.000000  ...   \n",
       "\n",
       "               F12          F13          F14          F15          F16  \\\n",
       "count  1000.000000  1000.000000  1000.000000  1000.000000  1000.000000   \n",
       "mean      0.220434     0.787146     0.933322     0.205540     0.549648   \n",
       "std       0.201248     0.201070     0.029887     0.197979     0.139382   \n",
       "min       0.000000     0.000000     0.000000     0.000000     0.000000   \n",
       "25%       0.065835     0.698862     0.933841     0.056862     0.461489   \n",
       "50%       0.158303     0.850439     0.934183     0.143730     0.550747   \n",
       "75%       0.312398     0.936684     0.934517     0.286469     0.637608   \n",
       "max       1.000000     1.000000     1.000000     1.000000     1.000000   \n",
       "\n",
       "               F17          F18          F19          F20          F21  \n",
       "count  1000.000000  1000.000000  1000.000000  1000.000000  1000.000000  \n",
       "mean      0.083235     0.630384     0.507000     0.447988     0.508185  \n",
       "std       0.115493     0.084118     0.500201     0.082841     0.110351  \n",
       "min       0.000000     0.000000     0.000000     0.000000     0.000000  \n",
       "25%       0.007508     0.621178     0.000000     0.413039     0.511564  \n",
       "50%       0.040151     0.647137     1.000000     0.427081     0.511747  \n",
       "75%       0.109922     0.662837     1.000000     0.456949     0.511931  \n",
       "max       1.000000     1.000000     1.000000     1.000000     1.000000  \n",
       "\n",
       "[8 rows x 21 columns]"
      ]
     },
     "execution_count": 612,
     "metadata": {},
     "output_type": "execute_result"
    }
   ],
   "source": [
    "df_data.describe()"
   ]
  },
  {
   "cell_type": "code",
   "execution_count": 613,
   "metadata": {},
   "outputs": [
    {
     "data": {
      "text/html": [
       "<div>\n",
       "<style scoped>\n",
       "    .dataframe tbody tr th:only-of-type {\n",
       "        vertical-align: middle;\n",
       "    }\n",
       "\n",
       "    .dataframe tbody tr th {\n",
       "        vertical-align: top;\n",
       "    }\n",
       "\n",
       "    .dataframe thead th {\n",
       "        text-align: right;\n",
       "    }\n",
       "</style>\n",
       "<table border=\"1\" class=\"dataframe\">\n",
       "  <thead>\n",
       "    <tr style=\"text-align: right;\">\n",
       "      <th></th>\n",
       "      <th>F1</th>\n",
       "      <th>F2</th>\n",
       "      <th>F3</th>\n",
       "      <th>F4</th>\n",
       "      <th>F5</th>\n",
       "      <th>F6</th>\n",
       "      <th>F7</th>\n",
       "      <th>F8</th>\n",
       "      <th>F9</th>\n",
       "      <th>F10</th>\n",
       "      <th>...</th>\n",
       "      <th>F12</th>\n",
       "      <th>F13</th>\n",
       "      <th>F14</th>\n",
       "      <th>F15</th>\n",
       "      <th>F16</th>\n",
       "      <th>F17</th>\n",
       "      <th>F18</th>\n",
       "      <th>F19</th>\n",
       "      <th>F20</th>\n",
       "      <th>F21</th>\n",
       "    </tr>\n",
       "  </thead>\n",
       "  <tbody>\n",
       "    <tr>\n",
       "      <th>count</th>\n",
       "      <td>1000.000000</td>\n",
       "      <td>1000.00000</td>\n",
       "      <td>1000.000000</td>\n",
       "      <td>1000.000000</td>\n",
       "      <td>1000.000000</td>\n",
       "      <td>1000.000000</td>\n",
       "      <td>1000.000000</td>\n",
       "      <td>1000.000000</td>\n",
       "      <td>1000.000000</td>\n",
       "      <td>1000.000000</td>\n",
       "      <td>...</td>\n",
       "      <td>1000.000000</td>\n",
       "      <td>1000.000000</td>\n",
       "      <td>1000.000000</td>\n",
       "      <td>1000.000000</td>\n",
       "      <td>1000.000000</td>\n",
       "      <td>1000.000000</td>\n",
       "      <td>1000.000000</td>\n",
       "      <td>1000.000000</td>\n",
       "      <td>1000.000000</td>\n",
       "      <td>1000.000000</td>\n",
       "    </tr>\n",
       "    <tr>\n",
       "      <th>mean</th>\n",
       "      <td>0.485448</td>\n",
       "      <td>0.50000</td>\n",
       "      <td>0.563785</td>\n",
       "      <td>0.219512</td>\n",
       "      <td>0.758868</td>\n",
       "      <td>0.515000</td>\n",
       "      <td>0.799753</td>\n",
       "      <td>0.791540</td>\n",
       "      <td>0.854394</td>\n",
       "      <td>0.613052</td>\n",
       "      <td>...</td>\n",
       "      <td>0.207139</td>\n",
       "      <td>0.793932</td>\n",
       "      <td>0.480030</td>\n",
       "      <td>0.207150</td>\n",
       "      <td>0.516006</td>\n",
       "      <td>0.077052</td>\n",
       "      <td>0.520436</td>\n",
       "      <td>0.511000</td>\n",
       "      <td>0.301614</td>\n",
       "      <td>0.398886</td>\n",
       "    </tr>\n",
       "    <tr>\n",
       "      <th>std</th>\n",
       "      <td>0.065512</td>\n",
       "      <td>0.50025</td>\n",
       "      <td>0.080986</td>\n",
       "      <td>0.202408</td>\n",
       "      <td>0.185102</td>\n",
       "      <td>0.500025</td>\n",
       "      <td>0.185311</td>\n",
       "      <td>0.194025</td>\n",
       "      <td>0.145224</td>\n",
       "      <td>0.086227</td>\n",
       "      <td>...</td>\n",
       "      <td>0.190693</td>\n",
       "      <td>0.198661</td>\n",
       "      <td>0.035851</td>\n",
       "      <td>0.196033</td>\n",
       "      <td>0.157056</td>\n",
       "      <td>0.113619</td>\n",
       "      <td>0.081049</td>\n",
       "      <td>0.500129</td>\n",
       "      <td>0.081295</td>\n",
       "      <td>0.101357</td>\n",
       "    </tr>\n",
       "    <tr>\n",
       "      <th>min</th>\n",
       "      <td>0.000000</td>\n",
       "      <td>0.00000</td>\n",
       "      <td>0.000000</td>\n",
       "      <td>0.000000</td>\n",
       "      <td>0.000000</td>\n",
       "      <td>0.000000</td>\n",
       "      <td>0.000000</td>\n",
       "      <td>0.000000</td>\n",
       "      <td>0.000000</td>\n",
       "      <td>0.000000</td>\n",
       "      <td>...</td>\n",
       "      <td>0.000000</td>\n",
       "      <td>0.000000</td>\n",
       "      <td>0.000000</td>\n",
       "      <td>0.000000</td>\n",
       "      <td>0.000000</td>\n",
       "      <td>0.000000</td>\n",
       "      <td>0.000000</td>\n",
       "      <td>0.000000</td>\n",
       "      <td>0.000000</td>\n",
       "      <td>0.000000</td>\n",
       "    </tr>\n",
       "    <tr>\n",
       "      <th>25%</th>\n",
       "      <td>0.460925</td>\n",
       "      <td>0.00000</td>\n",
       "      <td>0.539732</td>\n",
       "      <td>0.063681</td>\n",
       "      <td>0.647143</td>\n",
       "      <td>0.000000</td>\n",
       "      <td>0.720820</td>\n",
       "      <td>0.688191</td>\n",
       "      <td>0.800756</td>\n",
       "      <td>0.602588</td>\n",
       "      <td>...</td>\n",
       "      <td>0.061266</td>\n",
       "      <td>0.718807</td>\n",
       "      <td>0.476224</td>\n",
       "      <td>0.060090</td>\n",
       "      <td>0.409292</td>\n",
       "      <td>0.007905</td>\n",
       "      <td>0.509626</td>\n",
       "      <td>0.000000</td>\n",
       "      <td>0.270317</td>\n",
       "      <td>0.397279</td>\n",
       "    </tr>\n",
       "    <tr>\n",
       "      <th>50%</th>\n",
       "      <td>0.474440</td>\n",
       "      <td>0.50000</td>\n",
       "      <td>0.562803</td>\n",
       "      <td>0.153608</td>\n",
       "      <td>0.803323</td>\n",
       "      <td>1.000000</td>\n",
       "      <td>0.855312</td>\n",
       "      <td>0.853446</td>\n",
       "      <td>0.901241</td>\n",
       "      <td>0.634756</td>\n",
       "      <td>...</td>\n",
       "      <td>0.150011</td>\n",
       "      <td>0.856364</td>\n",
       "      <td>0.478331</td>\n",
       "      <td>0.140419</td>\n",
       "      <td>0.513643</td>\n",
       "      <td>0.034379</td>\n",
       "      <td>0.536184</td>\n",
       "      <td>1.000000</td>\n",
       "      <td>0.283775</td>\n",
       "      <td>0.397279</td>\n",
       "    </tr>\n",
       "    <tr>\n",
       "      <th>75%</th>\n",
       "      <td>0.497850</td>\n",
       "      <td>1.00000</td>\n",
       "      <td>0.584663</td>\n",
       "      <td>0.310210</td>\n",
       "      <td>0.909383</td>\n",
       "      <td>1.000000</td>\n",
       "      <td>0.937929</td>\n",
       "      <td>0.937229</td>\n",
       "      <td>0.957885</td>\n",
       "      <td>0.650108</td>\n",
       "      <td>...</td>\n",
       "      <td>0.302700</td>\n",
       "      <td>0.940945</td>\n",
       "      <td>0.480290</td>\n",
       "      <td>0.304472</td>\n",
       "      <td>0.624413</td>\n",
       "      <td>0.100180</td>\n",
       "      <td>0.551586</td>\n",
       "      <td>1.000000</td>\n",
       "      <td>0.308191</td>\n",
       "      <td>0.397279</td>\n",
       "    </tr>\n",
       "    <tr>\n",
       "      <th>max</th>\n",
       "      <td>1.000000</td>\n",
       "      <td>1.00000</td>\n",
       "      <td>1.000000</td>\n",
       "      <td>1.000000</td>\n",
       "      <td>1.000000</td>\n",
       "      <td>1.000000</td>\n",
       "      <td>1.000000</td>\n",
       "      <td>1.000000</td>\n",
       "      <td>1.000000</td>\n",
       "      <td>1.000000</td>\n",
       "      <td>...</td>\n",
       "      <td>1.000000</td>\n",
       "      <td>1.000000</td>\n",
       "      <td>1.000000</td>\n",
       "      <td>1.000000</td>\n",
       "      <td>1.000000</td>\n",
       "      <td>1.000000</td>\n",
       "      <td>1.000000</td>\n",
       "      <td>1.000000</td>\n",
       "      <td>1.000000</td>\n",
       "      <td>1.000000</td>\n",
       "    </tr>\n",
       "  </tbody>\n",
       "</table>\n",
       "<p>8 rows × 21 columns</p>\n",
       "</div>"
      ],
      "text/plain": [
       "                F1          F2           F3           F4           F5  \\\n",
       "count  1000.000000  1000.00000  1000.000000  1000.000000  1000.000000   \n",
       "mean      0.485448     0.50000     0.563785     0.219512     0.758868   \n",
       "std       0.065512     0.50025     0.080986     0.202408     0.185102   \n",
       "min       0.000000     0.00000     0.000000     0.000000     0.000000   \n",
       "25%       0.460925     0.00000     0.539732     0.063681     0.647143   \n",
       "50%       0.474440     0.50000     0.562803     0.153608     0.803323   \n",
       "75%       0.497850     1.00000     0.584663     0.310210     0.909383   \n",
       "max       1.000000     1.00000     1.000000     1.000000     1.000000   \n",
       "\n",
       "                F6           F7           F8           F9          F10  ...  \\\n",
       "count  1000.000000  1000.000000  1000.000000  1000.000000  1000.000000  ...   \n",
       "mean      0.515000     0.799753     0.791540     0.854394     0.613052  ...   \n",
       "std       0.500025     0.185311     0.194025     0.145224     0.086227  ...   \n",
       "min       0.000000     0.000000     0.000000     0.000000     0.000000  ...   \n",
       "25%       0.000000     0.720820     0.688191     0.800756     0.602588  ...   \n",
       "50%       1.000000     0.855312     0.853446     0.901241     0.634756  ...   \n",
       "75%       1.000000     0.937929     0.937229     0.957885     0.650108  ...   \n",
       "max       1.000000     1.000000     1.000000     1.000000     1.000000  ...   \n",
       "\n",
       "               F12          F13          F14          F15          F16  \\\n",
       "count  1000.000000  1000.000000  1000.000000  1000.000000  1000.000000   \n",
       "mean      0.207139     0.793932     0.480030     0.207150     0.516006   \n",
       "std       0.190693     0.198661     0.035851     0.196033     0.157056   \n",
       "min       0.000000     0.000000     0.000000     0.000000     0.000000   \n",
       "25%       0.061266     0.718807     0.476224     0.060090     0.409292   \n",
       "50%       0.150011     0.856364     0.478331     0.140419     0.513643   \n",
       "75%       0.302700     0.940945     0.480290     0.304472     0.624413   \n",
       "max       1.000000     1.000000     1.000000     1.000000     1.000000   \n",
       "\n",
       "               F17          F18          F19          F20          F21  \n",
       "count  1000.000000  1000.000000  1000.000000  1000.000000  1000.000000  \n",
       "mean      0.077052     0.520436     0.511000     0.301614     0.398886  \n",
       "std       0.113619     0.081049     0.500129     0.081295     0.101357  \n",
       "min       0.000000     0.000000     0.000000     0.000000     0.000000  \n",
       "25%       0.007905     0.509626     0.000000     0.270317     0.397279  \n",
       "50%       0.034379     0.536184     1.000000     0.283775     0.397279  \n",
       "75%       0.100180     0.551586     1.000000     0.308191     0.397279  \n",
       "max       1.000000     1.000000     1.000000     1.000000     1.000000  \n",
       "\n",
       "[8 rows x 21 columns]"
      ]
     },
     "execution_count": 613,
     "metadata": {},
     "output_type": "execute_result"
    }
   ],
   "source": [
    "test_data.describe()"
   ]
  },
  {
   "cell_type": "code",
   "execution_count": 614,
   "metadata": {
    "scrolled": true
   },
   "outputs": [
    {
     "data": {
      "text/plain": [
       "F1     974\n",
       "F2       2\n",
       "F3     980\n",
       "F4     942\n",
       "F5     943\n",
       "F6       2\n",
       "F7     948\n",
       "F8     936\n",
       "F9     947\n",
       "F10    983\n",
       "F11    979\n",
       "F12    955\n",
       "F13    946\n",
       "F14    985\n",
       "F15    951\n",
       "F16    982\n",
       "F17    973\n",
       "F18    973\n",
       "F19      2\n",
       "F20    976\n",
       "F21    295\n",
       "dtype: int64"
      ]
     },
     "execution_count": 614,
     "metadata": {},
     "output_type": "execute_result"
    }
   ],
   "source": [
    "df_data.nunique()"
   ]
  },
  {
   "cell_type": "code",
   "execution_count": 615,
   "metadata": {},
   "outputs": [
    {
     "data": {
      "text/plain": [
       "F1     979\n",
       "F2       2\n",
       "F3     975\n",
       "F4     961\n",
       "F5     941\n",
       "F6       2\n",
       "F7     955\n",
       "F8     950\n",
       "F9     946\n",
       "F10    978\n",
       "F11    977\n",
       "F12    930\n",
       "F13    950\n",
       "F14    977\n",
       "F15    952\n",
       "F16    974\n",
       "F17    976\n",
       "F18    972\n",
       "F19      2\n",
       "F20    980\n",
       "F21    278\n",
       "dtype: int64"
      ]
     },
     "execution_count": 615,
     "metadata": {},
     "output_type": "execute_result"
    }
   ],
   "source": [
    "test_data.nunique()"
   ]
  },
  {
   "cell_type": "code",
   "execution_count": 616,
   "metadata": {},
   "outputs": [
    {
     "data": {
      "text/plain": [
       "0"
      ]
     },
     "execution_count": 616,
     "metadata": {},
     "output_type": "execute_result"
    }
   ],
   "source": [
    "df_data.duplicated().sum()"
   ]
  },
  {
   "cell_type": "code",
   "execution_count": 617,
   "metadata": {},
   "outputs": [
    {
     "data": {
      "text/plain": [
       "0"
      ]
     },
     "execution_count": 617,
     "metadata": {},
     "output_type": "execute_result"
    }
   ],
   "source": [
    "test_data.duplicated().sum()"
   ]
  },
  {
   "cell_type": "markdown",
   "metadata": {},
   "source": [
    "## Feature Selection\n",
    "\n",
    "The below heat map shows the corelation of different columns with eachother. A heatmap often helps to view the corelation as seen above. Looking at the above heatmap we can conclude that which attributes or columns are corelated and and can be removed to get a better shaped dataset."
   ]
  },
  {
   "cell_type": "code",
   "execution_count": 739,
   "metadata": {},
   "outputs": [
    {
     "data": {
      "text/plain": [
       "<matplotlib.axes._subplots.AxesSubplot at 0x29f5d05d488>"
      ]
     },
     "execution_count": 739,
     "metadata": {},
     "output_type": "execute_result"
    },
    {
     "data": {
      "image/png": "[encoded data removed]",
      "text/plain": [
       "<Figure size 5760x2880 with 2 Axes>"
      ]
     },
     "metadata": {
      "needs_background": "light"
     },
     "output_type": "display_data"
    }
   ],
   "source": [
    "fig, ax = plt.subplots(figsize=(80,40))         # Sample figsize in inches\n",
    "correlation = df_data.corr()\n",
    "sns.heatmap(correlation, xticklabels=correlation.columns, yticklabels=correlation.columns, linewidths=.5, annot=True, ax=ax)"
   ]
  },
  {
   "cell_type": "code",
   "execution_count": 620,
   "metadata": {},
   "outputs": [
    {
     "data": {
      "text/plain": [
       "<matplotlib.axes._subplots.AxesSubplot at 0x29f4a307708>"
      ]
     },
     "execution_count": 620,
     "metadata": {},
     "output_type": "execute_result"
    },
    {
     "data": {
      "image/png": "[encoded data removed]",
      "text/plain": [
       "<Figure size 432x288 with 1 Axes>"
      ]
     },
     "metadata": {
      "needs_background": "light"
     },
     "output_type": "display_data"
    }
   ],
   "source": [
    "df_data[\"F19\"].hist()  #looking for the pattern in random columns"
   ]
  },
  {
   "cell_type": "code",
   "execution_count": 621,
   "metadata": {},
   "outputs": [
    {
     "data": {
      "text/plain": [
       "<matplotlib.axes._subplots.AxesSubplot at 0x29f4a2e72c8>"
      ]
     },
     "execution_count": 621,
     "metadata": {},
     "output_type": "execute_result"
    },
    {
     "data": {
      "image/png": "[encoded data removed]",
      "text/plain": [
       "<Figure size 432x288 with 1 Axes>"
      ]
     },
     "metadata": {
      "needs_background": "light"
     },
     "output_type": "display_data"
    }
   ],
   "source": [
    "df_data[\"F2\"].hist() #looking for the pattern in random columns"
   ]
  },
  {
   "cell_type": "code",
   "execution_count": 622,
   "metadata": {},
   "outputs": [
    {
     "data": {
      "text/plain": [
       "<matplotlib.axes._subplots.AxesSubplot at 0x29f4a31cc88>"
      ]
     },
     "execution_count": 622,
     "metadata": {},
     "output_type": "execute_result"
    },
    {
     "data": {
      "image/png": "[encoded data removed]",
      "text/plain": [
       "<Figure size 432x288 with 1 Axes>"
      ]
     },
     "metadata": {
      "needs_background": "light"
     },
     "output_type": "display_data"
    }
   ],
   "source": [
    "df_data[\"F6\"].hist() #looking for the pattern in random columns"
   ]
  },
  {
   "cell_type": "code",
   "execution_count": 623,
   "metadata": {
    "scrolled": true
   },
   "outputs": [
    {
     "data": {
      "image/png": "[encoded data removed]",
      "text/plain": [
       "<Figure size 432x288 with 1 Axes>"
      ]
     },
     "metadata": {
      "needs_background": "light"
     },
     "output_type": "display_data"
    }
   ],
   "source": [
    "#looking for the pattern in random columns to get better understing of data points distribution\n",
    "\n",
    "df_data[[\"F19\", \"F6\", \"F2\"]].plot.hist(grid=True, rwidth=0.9)\n",
    "\n",
    "plt.grid(axis='x', alpha=0.95)\n",
    "plt.legend(loc='upper center')\n",
    "plt.show()"
   ]
  },
  {
   "cell_type": "code",
   "execution_count": 624,
   "metadata": {},
   "outputs": [
    {
     "data": {
      "text/plain": [
       "992"
      ]
     },
     "execution_count": 624,
     "metadata": {},
     "output_type": "execute_result"
    }
   ],
   "source": [
    "df_data[[\"F19\", \"F6\", \"F2\"]].duplicated().sum()"
   ]
  },
  {
   "cell_type": "code",
   "execution_count": 625,
   "metadata": {},
   "outputs": [],
   "source": [
    "drop_features = [\"F19\", \"F6\"]   #values are same so dropping features"
   ]
  },
  {
   "cell_type": "code",
   "execution_count": 626,
   "metadata": {},
   "outputs": [],
   "source": [
    "df_data = df_data.drop(columns= drop_features)\n",
    "test_data = test_data.drop(columns= drop_features)"
   ]
  },
  {
   "cell_type": "code",
   "execution_count": 627,
   "metadata": {},
   "outputs": [
    {
     "data": {
      "text/html": [
       "<div>\n",
       "<style scoped>\n",
       "    .dataframe tbody tr th:only-of-type {\n",
       "        vertical-align: middle;\n",
       "    }\n",
       "\n",
       "    .dataframe tbody tr th {\n",
       "        vertical-align: top;\n",
       "    }\n",
       "\n",
       "    .dataframe thead th {\n",
       "        text-align: right;\n",
       "    }\n",
       "</style>\n",
       "<table border=\"1\" class=\"dataframe\">\n",
       "  <thead>\n",
       "    <tr style=\"text-align: right;\">\n",
       "      <th></th>\n",
       "      <th>F1</th>\n",
       "      <th>F2</th>\n",
       "      <th>F3</th>\n",
       "      <th>F4</th>\n",
       "      <th>F5</th>\n",
       "      <th>F7</th>\n",
       "      <th>F8</th>\n",
       "      <th>F9</th>\n",
       "      <th>F10</th>\n",
       "      <th>F11</th>\n",
       "      <th>F12</th>\n",
       "      <th>F13</th>\n",
       "      <th>F14</th>\n",
       "      <th>F15</th>\n",
       "      <th>F16</th>\n",
       "      <th>F17</th>\n",
       "      <th>F18</th>\n",
       "      <th>F20</th>\n",
       "      <th>F21</th>\n",
       "    </tr>\n",
       "  </thead>\n",
       "  <tbody>\n",
       "    <tr>\n",
       "      <th>0</th>\n",
       "      <td>0.430263</td>\n",
       "      <td>0.0</td>\n",
       "      <td>0.458509</td>\n",
       "      <td>0.178002</td>\n",
       "      <td>0.688904</td>\n",
       "      <td>0.879999</td>\n",
       "      <td>0.534482</td>\n",
       "      <td>0.610313</td>\n",
       "      <td>0.659345</td>\n",
       "      <td>0.568617</td>\n",
       "      <td>0.018855</td>\n",
       "      <td>0.757940</td>\n",
       "      <td>0.934917</td>\n",
       "      <td>0.268235</td>\n",
       "      <td>0.794811</td>\n",
       "      <td>0.005320</td>\n",
       "      <td>0.623171</td>\n",
       "      <td>0.406715</td>\n",
       "      <td>0.478708</td>\n",
       "    </tr>\n",
       "    <tr>\n",
       "      <th>1</th>\n",
       "      <td>0.397952</td>\n",
       "      <td>1.0</td>\n",
       "      <td>0.463093</td>\n",
       "      <td>0.101399</td>\n",
       "      <td>0.766381</td>\n",
       "      <td>0.510141</td>\n",
       "      <td>0.102376</td>\n",
       "      <td>0.657881</td>\n",
       "      <td>0.660983</td>\n",
       "      <td>0.473931</td>\n",
       "      <td>0.130338</td>\n",
       "      <td>0.630318</td>\n",
       "      <td>0.934755</td>\n",
       "      <td>0.062678</td>\n",
       "      <td>0.571660</td>\n",
       "      <td>0.000938</td>\n",
       "      <td>0.661135</td>\n",
       "      <td>0.414968</td>\n",
       "      <td>0.480176</td>\n",
       "    </tr>\n",
       "  </tbody>\n",
       "</table>\n",
       "</div>"
      ],
      "text/plain": [
       "         F1   F2        F3        F4        F5        F7        F8        F9  \\\n",
       "0  0.430263  0.0  0.458509  0.178002  0.688904  0.879999  0.534482  0.610313   \n",
       "1  0.397952  1.0  0.463093  0.101399  0.766381  0.510141  0.102376  0.657881   \n",
       "\n",
       "        F10       F11       F12       F13       F14       F15       F16  \\\n",
       "0  0.659345  0.568617  0.018855  0.757940  0.934917  0.268235  0.794811   \n",
       "1  0.660983  0.473931  0.130338  0.630318  0.934755  0.062678  0.571660   \n",
       "\n",
       "        F17       F18       F20       F21  \n",
       "0  0.005320  0.623171  0.406715  0.478708  \n",
       "1  0.000938  0.661135  0.414968  0.480176  "
      ]
     },
     "execution_count": 627,
     "metadata": {},
     "output_type": "execute_result"
    }
   ],
   "source": [
    "df_data.head(2)"
   ]
  },
  {
   "cell_type": "markdown",
   "metadata": {},
   "source": [
    "## Ways to Detect and Remove the Outliers"
   ]
  },
  {
   "cell_type": "code",
   "execution_count": 628,
   "metadata": {},
   "outputs": [
    {
     "data": {
      "text/plain": [
       "<matplotlib.axes._subplots.AxesSubplot at 0x29f3ea60d48>"
      ]
     },
     "execution_count": 628,
     "metadata": {},
     "output_type": "execute_result"
    },
    {
     "data": {
      "image/png": "[encoded data removed]",
      "text/plain": [
       "<Figure size 432x288 with 1 Axes>"
      ]
     },
     "metadata": {
      "needs_background": "light"
     },
     "output_type": "display_data"
    }
   ],
   "source": [
    "sns.boxplot(df_data[\"F7\"]) "
   ]
  },
  {
   "cell_type": "code",
   "execution_count": 629,
   "metadata": {},
   "outputs": [
    {
     "name": "stdout",
     "output_type": "stream",
     "text": [
      "F1     0.043821\n",
      "F2     1.000000\n",
      "F3     0.036413\n",
      "F4     0.269206\n",
      "F5     0.244831\n",
      "F7     0.223734\n",
      "F8     0.229609\n",
      "F9     0.119354\n",
      "F10    0.027646\n",
      "F11    0.031067\n",
      "F12    0.246563\n",
      "F13    0.237822\n",
      "F14    0.000675\n",
      "F15    0.229607\n",
      "F16    0.176118\n",
      "F17    0.102413\n",
      "F18    0.041659\n",
      "F20    0.043910\n",
      "F21    0.000367\n",
      "dtype: float64\n"
     ]
    }
   ],
   "source": [
    "Q1 = df_data.quantile(0.25)\n",
    "Q3 = df_data.quantile(0.75)\n",
    "IQR = Q3 - Q1\n",
    "print(IQR)"
   ]
  },
  {
   "cell_type": "markdown",
   "metadata": {},
   "source": [
    "* Flooring and Capping on the basis of Quantile"
   ]
  },
  {
   "cell_type": "code",
   "execution_count": 630,
   "metadata": {},
   "outputs": [
    {
     "name": "stdout",
     "output_type": "stream",
     "text": [
      "0.9609426133472346\n",
      "-0.11637023378466657\n",
      "-0.1588406120606657\n",
      "0.6549036818584002\n",
      "-0.43238265288894256\n",
      "-0.7703299229561444\n",
      "-0.6859189164667464\n",
      "-0.7983732224537232\n",
      "-1.0554118984400738\n",
      "1.0381892783308282\n",
      "0.6524763060137964\n",
      "-0.7454144977831638\n",
      "-0.1371343858992208\n",
      "0.7145549519901072\n",
      "-0.03161092454169097\n",
      "1.0258748403345221\n",
      "-1.0748734542492702\n",
      "1.1384745106528988\n",
      "-0.21185011944779658\n"
     ]
    }
   ],
   "source": [
    "for i in range(1, 22):\n",
    "    if \"F\" + str(i) in df_data.columns:\n",
    "        flooring = df_data[\"F\" + str(i)].quantile(0.10)\n",
    "        capping = df_data[\"F\" + str(i)].quantile(0.90)\n",
    "        df_data[\"F\" + str(i)] = np.where(df_data[\"F\" + str(i)] <flooring, flooring,df_data[\"F\" + str(i)])\n",
    "        df_data[\"F\" + str(i)] = np.where(df_data[\"F\" + str(i)] >capping, capping,df_data[\"F\" + str(i)])\n",
    "        print(df_data[\"F\" + str(i)].skew())"
   ]
  },
  {
   "cell_type": "code",
   "execution_count": 631,
   "metadata": {},
   "outputs": [
    {
     "name": "stdout",
     "output_type": "stream",
     "text": [
      "0.7263331833491848\n",
      "0.0\n",
      "0.042260288599795144\n",
      "0.7436774261660081\n",
      "-0.38855880961068673\n",
      "-0.7244160308985778\n",
      "-0.640241320395113\n",
      "-0.7858867124495577\n",
      "-0.9525269120607199\n",
      "0.6900924401064376\n",
      "0.6875858807982984\n",
      "-0.7805438111272985\n",
      "0.16467198731215807\n",
      "0.7802214110166253\n",
      "-0.020384003990030264\n",
      "1.0639347834073634\n",
      "-0.8564774331084073\n",
      "0.9628062067391421\n",
      "0.15381548378335025\n"
     ]
    }
   ],
   "source": [
    "for i in range(1, 22):\n",
    "    if \"F\" + str(i) in test_data.columns:\n",
    "        flooring = test_data[\"F\" + str(i)].quantile(0.10)\n",
    "        capping = test_data[\"F\" + str(i)].quantile(0.90)\n",
    "        test_data[\"F\" + str(i)] = np.where(test_data[\"F\" + str(i)] <flooring, flooring,test_data[\"F\" + str(i)])\n",
    "        test_data[\"F\" + str(i)] = np.where(test_data[\"F\" + str(i)] >capping, capping,test_data[\"F\" + str(i)])\n",
    "        print(test_data[\"F\" + str(i)].skew())"
   ]
  },
  {
   "cell_type": "code",
   "execution_count": 632,
   "metadata": {},
   "outputs": [
    {
     "data": {
      "text/plain": [
       "<matplotlib.axes._subplots.AxesSubplot at 0x29f37af8d08>"
      ]
     },
     "execution_count": 632,
     "metadata": {},
     "output_type": "execute_result"
    },
    {
     "data": {
      "image/png": "[encoded data removed]",
      "text/plain": [
       "<Figure size 432x288 with 1 Axes>"
      ]
     },
     "metadata": {
      "needs_background": "light"
     },
     "output_type": "display_data"
    }
   ],
   "source": [
    "sns.boxplot(df_data[\"F3\"]) "
   ]
  },
  {
   "cell_type": "code",
   "execution_count": 633,
   "metadata": {},
   "outputs": [
    {
     "data": {
      "text/plain": [
       "<matplotlib.axes._subplots.AxesSubplot at 0x29f4e9fbec8>"
      ]
     },
     "execution_count": 633,
     "metadata": {},
     "output_type": "execute_result"
    },
    {
     "data": {
      "image/png": "[encoded data removed]",
      "text/plain": [
       "<Figure size 432x288 with 1 Axes>"
      ]
     },
     "metadata": {
      "needs_background": "light"
     },
     "output_type": "display_data"
    }
   ],
   "source": [
    "sns.boxplot(df_data[\"F7\"])"
   ]
  },
  {
   "cell_type": "code",
   "execution_count": 634,
   "metadata": {},
   "outputs": [
    {
     "data": {
      "text/plain": [
       "<matplotlib.axes._subplots.AxesSubplot at 0x29f4ea769c8>"
      ]
     },
     "execution_count": 634,
     "metadata": {},
     "output_type": "execute_result"
    },
    {
     "data": {
      "image/png": "[encoded data removed]",
      "text/plain": [
       "<Figure size 432x288 with 1 Axes>"
      ]
     },
     "metadata": {
      "needs_background": "light"
     },
     "output_type": "display_data"
    }
   ],
   "source": [
    "sns.boxplot(df_data[\"F13\"])"
   ]
  },
  {
   "cell_type": "markdown",
   "metadata": {},
   "source": [
    "# Training Model, Predicting & Testing Predictors"
   ]
  },
  {
   "cell_type": "markdown",
   "metadata": {},
   "source": []
  },
  {
   "cell_type": "code",
   "execution_count": 635,
   "metadata": {},
   "outputs": [],
   "source": [
    "#!pip install lightgbm"
   ]
  },
  {
   "cell_type": "code",
   "execution_count": 636,
   "metadata": {},
   "outputs": [],
   "source": [
    "import sklearn as sk\n",
    "from sklearn.linear_model import LogisticRegression\n",
    "from sklearn import svm\n",
    "from sklearn.ensemble import RandomForestClassifier\n",
    "from sklearn.neighbors import KNeighborsClassifier\n",
    "import lightgbm as lgb\n",
    "from sklearn.model_selection import train_test_split\n",
    "from sklearn import tree "
   ]
  },
  {
   "cell_type": "code",
   "execution_count": 637,
   "metadata": {},
   "outputs": [],
   "source": [
    "from sklearn.ensemble import RandomForestClassifier\n",
    "from sklearn import metrics"
   ]
  },
  {
   "cell_type": "code",
   "execution_count": 638,
   "metadata": {},
   "outputs": [],
   "source": [
    "accuracies = {}"
   ]
  },
  {
   "cell_type": "code",
   "execution_count": 639,
   "metadata": {},
   "outputs": [],
   "source": [
    "X = df_data \n",
    "\n",
    "X_train, X_test, y_train, y_test = train_test_split(X, y, test_size=.25, random_state=42)"
   ]
  },
  {
   "cell_type": "markdown",
   "metadata": {},
   "source": [
    "## 1. RandomForest Classifier"
   ]
  },
  {
   "cell_type": "code",
   "execution_count": 640,
   "metadata": {},
   "outputs": [],
   "source": [
    "clf_random_forest = RandomForestClassifier(n_estimators=100)\n",
    "clf_random_forest.fit(X_train,y_train)\n",
    "y_predr_RF = clf.predict(X_test)"
   ]
  },
  {
   "cell_type": "code",
   "execution_count": 641,
   "metadata": {},
   "outputs": [
    {
     "name": "stdout",
     "output_type": "stream",
     "text": [
      "Accuracy of Random forest Algorithm: 0.86%\n"
     ]
    }
   ],
   "source": [
    "accuracy = metrics.accuracy_score(y_test, y_predr_RF)\n",
    "\n",
    "print(\"Accuracy of Random forest Algorithm: {:.2f}%\".format(accuracy))"
   ]
  },
  {
   "cell_type": "code",
   "execution_count": 643,
   "metadata": {},
   "outputs": [],
   "source": [
    "accuracies['Random Forest'] = accuracy"
   ]
  },
  {
   "cell_type": "code",
   "execution_count": 647,
   "metadata": {},
   "outputs": [
    {
     "data": {
      "text/plain": [
       "{'Random Forest': 0.856, 'Decision Tree': 0.88}"
      ]
     },
     "execution_count": 647,
     "metadata": {},
     "output_type": "execute_result"
    }
   ],
   "source": [
    "accuracies"
   ]
  },
  {
   "cell_type": "markdown",
   "metadata": {},
   "source": [
    "## 2. Decision Tree Classifier with and without K-folds"
   ]
  },
  {
   "cell_type": "code",
   "execution_count": 663,
   "metadata": {},
   "outputs": [
    {
     "name": "stdout",
     "output_type": "stream",
     "text": [
      "Accuracy: 0.88\n"
     ]
    }
   ],
   "source": [
    "dtree = tree.DecisionTreeClassifier(criterion='entropy',max_depth=3,random_state=0)\n",
    "dtree.fit(X_train,y_train)\n",
    "y_pred_DT_entropy = dtree.predict(X_test)\n",
    "print(\"Accuracy:\", metrics.accuracy_score(y_test, y_pred_DT_entropy))"
   ]
  },
  {
   "cell_type": "code",
   "execution_count": 646,
   "metadata": {},
   "outputs": [],
   "source": [
    "accuracies['Decision Tree'] = metrics.accuracy_score(y_test, y_pred_DT_entropy)"
   ]
  },
  {
   "cell_type": "code",
   "execution_count": 677,
   "metadata": {},
   "outputs": [
    {
     "data": {
      "text/plain": [
       "array([False, False,  True,  True, False,  True, False,  True, False,\n",
       "       False,  True,  True,  True,  True, False, False,  True, False,\n",
       "       False, False,  True, False,  True, False,  True,  True,  True,\n",
       "       False, False, False,  True,  True, False,  True,  True,  True,\n",
       "       False,  True,  True, False,  True, False, False,  True, False,\n",
       "       False, False, False,  True, False, False, False, False, False,\n",
       "       False, False,  True, False,  True, False, False,  True, False,\n",
       "        True,  True, False, False, False,  True, False,  True,  True,\n",
       "       False,  True,  True,  True,  True,  True,  True,  True, False,\n",
       "       False,  True,  True, False, False,  True,  True,  True, False,\n",
       "        True,  True, False, False,  True,  True,  True,  True, False,\n",
       "        True, False, False, False,  True,  True,  True,  True, False,\n",
       "       False, False,  True, False,  True,  True,  True,  True, False,\n",
       "       False, False, False, False, False, False, False,  True, False,\n",
       "       False, False, False,  True, False, False,  True,  True,  True,\n",
       "       False,  True,  True, False,  True, False,  True, False,  True,\n",
       "        True, False, False,  True,  True,  True,  True, False,  True,\n",
       "        True,  True, False, False,  True, False,  True, False,  True,\n",
       "       False, False,  True,  True, False, False,  True,  True,  True,\n",
       "        True, False,  True, False,  True,  True, False,  True,  True,\n",
       "        True,  True,  True,  True,  True,  True, False,  True,  True,\n",
       "        True,  True, False, False, False, False,  True, False, False,\n",
       "        True,  True,  True,  True,  True, False, False, False, False,\n",
       "        True,  True, False, False,  True,  True,  True, False, False,\n",
       "       False,  True, False,  True, False, False, False, False, False,\n",
       "       False,  True,  True, False, False,  True,  True,  True,  True,\n",
       "       False, False, False, False, False,  True,  True,  True,  True,\n",
       "       False,  True, False, False, False,  True,  True])"
      ]
     },
     "execution_count": 677,
     "metadata": {},
     "output_type": "execute_result"
    }
   ],
   "source": [
    "y_pred_DT_entropy"
   ]
  },
  {
   "cell_type": "markdown",
   "metadata": {},
   "source": [
    "#testing k folds for decition tree"
   ]
  },
  {
   "cell_type": "code",
   "execution_count": 669,
   "metadata": {},
   "outputs": [
    {
     "name": "stdout",
     "output_type": "stream",
     "text": [
      "The cross-validation scores using cross_val_score method are \n",
      "[0.83 0.74 0.86 0.8  0.7  0.81 0.71 0.84 0.86 0.76]\n",
      "Mean of k-fold scores using cross_val_score method is 0.7909999999999999\n",
      "\n",
      "\n"
     ]
    }
   ],
   "source": [
    "#Import decision tree classification model and cross validation\n",
    "from sklearn.tree import DecisionTreeClassifier\n",
    "from sklearn.model_selection import train_test_split, KFold\n",
    "from sklearn.metrics import accuracy_score\n",
    " \n",
    "#Extract a holdout set at the very begining\n",
    "X_train_set, X_holdout, y_train_set, y_holdout = train_test_split(X, y, \n",
    "                                stratify = y, random_state = 42, test_size = .25)\n",
    " \n",
    "#Get input and output datasets values in X and Y variables\n",
    "X1 = X_train_set\n",
    "y1 = y_train_set \n",
    " \n",
    "#Initialize k-fold cross validation configurations\n",
    "kf = KFold(n_splits=5, random_state=42)\n",
    " \n",
    "scores1 = []\n",
    "dt1 = DecisionTreeClassifier(criterion='entropy', max_depth = 3, \\\n",
    "                        min_samples_leaf = 0.10, random_state = 42)\n",
    "scores1 = cross_val_score(dt1, X, y, cv = 10)\n",
    "\n",
    "print(\"The cross-validation scores using cross_val_score method are \\n{0}\".format(scores1))\n",
    "\n",
    "\n",
    "print(\"Mean of k-fold scores using cross_val_score method is {0}\".format(np.mean(scores1)))\n",
    "\n",
    "print(\"\\n\")"
   ]
  },
  {
   "cell_type": "code",
   "execution_count": 670,
   "metadata": {},
   "outputs": [
    {
     "name": "stdout",
     "output_type": "stream",
     "text": [
      "Accuracy: 0.832\n"
     ]
    }
   ],
   "source": [
    "dt1.fit(X_train_set,y_train_set)\n",
    "y_pred_DT_entropy1 = dtree.predict(X_holdout)\n",
    "print(\"Accuracy:\", metrics.accuracy_score(y_holdout, y_pred_DT_entropy1))"
   ]
  },
  {
   "cell_type": "markdown",
   "metadata": {},
   "source": [
    "## 3. Support Vector Machine [SVM]"
   ]
  },
  {
   "cell_type": "code",
   "execution_count": 672,
   "metadata": {},
   "outputs": [
    {
     "data": {
      "text/plain": [
       "0.78"
      ]
     },
     "execution_count": 672,
     "metadata": {},
     "output_type": "execute_result"
    }
   ],
   "source": [
    "SVM = svm.SVC(decision_function_shape=\"ovo\").fit(X_train, y_train)\n",
    "y_pred_svm = SVM.predict(X_test)\n",
    "round(SVM.score(X_test, y_test), 4)"
   ]
  },
  {
   "cell_type": "code",
   "execution_count": 684,
   "metadata": {},
   "outputs": [],
   "source": [
    "accuracies['SVM'] = metrics.accuracy_score(y_test, y_pred_svm)"
   ]
  },
  {
   "cell_type": "code",
   "execution_count": 676,
   "metadata": {},
   "outputs": [
    {
     "data": {
      "text/plain": [
       "array([False, False, False,  True, False,  True, False,  True,  True,\n",
       "        True,  True,  True,  True,  True, False, False,  True,  True,\n",
       "        True, False,  True,  True,  True, False,  True,  True,  True,\n",
       "        True,  True, False,  True, False, False,  True,  True, False,\n",
       "       False, False,  True,  True, False, False, False,  True,  True,\n",
       "       False, False, False,  True, False, False, False, False, False,\n",
       "        True, False,  True, False,  True, False, False,  True,  True,\n",
       "       False,  True,  True, False, False,  True, False, False,  True,\n",
       "       False,  True,  True,  True, False,  True,  True, False, False,\n",
       "       False,  True,  True, False, False, False,  True,  True, False,\n",
       "        True, False,  True, False,  True,  True,  True,  True,  True,\n",
       "        True,  True, False,  True,  True,  True,  True,  True, False,\n",
       "       False, False,  True,  True,  True, False,  True,  True,  True,\n",
       "        True, False, False, False, False, False, False,  True,  True,\n",
       "       False,  True, False,  True, False,  True, False, False,  True,\n",
       "        True,  True,  True, False,  True, False,  True, False,  True,\n",
       "        True,  True, False,  True,  True,  True,  True, False,  True,\n",
       "        True,  True, False,  True,  True, False, False, False,  True,\n",
       "        True,  True,  True,  True, False, False,  True,  True,  True,\n",
       "        True, False, False, False,  True,  True, False, False,  True,\n",
       "        True,  True,  True, False,  True,  True, False,  True,  True,\n",
       "        True, False, False, False,  True,  True,  True, False, False,\n",
       "       False, False,  True,  True,  True, False, False, False,  True,\n",
       "        True,  True, False, False,  True, False,  True, False,  True,\n",
       "        True,  True, False,  True,  True, False, False, False,  True,\n",
       "        True, False,  True, False, False,  True,  True,  True,  True,\n",
       "        True, False, False, False,  True,  True, False, False, False,\n",
       "       False, False, False,  True, False,  True,  True])"
      ]
     },
     "execution_count": 676,
     "metadata": {},
     "output_type": "execute_result"
    }
   ],
   "source": [
    "y_pred_svm"
   ]
  },
  {
   "cell_type": "markdown",
   "metadata": {},
   "source": [
    "## 4. LogisticRegression"
   ]
  },
  {
   "cell_type": "code",
   "execution_count": 678,
   "metadata": {},
   "outputs": [
    {
     "data": {
      "text/plain": [
       "0.796"
      ]
     },
     "execution_count": 678,
     "metadata": {},
     "output_type": "execute_result"
    }
   ],
   "source": [
    "clf_lreg = LogisticRegression(random_state=0, solver='lbfgs', multi_class='multinomial').fit(X_train, y_train)\n",
    "y_pred_clf_lreg = clf_lreg.predict(X_test)\n",
    "round(clf_lreg.score(X_test,y_test), 4)"
   ]
  },
  {
   "cell_type": "code",
   "execution_count": 685,
   "metadata": {},
   "outputs": [],
   "source": [
    "accuracies['Logistic Regression'] = round(clf_lreg.score(X_test,y_test), 4)"
   ]
  },
  {
   "cell_type": "code",
   "execution_count": 680,
   "metadata": {},
   "outputs": [
    {
     "data": {
      "text/plain": [
       "array([False, False, False,  True, False, False, False,  True, False,\n",
       "       False,  True,  True,  True,  True, False, False,  True,  True,\n",
       "        True, False,  True, False, False, False,  True,  True,  True,\n",
       "       False, False, False,  True, False,  True,  True, False, False,\n",
       "       False, False,  True,  True, False, False, False,  True,  True,\n",
       "       False, False, False, False, False, False, False, False, False,\n",
       "       False, False,  True, False,  True,  True, False, False,  True,\n",
       "       False,  True,  True, False, False,  True, False,  True,  True,\n",
       "        True,  True, False,  True, False,  True,  True, False, False,\n",
       "       False,  True,  True, False, False,  True,  True,  True, False,\n",
       "        True, False,  True, False,  True,  True,  True,  True, False,\n",
       "        True,  True, False,  True,  True,  True,  True,  True, False,\n",
       "       False, False,  True,  True,  True, False,  True,  True,  True,\n",
       "        True, False, False, False, False, False, False,  True,  True,\n",
       "       False, False, False,  True, False,  True, False,  True,  True,\n",
       "        True,  True,  True, False,  True, False,  True, False,  True,\n",
       "        True, False, False,  True,  True,  True,  True, False,  True,\n",
       "        True,  True, False,  True, False, False,  True, False,  True,\n",
       "       False,  True,  True,  True, False, False,  True,  True, False,\n",
       "        True, False, False,  True,  True,  True, False, False,  True,\n",
       "        True,  True,  True,  True,  True,  True, False,  True,  True,\n",
       "        True, False, False, False, False, False,  True, False,  True,\n",
       "       False, False,  True,  True,  True, False, False, False,  True,\n",
       "        True,  True,  True, False,  True, False,  True, False,  True,\n",
       "        True, False, False, False, False, False, False, False,  True,\n",
       "       False, False,  True, False, False,  True,  True,  True,  True,\n",
       "        True, False, False, False,  True,  True, False, False, False,\n",
       "       False, False, False, False, False,  True,  True])"
      ]
     },
     "execution_count": 680,
     "metadata": {},
     "output_type": "execute_result"
    }
   ],
   "source": [
    "y_pred_clf_lreg"
   ]
  },
  {
   "cell_type": "markdown",
   "metadata": {},
   "source": [
    "## 5. KNeighborsClassifier"
   ]
  },
  {
   "cell_type": "code",
   "execution_count": 681,
   "metadata": {},
   "outputs": [
    {
     "data": {
      "text/plain": [
       "KNeighborsClassifier(algorithm='auto', leaf_size=30, metric='euclidean',\n",
       "                     metric_params=None, n_jobs=None, n_neighbors=4, p=5,\n",
       "                     weights='uniform')"
      ]
     },
     "execution_count": 681,
     "metadata": {},
     "output_type": "execute_result"
    }
   ],
   "source": [
    "knn=KNeighborsClassifier(n_neighbors=4,metric='euclidean',p=5)\n",
    "knn.fit(X_train,y_train)"
   ]
  },
  {
   "cell_type": "code",
   "execution_count": 682,
   "metadata": {},
   "outputs": [],
   "source": [
    "y_pred_knn=knn.predict(X_test)\n"
   ]
  },
  {
   "cell_type": "code",
   "execution_count": 683,
   "metadata": {},
   "outputs": [
    {
     "data": {
      "text/plain": [
       "0.576"
      ]
     },
     "execution_count": 683,
     "metadata": {},
     "output_type": "execute_result"
    }
   ],
   "source": [
    "knn.score(X_test,y_test)"
   ]
  },
  {
   "cell_type": "code",
   "execution_count": 686,
   "metadata": {},
   "outputs": [],
   "source": [
    "accuracies['Knn'] = round(knn.score(X_test,y_test))"
   ]
  },
  {
   "cell_type": "code",
   "execution_count": null,
   "metadata": {},
   "outputs": [],
   "source": []
  },
  {
   "cell_type": "code",
   "execution_count": 689,
   "metadata": {},
   "outputs": [],
   "source": [
    "from sklearn.model_selection import cross_val_predict\n",
    "from sklearn.model_selection import cross_val_score"
   ]
  },
  {
   "cell_type": "code",
   "execution_count": 693,
   "metadata": {},
   "outputs": [
    {
     "data": {
      "text/plain": [
       "{'Random Forest': 0.856,\n",
       " 'Decision Tree': 0.88,\n",
       " 'SVM': 0.78,\n",
       " 'Logistic Regression': 0.796,\n",
       " 'Knn': 1.0}"
      ]
     },
     "execution_count": 693,
     "metadata": {},
     "output_type": "execute_result"
    }
   ],
   "source": [
    "accuracies"
   ]
  },
  {
   "cell_type": "markdown",
   "metadata": {},
   "source": []
  },
  {
   "cell_type": "markdown",
   "metadata": {},
   "source": [
    "## 6. LGBM Classifier"
   ]
  },
  {
   "cell_type": "code",
   "execution_count": 695,
   "metadata": {},
   "outputs": [
    {
     "data": {
      "text/plain": [
       "{'boosting_type': 'gbdt',\n",
       " 'class_weight': None,\n",
       " 'colsample_bytree': 1.0,\n",
       " 'importance_type': 'split',\n",
       " 'learning_rate': 0.1,\n",
       " 'max_depth': -1,\n",
       " 'min_child_samples': 20,\n",
       " 'min_child_weight': 0.001,\n",
       " 'min_split_gain': 0.0,\n",
       " 'n_estimators': 100,\n",
       " 'n_jobs': -1,\n",
       " 'num_leaves': 31,\n",
       " 'objective': None,\n",
       " 'random_state': None,\n",
       " 'reg_alpha': 0.0,\n",
       " 'reg_lambda': 0.0,\n",
       " 'silent': 'warn',\n",
       " 'subsample': 1.0,\n",
       " 'subsample_for_bin': 200000,\n",
       " 'subsample_freq': 0}"
      ]
     },
     "execution_count": 695,
     "metadata": {},
     "output_type": "execute_result"
    }
   ],
   "source": [
    "clf_lgb = lgb.LGBMClassifier()\n",
    "clf_lgb.fit(X_train, y_train)\n",
    "clf_lgb.get_params()"
   ]
  },
  {
   "cell_type": "code",
   "execution_count": 696,
   "metadata": {},
   "outputs": [],
   "source": [
    "y_pred_lgbm = clf_lgb.predict(X_test)"
   ]
  },
  {
   "cell_type": "code",
   "execution_count": 697,
   "metadata": {},
   "outputs": [
    {
     "name": "stdout",
     "output_type": "stream",
     "text": [
      "LightGBM Model accuracy score: 0.8680\n"
     ]
    }
   ],
   "source": [
    "from sklearn.metrics import accuracy_score\n",
    "accuracy=accuracy_score(y_pred_lgbm, y_test)\n",
    "print('LightGBM Model accuracy score: {0:0.4f}'.format(accuracy_score(y_test, y_pred_lgbm)))"
   ]
  },
  {
   "cell_type": "code",
   "execution_count": 698,
   "metadata": {},
   "outputs": [],
   "source": [
    "y_pred_train_lgb = clf_lgb.predict(X_train)"
   ]
  },
  {
   "cell_type": "code",
   "execution_count": 699,
   "metadata": {},
   "outputs": [
    {
     "name": "stdout",
     "output_type": "stream",
     "text": [
      "Training-set accuracy score: 1.0000\n"
     ]
    }
   ],
   "source": [
    "print('Training-set accuracy score: {0:0.4f}'. format(accuracy_score(y_train, y_pred_train_lgb)))"
   ]
  },
  {
   "cell_type": "code",
   "execution_count": 700,
   "metadata": {},
   "outputs": [],
   "source": [
    "accuracies['LGBM'] = round(accuracy_score(y_train, y_pred_train_lgb))"
   ]
  },
  {
   "cell_type": "markdown",
   "metadata": {},
   "source": [
    "**Model Accuracy**"
   ]
  },
  {
   "cell_type": "code",
   "execution_count": 701,
   "metadata": {},
   "outputs": [
    {
     "name": "stdout",
     "output_type": "stream",
     "text": [
      "Training set score: 1.0000\n",
      "Test set score: 0.8680\n"
     ]
    }
   ],
   "source": [
    "print('Training set score: {:.4f}'.format(clf.score(X_train, y_train)))\n",
    "\n",
    "print('Test set score: {:.4f}'.format(clf.score(X_test, y_test)))"
   ]
  },
  {
   "cell_type": "markdown",
   "metadata": {},
   "source": [
    "## Decision tree confusion matrix + classification report"
   ]
  },
  {
   "cell_type": "markdown",
   "metadata": {},
   "source": [
    "**Confusion-matrix**"
   ]
  },
  {
   "cell_type": "code",
   "execution_count": 703,
   "metadata": {},
   "outputs": [
    {
     "name": "stdout",
     "output_type": "stream",
     "text": [
      "Confusion matrix\n",
      "\n",
      " [[105  13]\n",
      " [ 17 115]]\n",
      "\n",
      "True Positives(TP) =  105\n",
      "\n",
      "True Negatives(TN) =  115\n",
      "\n",
      "False Positives(FP) =  13\n",
      "\n",
      "False Negatives(FN) =  17\n"
     ]
    }
   ],
   "source": [
    "\n",
    "# Print the Confusion Matrix and slice it into four pieces\n",
    "\n",
    "from sklearn.metrics import confusion_matrix\n",
    "cm = confusion_matrix(y_test, y_pred_DT_entropy)\n",
    "print('Confusion matrix\\n\\n', cm)\n",
    "print('\\nTrue Positives(TP) = ', cm[0,0])\n",
    "print('\\nTrue Negatives(TN) = ', cm[1,1])\n",
    "print('\\nFalse Positives(FP) = ', cm[0,1])\n",
    "print('\\nFalse Negatives(FN) = ', cm[1,0])"
   ]
  },
  {
   "cell_type": "code",
   "execution_count": 704,
   "metadata": {},
   "outputs": [
    {
     "data": {
      "text/plain": [
       "<matplotlib.axes._subplots.AxesSubplot at 0x29f514c2ec8>"
      ]
     },
     "execution_count": 704,
     "metadata": {},
     "output_type": "execute_result"
    },
    {
     "data": {
      "image/png": "[encoded data removed]",
      "text/plain": [
       "<Figure size 432x288 with 2 Axes>"
      ]
     },
     "metadata": {
      "needs_background": "light"
     },
     "output_type": "display_data"
    }
   ],
   "source": [
    "# visualize confusion matrix with seaborn heatmap\n",
    "\n",
    "cm_matrix = pd.DataFrame(data=cm, columns=['Actual Positive:1', 'Actual Negative:0'], \n",
    "                                 index=['Predict Positive:1', 'Predict Negative:0'])\n",
    "\n",
    "sns.heatmap(cm_matrix, annot=True, fmt='d', cmap='YlGnBu')"
   ]
  },
  {
   "cell_type": "markdown",
   "metadata": {},
   "source": [
    "**Classification Report**"
   ]
  },
  {
   "cell_type": "code",
   "execution_count": 705,
   "metadata": {},
   "outputs": [
    {
     "name": "stdout",
     "output_type": "stream",
     "text": [
      "              precision    recall  f1-score   support\n",
      "\n",
      "       False       0.86      0.89      0.88       118\n",
      "        True       0.90      0.87      0.88       132\n",
      "\n",
      "    accuracy                           0.88       250\n",
      "   macro avg       0.88      0.88      0.88       250\n",
      "weighted avg       0.88      0.88      0.88       250\n",
      "\n"
     ]
    }
   ],
   "source": [
    "from sklearn.metrics import classification_report\n",
    "print(classification_report(y_test, y_pred_DT_entropy))"
   ]
  },
  {
   "cell_type": "markdown",
   "metadata": {},
   "source": [
    "**Hyperparameter Tunning for LBGM algorithm**"
   ]
  },
  {
   "cell_type": "code",
   "execution_count": 706,
   "metadata": {},
   "outputs": [],
   "source": [
    "from scipy.stats import randint as sp_randint\n",
    "from scipy.stats import uniform as sp_uniform\n",
    "from sklearn.model_selection import RandomizedSearchCV\n",
    "params = {\n",
    " 'boosting_type': ['gbdt', 'dart', 'goss', 'rf'],\n",
    " 'colsample_bytree': sp_uniform(loc=0.4, scale=0.6),\n",
    " 'importance_type': ['split', 'gain'],\n",
    " 'learning_rate': [0.1, 0.01, 0.05,0.001, 0.005],\n",
    " 'min_child_samples': sp_randint(5, 500),\n",
    " 'min_child_weight': [1e-5, 1e-3, 1e-2, 1e-1, 0, 1, 1e1, 1e2, 1e3, 1e4],\n",
    " 'n_estimators': sp_randint(1, 200),\n",
    " 'num_leaves': sp_randint(1, 200),\n",
    " 'reg_alpha': [0, 1e-1, 1, 2, 5, 7, 10, 50, 100],\n",
    " 'reg_lambda': [0, 1e-1, 1, 5, 10, 20, 50, 100],\n",
    " 'silent': [True, False],\n",
    " 'subsample': sp_uniform(loc=0.2, scale=0.8),\n",
    "}"
   ]
  },
  {
   "cell_type": "code",
   "execution_count": 707,
   "metadata": {},
   "outputs": [
    {
     "name": "stdout",
     "output_type": "stream",
     "text": [
      "[LightGBM] [Info] Number of positive: 299, number of negative: 301\n",
      "[LightGBM] [Info] Number of positive: 299, number of negative: 301\n",
      "[LightGBM] [Info] Number of positive: 299, number of negative: 301\n",
      "[LightGBM] [Info] Number of positive: 299, number of negative: 301\n",
      "[LightGBM] [Info] Number of positive: 300, number of negative: 300\n",
      "[LightGBM] [Warning] There are no meaningful features, as all feature values are constant.\n",
      "[LightGBM] [Info] Number of positive: 299, number of negative: 301\n",
      "[LightGBM] [Info] Total Bins 0\n",
      "[LightGBM] [Info] Number of data points in the train set: 600, number of used features: 0\n",
      "[LightGBM] [Info] Using GOSS\n",
      "[LightGBM] [Info] [binary:BoostFromScore]: pavg=0.498333 -> initscore=-0.006667\n",
      "[LightGBM] [Info] Start training from score -0.006667\n",
      "[LightGBM] [Warning] Stopped training because there are no more leaves that meet the split requirements\n",
      "[LightGBM] [Warning] Stopped training because there are no more leaves that meet the split requirements\n",
      "[LightGBM] [Warning] Stopped training because there are no more leaves that meet the split requirements\n",
      "[LightGBM] [Warning] Stopped training because there are no more leaves that meet the split requirements\n",
      "[LightGBM] [Warning] Stopped training because there are no more leaves that meet the split requirements\n",
      "[LightGBM] [Warning] Stopped training because there are no more leaves that meet the split requirements\n",
      "[LightGBM] [Warning] Stopped training because there are no more leaves that meet the split requirements\n",
      "[LightGBM] [Warning] Stopped training because there are no more leaves that meet the split requirements\n",
      "[LightGBM] [Warning] Stopped training because there are no more leaves that meet the split requirements\n",
      "[LightGBM] [Warning] Stopped training because there are no more leaves that meet the split requirements\n",
      "[LightGBM] [Warning] Stopped training because there are no more leaves that meet the split requirements\n",
      "[LightGBM] [Warning] Stopped training because there are no more leaves that meet the split requirements\n",
      "[LightGBM] [Warning] Stopped training because there are no more leaves that meet the split requirements\n",
      "[LightGBM] [Warning] Stopped training because there are no more leaves that meet the split requirements\n",
      "[LightGBM] [Warning] Stopped training because there are no more leaves that meet the split requirements\n",
      "[LightGBM] [Warning] Stopped training because there are no more leaves that meet the split requirements\n",
      "[LightGBM] [Warning] Stopped training because there are no more leaves that meet the split requirements\n",
      "[LightGBM] [Warning] Stopped training because there are no more leaves that meet the split requirements\n",
      "[LightGBM] [Warning] Stopped training because there are no more leaves that meet the split requirements\n",
      "[LightGBM] [Warning] Stopped training because there are no more leaves that meet the split requirements\n",
      "[LightGBM] [Warning] Stopped training because there are no more leaves that meet the split requirements\n",
      "[LightGBM] [Warning] Stopped training because there are no more leaves that meet the split requirements\n",
      "[LightGBM] [Warning] Stopped training because there are no more leaves that meet the split requirements\n",
      "[LightGBM] [Warning] Stopped training because there are no more leaves that meet the split requirements\n",
      "[LightGBM] [Warning] Stopped training because there are no more leaves that meet the split requirements\n",
      "[LightGBM] [Warning] Stopped training because there are no more leaves that meet the split requirements\n",
      "[LightGBM] [Warning] Stopped training because there are no more leaves that meet the split requirements\n",
      "[LightGBM] [Warning] Stopped training because there are no more leaves that meet the split requirements\n",
      "[LightGBM] [Warning] Stopped training because there are no more leaves that meet the split requirements\n",
      "[LightGBM] [Warning] Stopped training because there are no more leaves that meet the split requirements\n",
      "[LightGBM] [Warning] Stopped training because there are no more leaves that meet the split requirements\n",
      "[LightGBM] [Warning] Stopped training because there are no more leaves that meet the split requirements\n",
      "[LightGBM] [Warning] Stopped training because there are no more leaves that meet the split requirements\n",
      "[LightGBM] [Warning] Stopped training because there are no more leaves that meet the split requirements\n",
      "[LightGBM] [Warning] Stopped training because there are no more leaves that meet the split requirements\n",
      "[LightGBM] [Warning] Stopped training because there are no more leaves that meet the split requirements\n",
      "[LightGBM] [Warning] Stopped training because there are no more leaves that meet the split requirements\n",
      "[LightGBM] [Warning] Stopped training because there are no more leaves that meet the split requirements\n",
      "[LightGBM] [Warning] Stopped training because there are no more leaves that meet the split requirements\n",
      "[LightGBM] [Warning] Stopped training because there are no more leaves that meet the split requirements\n",
      "[LightGBM] [Warning] Stopped training because there are no more leaves that meet the split requirements\n",
      "[LightGBM] [Warning] Stopped training because there are no more leaves that meet the split requirements\n",
      "[LightGBM] [Warning] Stopped training because there are no more leaves that meet the split requirements\n",
      "[LightGBM] [Warning] Stopped training because there are no more leaves that meet the split requirements\n",
      "[LightGBM] [Warning] Stopped training because there are no more leaves that meet the split requirements\n",
      "[LightGBM] [Warning] Stopped training because there are no more leaves that meet the split requirements\n",
      "[LightGBM] [Warning] Stopped training because there are no more leaves that meet the split requirements\n",
      "[LightGBM] [Warning] Stopped training because there are no more leaves that meet the split requirements\n",
      "[LightGBM] [Warning] Stopped training because there are no more leaves that meet the split requirements\n",
      "[LightGBM] [Warning] Stopped training because there are no more leaves that meet the split requirements\n",
      "[LightGBM] [Warning] Stopped training because there are no more leaves that meet the split requirements\n",
      "[LightGBM] [Warning] Stopped training because there are no more leaves that meet the split requirements\n",
      "[LightGBM] [Warning] Stopped training because there are no more leaves that meet the split requirements\n",
      "[LightGBM] [Warning] Stopped training because there are no more leaves that meet the split requirements\n",
      "[LightGBM] [Warning] Stopped training because there are no more leaves that meet the split requirements\n",
      "[LightGBM] [Warning] Stopped training because there are no more leaves that meet the split requirements\n",
      "[LightGBM] [Warning] Stopped training because there are no more leaves that meet the split requirements\n",
      "[LightGBM] [Warning] Stopped training because there are no more leaves that meet the split requirements\n",
      "[LightGBM] [Warning] Stopped training because there are no more leaves that meet the split requirements\n",
      "[LightGBM] [Warning] Stopped training because there are no more leaves that meet the split requirements\n",
      "[LightGBM] [Warning] Stopped training because there are no more leaves that meet the split requirements\n",
      "[LightGBM] [Warning] Stopped training because there are no more leaves that meet the split requirements\n",
      "[LightGBM] [Warning] Stopped training because there are no more leaves that meet the split requirements\n",
      "[LightGBM] [Warning] Stopped training because there are no more leaves that meet the split requirements\n",
      "[LightGBM] [Warning] Stopped training because there are no more leaves that meet the split requirements\n",
      "[LightGBM] [Warning] Stopped training because there are no more leaves that meet the split requirements\n",
      "[LightGBM] [Warning] Stopped training because there are no more leaves that meet the split requirements\n",
      "[LightGBM] [Warning] Stopped training because there are no more leaves that meet the split requirements\n",
      "[LightGBM] [Warning] Stopped training because there are no more leaves that meet the split requirements\n",
      "[LightGBM] [Warning] Stopped training because there are no more leaves that meet the split requirements\n",
      "[LightGBM] [Warning] Stopped training because there are no more leaves that meet the split requirements\n",
      "[LightGBM] [Warning] Stopped training because there are no more leaves that meet the split requirements\n",
      "[LightGBM] [Warning] Stopped training because there are no more leaves that meet the split requirements\n",
      "[LightGBM] [Warning] Stopped training because there are no more leaves that meet the split requirements\n",
      "[LightGBM] [Warning] Stopped training because there are no more leaves that meet the split requirements\n",
      "[LightGBM] [Warning] Stopped training because there are no more leaves that meet the split requirements\n",
      "[LightGBM] [Warning] Stopped training because there are no more leaves that meet the split requirements\n",
      "[LightGBM] [Warning] Stopped training because there are no more leaves that meet the split requirements\n",
      "[LightGBM] [Warning] Stopped training because there are no more leaves that meet the split requirements\n",
      "[LightGBM] [Warning] Stopped training because there are no more leaves that meet the split requirements\n",
      "[LightGBM] [Warning] Stopped training because there are no more leaves that meet the split requirements\n",
      "[LightGBM] [Warning] Stopped training because there are no more leaves that meet the split requirements\n",
      "[LightGBM] [Warning] Stopped training because there are no more leaves that meet the split requirements\n",
      "[LightGBM] [Warning] Stopped training because there are no more leaves that meet the split requirements\n",
      "[LightGBM] [Warning] Stopped training because there are no more leaves that meet the split requirements\n",
      "[LightGBM] [Warning] Stopped training because there are no more leaves that meet the split requirements\n",
      "[LightGBM] [Warning] There are no meaningful features, as all feature values are constant.\n",
      "[LightGBM] [Info] Number of positive: 299, number of negative: 301\n",
      "[LightGBM] [Info] Total Bins 0\n",
      "[LightGBM] [Info] Number of data points in the train set: 600, number of used features: 0\n",
      "[LightGBM] [Info] Using GOSS\n",
      "[LightGBM] [Info] [binary:BoostFromScore]: pavg=0.498333 -> initscore=-0.006667\n",
      "[LightGBM] [Info] Start training from score -0.006667\n",
      "[LightGBM] [Warning] Stopped training because there are no more leaves that meet the split requirements\n",
      "[LightGBM] [Warning] Stopped training because there are no more leaves that meet the split requirements\n",
      "[LightGBM] [Warning] Stopped training because there are no more leaves that meet the split requirements\n",
      "[LightGBM] [Warning] Stopped training because there are no more leaves that meet the split requirements\n",
      "[LightGBM] [Warning] Stopped training because there are no more leaves that meet the split requirements\n",
      "[LightGBM] [Warning] Stopped training because there are no more leaves that meet the split requirements\n",
      "[LightGBM] [Warning] Stopped training because there are no more leaves that meet the split requirements\n",
      "[LightGBM] [Warning] Stopped training because there are no more leaves that meet the split requirements\n",
      "[LightGBM] [Warning] Stopped training because there are no more leaves that meet the split requirements\n",
      "[LightGBM] [Warning] Stopped training because there are no more leaves that meet the split requirements\n",
      "[LightGBM] [Warning] Stopped training because there are no more leaves that meet the split requirements\n",
      "[LightGBM] [Warning] Stopped training because there are no more leaves that meet the split requirements\n",
      "[LightGBM] [Warning] Stopped training because there are no more leaves that meet the split requirements\n",
      "[LightGBM] [Warning] Stopped training because there are no more leaves that meet the split requirements\n",
      "[LightGBM] [Warning] Stopped training because there are no more leaves that meet the split requirements\n",
      "[LightGBM] [Warning] Stopped training because there are no more leaves that meet the split requirements\n",
      "[LightGBM] [Warning] Stopped training because there are no more leaves that meet the split requirements\n",
      "[LightGBM] [Warning] Stopped training because there are no more leaves that meet the split requirements\n",
      "[LightGBM] [Warning] Stopped training because there are no more leaves that meet the split requirements\n",
      "[LightGBM] [Warning] Stopped training because there are no more leaves that meet the split requirements\n",
      "[LightGBM] [Warning] Stopped training because there are no more leaves that meet the split requirements\n",
      "[LightGBM] [Warning] Stopped training because there are no more leaves that meet the split requirements\n",
      "[LightGBM] [Warning] Stopped training because there are no more leaves that meet the split requirements\n",
      "[LightGBM] [Warning] Stopped training because there are no more leaves that meet the split requirements\n",
      "[LightGBM] [Warning] Stopped training because there are no more leaves that meet the split requirements\n",
      "[LightGBM] [Warning] Stopped training because there are no more leaves that meet the split requirements\n",
      "[LightGBM] [Warning] Stopped training because there are no more leaves that meet the split requirements\n",
      "[LightGBM] [Warning] Stopped training because there are no more leaves that meet the split requirements\n",
      "[LightGBM] [Warning] Stopped training because there are no more leaves that meet the split requirements\n",
      "[LightGBM] [Warning] Stopped training because there are no more leaves that meet the split requirements\n",
      "[LightGBM] [Warning] Stopped training because there are no more leaves that meet the split requirements\n",
      "[LightGBM] [Warning] Stopped training because there are no more leaves that meet the split requirements\n",
      "[LightGBM] [Warning] Stopped training because there are no more leaves that meet the split requirements\n",
      "[LightGBM] [Warning] Stopped training because there are no more leaves that meet the split requirements\n",
      "[LightGBM] [Warning] Stopped training because there are no more leaves that meet the split requirements\n",
      "[LightGBM] [Warning] Stopped training because there are no more leaves that meet the split requirements\n",
      "[LightGBM] [Warning] Stopped training because there are no more leaves that meet the split requirements\n",
      "[LightGBM] [Warning] Stopped training because there are no more leaves that meet the split requirements\n",
      "[LightGBM] [Warning] Stopped training because there are no more leaves that meet the split requirements\n",
      "[LightGBM] [Warning] Stopped training because there are no more leaves that meet the split requirements\n",
      "[LightGBM] [Warning] Stopped training because there are no more leaves that meet the split requirements\n",
      "[LightGBM] [Warning] Stopped training because there are no more leaves that meet the split requirements\n",
      "[LightGBM] [Warning] Stopped training because there are no more leaves that meet the split requirements\n",
      "[LightGBM] [Warning] Stopped training because there are no more leaves that meet the split requirements\n",
      "[LightGBM] [Warning] Stopped training because there are no more leaves that meet the split requirements\n",
      "[LightGBM] [Warning] Stopped training because there are no more leaves that meet the split requirements\n",
      "[LightGBM] [Warning] Stopped training because there are no more leaves that meet the split requirements\n",
      "[LightGBM] [Warning] Stopped training because there are no more leaves that meet the split requirements\n",
      "[LightGBM] [Warning] Stopped training because there are no more leaves that meet the split requirements\n",
      "[LightGBM] [Warning] Stopped training because there are no more leaves that meet the split requirements\n",
      "[LightGBM] [Warning] Stopped training because there are no more leaves that meet the split requirements\n",
      "[LightGBM] [Warning] Stopped training because there are no more leaves that meet the split requirements\n",
      "[LightGBM] [Warning] Stopped training because there are no more leaves that meet the split requirements\n",
      "[LightGBM] [Warning] Stopped training because there are no more leaves that meet the split requirements\n",
      "[LightGBM] [Warning] Stopped training because there are no more leaves that meet the split requirements\n",
      "[LightGBM] [Warning] Stopped training because there are no more leaves that meet the split requirements\n",
      "[LightGBM] [Warning] Stopped training because there are no more leaves that meet the split requirements\n",
      "[LightGBM] [Warning] Stopped training because there are no more leaves that meet the split requirements\n",
      "[LightGBM] [Warning] Stopped training because there are no more leaves that meet the split requirements\n",
      "[LightGBM] [Warning] Stopped training because there are no more leaves that meet the split requirements\n",
      "[LightGBM] [Warning] Stopped training because there are no more leaves that meet the split requirements\n",
      "[LightGBM] [Warning] Stopped training because there are no more leaves that meet the split requirements\n",
      "[LightGBM] [Warning] Stopped training because there are no more leaves that meet the split requirements\n",
      "[LightGBM] [Warning] Stopped training because there are no more leaves that meet the split requirements\n",
      "[LightGBM] [Warning] Stopped training because there are no more leaves that meet the split requirements\n",
      "[LightGBM] [Warning] Stopped training because there are no more leaves that meet the split requirements\n",
      "[LightGBM] [Warning] Stopped training because there are no more leaves that meet the split requirements\n",
      "[LightGBM] [Warning] Stopped training because there are no more leaves that meet the split requirements\n",
      "[LightGBM] [Warning] Stopped training because there are no more leaves that meet the split requirements\n",
      "[LightGBM] [Warning] Stopped training because there are no more leaves that meet the split requirements\n",
      "[LightGBM] [Warning] Stopped training because there are no more leaves that meet the split requirements\n",
      "[LightGBM] [Warning] Stopped training because there are no more leaves that meet the split requirements\n",
      "[LightGBM] [Warning] Stopped training because there are no more leaves that meet the split requirements\n",
      "[LightGBM] [Warning] Stopped training because there are no more leaves that meet the split requirements\n",
      "[LightGBM] [Warning] Stopped training because there are no more leaves that meet the split requirements\n",
      "[LightGBM] [Warning] Stopped training because there are no more leaves that meet the split requirements\n",
      "[LightGBM] [Warning] Stopped training because there are no more leaves that meet the split requirements\n",
      "[LightGBM] [Warning] Stopped training because there are no more leaves that meet the split requirements\n",
      "[LightGBM] [Warning] Stopped training because there are no more leaves that meet the split requirements\n",
      "[LightGBM] [Warning] Stopped training because there are no more leaves that meet the split requirements\n",
      "[LightGBM] [Warning] Stopped training because there are no more leaves that meet the split requirements\n",
      "[LightGBM] [Warning] Stopped training because there are no more leaves that meet the split requirements\n",
      "[LightGBM] [Warning] Stopped training because there are no more leaves that meet the split requirements\n",
      "[LightGBM] [Warning] Stopped training because there are no more leaves that meet the split requirements\n",
      "[LightGBM] [Warning] Stopped training because there are no more leaves that meet the split requirements\n",
      "[LightGBM] [Warning] Stopped training because there are no more leaves that meet the split requirements\n",
      "[LightGBM] [Warning] There are no meaningful features, as all feature values are constant.\n",
      "[LightGBM] [Info] Number of positive: 299, number of negative: 301\n",
      "[LightGBM] [Info] Total Bins 0\n",
      "[LightGBM] [Info] Number of data points in the train set: 600, number of used features: 0\n",
      "[LightGBM] [Info] Using GOSS\n",
      "[LightGBM] [Info] [binary:BoostFromScore]: pavg=0.498333 -> initscore=-0.006667\n",
      "[LightGBM] [Info] Start training from score -0.006667\n",
      "[LightGBM] [Warning] Stopped training because there are no more leaves that meet the split requirements\n",
      "[LightGBM] [Warning] Stopped training because there are no more leaves that meet the split requirements\n",
      "[LightGBM] [Warning] Stopped training because there are no more leaves that meet the split requirements\n",
      "[LightGBM] [Warning] Stopped training because there are no more leaves that meet the split requirements\n",
      "[LightGBM] [Warning] Stopped training because there are no more leaves that meet the split requirements\n",
      "[LightGBM] [Warning] Stopped training because there are no more leaves that meet the split requirements\n",
      "[LightGBM] [Warning] Stopped training because there are no more leaves that meet the split requirements\n",
      "[LightGBM] [Warning] Stopped training because there are no more leaves that meet the split requirements\n",
      "[LightGBM] [Warning] Stopped training because there are no more leaves that meet the split requirements\n",
      "[LightGBM] [Warning] Stopped training because there are no more leaves that meet the split requirements\n",
      "[LightGBM] [Warning] Stopped training because there are no more leaves that meet the split requirements\n",
      "[LightGBM] [Warning] Stopped training because there are no more leaves that meet the split requirements\n",
      "[LightGBM] [Warning] Stopped training because there are no more leaves that meet the split requirements\n",
      "[LightGBM] [Warning] Stopped training because there are no more leaves that meet the split requirements\n",
      "[LightGBM] [Warning] Stopped training because there are no more leaves that meet the split requirements\n",
      "[LightGBM] [Warning] Stopped training because there are no more leaves that meet the split requirements\n",
      "[LightGBM] [Warning] Stopped training because there are no more leaves that meet the split requirements\n",
      "[LightGBM] [Warning] Stopped training because there are no more leaves that meet the split requirements\n",
      "[LightGBM] [Warning] Stopped training because there are no more leaves that meet the split requirements\n",
      "[LightGBM] [Warning] Stopped training because there are no more leaves that meet the split requirements\n",
      "[LightGBM] [Warning] Stopped training because there are no more leaves that meet the split requirements\n",
      "[LightGBM] [Warning] Stopped training because there are no more leaves that meet the split requirements\n",
      "[LightGBM] [Warning] Stopped training because there are no more leaves that meet the split requirements\n",
      "[LightGBM] [Warning] Stopped training because there are no more leaves that meet the split requirements\n",
      "[LightGBM] [Warning] Stopped training because there are no more leaves that meet the split requirements\n",
      "[LightGBM] [Warning] Stopped training because there are no more leaves that meet the split requirements\n",
      "[LightGBM] [Warning] Stopped training because there are no more leaves that meet the split requirements\n",
      "[LightGBM] [Warning] Stopped training because there are no more leaves that meet the split requirements\n",
      "[LightGBM] [Warning] Stopped training because there are no more leaves that meet the split requirements\n",
      "[LightGBM] [Warning] Stopped training because there are no more leaves that meet the split requirements\n",
      "[LightGBM] [Warning] Stopped training because there are no more leaves that meet the split requirements\n",
      "[LightGBM] [Warning] Stopped training because there are no more leaves that meet the split requirements\n",
      "[LightGBM] [Warning] Stopped training because there are no more leaves that meet the split requirements\n",
      "[LightGBM] [Warning] Stopped training because there are no more leaves that meet the split requirements\n",
      "[LightGBM] [Warning] Stopped training because there are no more leaves that meet the split requirements\n",
      "[LightGBM] [Warning] Stopped training because there are no more leaves that meet the split requirements\n",
      "[LightGBM] [Warning] Stopped training because there are no more leaves that meet the split requirements\n",
      "[LightGBM] [Warning] Stopped training because there are no more leaves that meet the split requirements\n",
      "[LightGBM] [Warning] Stopped training because there are no more leaves that meet the split requirements\n",
      "[LightGBM] [Warning] Stopped training because there are no more leaves that meet the split requirements\n",
      "[LightGBM] [Warning] Stopped training because there are no more leaves that meet the split requirements\n",
      "[LightGBM] [Warning] Stopped training because there are no more leaves that meet the split requirements\n",
      "[LightGBM] [Warning] Stopped training because there are no more leaves that meet the split requirements\n",
      "[LightGBM] [Warning] Stopped training because there are no more leaves that meet the split requirements\n",
      "[LightGBM] [Warning] Stopped training because there are no more leaves that meet the split requirements\n",
      "[LightGBM] [Warning] Stopped training because there are no more leaves that meet the split requirements\n",
      "[LightGBM] [Warning] Stopped training because there are no more leaves that meet the split requirements\n",
      "[LightGBM] [Warning] Stopped training because there are no more leaves that meet the split requirements\n",
      "[LightGBM] [Warning] Stopped training because there are no more leaves that meet the split requirements\n",
      "[LightGBM] [Warning] Stopped training because there are no more leaves that meet the split requirements\n",
      "[LightGBM] [Warning] Stopped training because there are no more leaves that meet the split requirements\n",
      "[LightGBM] [Warning] Stopped training because there are no more leaves that meet the split requirements\n",
      "[LightGBM] [Warning] Stopped training because there are no more leaves that meet the split requirements\n",
      "[LightGBM] [Warning] Stopped training because there are no more leaves that meet the split requirements\n",
      "[LightGBM] [Warning] Stopped training because there are no more leaves that meet the split requirements\n",
      "[LightGBM] [Warning] Stopped training because there are no more leaves that meet the split requirements\n",
      "[LightGBM] [Warning] Stopped training because there are no more leaves that meet the split requirements\n",
      "[LightGBM] [Warning] Stopped training because there are no more leaves that meet the split requirements\n",
      "[LightGBM] [Warning] Stopped training because there are no more leaves that meet the split requirements\n",
      "[LightGBM] [Warning] Stopped training because there are no more leaves that meet the split requirements\n",
      "[LightGBM] [Warning] Stopped training because there are no more leaves that meet the split requirements\n",
      "[LightGBM] [Warning] Stopped training because there are no more leaves that meet the split requirements\n",
      "[LightGBM] [Warning] Stopped training because there are no more leaves that meet the split requirements\n",
      "[LightGBM] [Warning] Stopped training because there are no more leaves that meet the split requirements\n",
      "[LightGBM] [Warning] Stopped training because there are no more leaves that meet the split requirements\n",
      "[LightGBM] [Warning] Stopped training because there are no more leaves that meet the split requirements\n",
      "[LightGBM] [Warning] Stopped training because there are no more leaves that meet the split requirements\n",
      "[LightGBM] [Warning] Stopped training because there are no more leaves that meet the split requirements\n",
      "[LightGBM] [Warning] Stopped training because there are no more leaves that meet the split requirements\n",
      "[LightGBM] [Warning] Stopped training because there are no more leaves that meet the split requirements\n",
      "[LightGBM] [Warning] Stopped training because there are no more leaves that meet the split requirements\n",
      "[LightGBM] [Warning] Stopped training because there are no more leaves that meet the split requirements\n",
      "[LightGBM] [Warning] Stopped training because there are no more leaves that meet the split requirements\n",
      "[LightGBM] [Warning] Stopped training because there are no more leaves that meet the split requirements\n",
      "[LightGBM] [Warning] Stopped training because there are no more leaves that meet the split requirements\n",
      "[LightGBM] [Warning] Stopped training because there are no more leaves that meet the split requirements\n",
      "[LightGBM] [Warning] Stopped training because there are no more leaves that meet the split requirements\n",
      "[LightGBM] [Warning] Stopped training because there are no more leaves that meet the split requirements\n",
      "[LightGBM] [Warning] Stopped training because there are no more leaves that meet the split requirements\n",
      "[LightGBM] [Warning] Stopped training because there are no more leaves that meet the split requirements\n",
      "[LightGBM] [Warning] Stopped training because there are no more leaves that meet the split requirements\n",
      "[LightGBM] [Warning] Stopped training because there are no more leaves that meet the split requirements\n",
      "[LightGBM] [Warning] Stopped training because there are no more leaves that meet the split requirements\n",
      "[LightGBM] [Warning] Stopped training because there are no more leaves that meet the split requirements\n",
      "[LightGBM] [Warning] Stopped training because there are no more leaves that meet the split requirements\n",
      "[LightGBM] [Warning] Stopped training because there are no more leaves that meet the split requirements\n",
      "[LightGBM] [Warning] There are no meaningful features, as all feature values are constant.\n",
      "[LightGBM] [Info] Number of positive: 299, number of negative: 301\n",
      "[LightGBM] [Info] Total Bins 0\n",
      "[LightGBM] [Info] Number of data points in the train set: 600, number of used features: 0\n",
      "[LightGBM] [Info] Using GOSS\n",
      "[LightGBM] [Info] [binary:BoostFromScore]: pavg=0.498333 -> initscore=-0.006667\n",
      "[LightGBM] [Info] Start training from score -0.006667\n",
      "[LightGBM] [Warning] Stopped training because there are no more leaves that meet the split requirements\n",
      "[LightGBM] [Warning] Stopped training because there are no more leaves that meet the split requirements\n",
      "[LightGBM] [Warning] Stopped training because there are no more leaves that meet the split requirements\n",
      "[LightGBM] [Warning] Stopped training because there are no more leaves that meet the split requirements\n",
      "[LightGBM] [Warning] Stopped training because there are no more leaves that meet the split requirements\n",
      "[LightGBM] [Warning] Stopped training because there are no more leaves that meet the split requirements\n",
      "[LightGBM] [Warning] Stopped training because there are no more leaves that meet the split requirements\n",
      "[LightGBM] [Warning] Stopped training because there are no more leaves that meet the split requirements\n",
      "[LightGBM] [Warning] Stopped training because there are no more leaves that meet the split requirements\n",
      "[LightGBM] [Warning] Stopped training because there are no more leaves that meet the split requirements\n",
      "[LightGBM] [Warning] Stopped training because there are no more leaves that meet the split requirements\n",
      "[LightGBM] [Warning] Stopped training because there are no more leaves that meet the split requirements\n",
      "[LightGBM] [Warning] Stopped training because there are no more leaves that meet the split requirements\n",
      "[LightGBM] [Warning] Stopped training because there are no more leaves that meet the split requirements\n",
      "[LightGBM] [Warning] Stopped training because there are no more leaves that meet the split requirements\n",
      "[LightGBM] [Warning] Stopped training because there are no more leaves that meet the split requirements\n",
      "[LightGBM] [Warning] Stopped training because there are no more leaves that meet the split requirements\n",
      "[LightGBM] [Warning] Stopped training because there are no more leaves that meet the split requirements\n",
      "[LightGBM] [Warning] Stopped training because there are no more leaves that meet the split requirements\n",
      "[LightGBM] [Warning] Stopped training because there are no more leaves that meet the split requirements\n",
      "[LightGBM] [Warning] Stopped training because there are no more leaves that meet the split requirements\n",
      "[LightGBM] [Warning] Stopped training because there are no more leaves that meet the split requirements\n",
      "[LightGBM] [Warning] Stopped training because there are no more leaves that meet the split requirements\n",
      "[LightGBM] [Warning] Stopped training because there are no more leaves that meet the split requirements\n",
      "[LightGBM] [Warning] Stopped training because there are no more leaves that meet the split requirements\n",
      "[LightGBM] [Warning] Stopped training because there are no more leaves that meet the split requirements\n",
      "[LightGBM] [Warning] Stopped training because there are no more leaves that meet the split requirements\n",
      "[LightGBM] [Warning] Stopped training because there are no more leaves that meet the split requirements\n",
      "[LightGBM] [Warning] Stopped training because there are no more leaves that meet the split requirements\n",
      "[LightGBM] [Warning] Stopped training because there are no more leaves that meet the split requirements\n",
      "[LightGBM] [Warning] Stopped training because there are no more leaves that meet the split requirements\n",
      "[LightGBM] [Warning] Stopped training because there are no more leaves that meet the split requirements\n",
      "[LightGBM] [Warning] Stopped training because there are no more leaves that meet the split requirements\n",
      "[LightGBM] [Warning] Stopped training because there are no more leaves that meet the split requirements\n",
      "[LightGBM] [Warning] Stopped training because there are no more leaves that meet the split requirements\n",
      "[LightGBM] [Warning] Stopped training because there are no more leaves that meet the split requirements\n",
      "[LightGBM] [Warning] Stopped training because there are no more leaves that meet the split requirements\n",
      "[LightGBM] [Warning] Stopped training because there are no more leaves that meet the split requirements\n",
      "[LightGBM] [Warning] Stopped training because there are no more leaves that meet the split requirements\n",
      "[LightGBM] [Warning] Stopped training because there are no more leaves that meet the split requirements\n",
      "[LightGBM] [Warning] Stopped training because there are no more leaves that meet the split requirements\n",
      "[LightGBM] [Warning] Stopped training because there are no more leaves that meet the split requirements\n",
      "[LightGBM] [Warning] Stopped training because there are no more leaves that meet the split requirements\n",
      "[LightGBM] [Warning] Stopped training because there are no more leaves that meet the split requirements\n",
      "[LightGBM] [Warning] Stopped training because there are no more leaves that meet the split requirements\n",
      "[LightGBM] [Warning] Stopped training because there are no more leaves that meet the split requirements\n",
      "[LightGBM] [Warning] Stopped training because there are no more leaves that meet the split requirements\n",
      "[LightGBM] [Warning] Stopped training because there are no more leaves that meet the split requirements\n",
      "[LightGBM] [Warning] Stopped training because there are no more leaves that meet the split requirements\n",
      "[LightGBM] [Warning] Stopped training because there are no more leaves that meet the split requirements\n",
      "[LightGBM] [Warning] Stopped training because there are no more leaves that meet the split requirements\n",
      "[LightGBM] [Warning] Stopped training because there are no more leaves that meet the split requirements\n",
      "[LightGBM] [Warning] Stopped training because there are no more leaves that meet the split requirements\n",
      "[LightGBM] [Warning] Stopped training because there are no more leaves that meet the split requirements\n",
      "[LightGBM] [Warning] Stopped training because there are no more leaves that meet the split requirements\n",
      "[LightGBM] [Warning] Stopped training because there are no more leaves that meet the split requirements\n",
      "[LightGBM] [Warning] Stopped training because there are no more leaves that meet the split requirements\n",
      "[LightGBM] [Warning] Stopped training because there are no more leaves that meet the split requirements\n",
      "[LightGBM] [Warning] Stopped training because there are no more leaves that meet the split requirements\n",
      "[LightGBM] [Warning] Stopped training because there are no more leaves that meet the split requirements\n",
      "[LightGBM] [Warning] Stopped training because there are no more leaves that meet the split requirements\n",
      "[LightGBM] [Warning] Stopped training because there are no more leaves that meet the split requirements\n",
      "[LightGBM] [Warning] Stopped training because there are no more leaves that meet the split requirements\n",
      "[LightGBM] [Warning] Stopped training because there are no more leaves that meet the split requirements\n",
      "[LightGBM] [Warning] Stopped training because there are no more leaves that meet the split requirements\n",
      "[LightGBM] [Warning] Stopped training because there are no more leaves that meet the split requirements\n",
      "[LightGBM] [Warning] Stopped training because there are no more leaves that meet the split requirements\n",
      "[LightGBM] [Warning] Stopped training because there are no more leaves that meet the split requirements\n",
      "[LightGBM] [Warning] Stopped training because there are no more leaves that meet the split requirements\n",
      "[LightGBM] [Warning] Stopped training because there are no more leaves that meet the split requirements\n",
      "[LightGBM] [Warning] Stopped training because there are no more leaves that meet the split requirements\n",
      "[LightGBM] [Warning] Stopped training because there are no more leaves that meet the split requirements\n",
      "[LightGBM] [Warning] Stopped training because there are no more leaves that meet the split requirements\n",
      "[LightGBM] [Warning] Stopped training because there are no more leaves that meet the split requirements\n",
      "[LightGBM] [Warning] Stopped training because there are no more leaves that meet the split requirements\n",
      "[LightGBM] [Warning] Stopped training because there are no more leaves that meet the split requirements\n",
      "[LightGBM] [Warning] Stopped training because there are no more leaves that meet the split requirements\n",
      "[LightGBM] [Warning] Stopped training because there are no more leaves that meet the split requirements\n",
      "[LightGBM] [Warning] Stopped training because there are no more leaves that meet the split requirements\n",
      "[LightGBM] [Warning] Stopped training because there are no more leaves that meet the split requirements\n",
      "[LightGBM] [Warning] Stopped training because there are no more leaves that meet the split requirements\n",
      "[LightGBM] [Warning] Stopped training because there are no more leaves that meet the split requirements\n",
      "[LightGBM] [Warning] Stopped training because there are no more leaves that meet the split requirements\n",
      "[LightGBM] [Warning] Stopped training because there are no more leaves that meet the split requirements\n",
      "[LightGBM] [Warning] Stopped training because there are no more leaves that meet the split requirements\n",
      "[LightGBM] [Warning] Stopped training because there are no more leaves that meet the split requirements\n",
      "[LightGBM] [Warning] There are no meaningful features, as all feature values are constant.\n",
      "[LightGBM] [Info] Number of positive: 300, number of negative: 300\n",
      "[LightGBM] [Info] Total Bins 0\n",
      "[LightGBM] [Info] Number of data points in the train set: 600, number of used features: 0\n",
      "[LightGBM] [Info] Using GOSS\n",
      "[LightGBM] [Info] [binary:BoostFromScore]: pavg=0.500000 -> initscore=0.000000\n",
      "[LightGBM] [Warning] Stopped training because there are no more leaves that meet the split requirements\n",
      "[LightGBM] [Warning] Stopped training because there are no more leaves that meet the split requirements\n",
      "[LightGBM] [Warning] Stopped training because there are no more leaves that meet the split requirements\n",
      "[LightGBM] [Warning] Stopped training because there are no more leaves that meet the split requirements\n",
      "[LightGBM] [Warning] Stopped training because there are no more leaves that meet the split requirements\n",
      "[LightGBM] [Warning] Stopped training because there are no more leaves that meet the split requirements\n",
      "[LightGBM] [Warning] Stopped training because there are no more leaves that meet the split requirements\n",
      "[LightGBM] [Warning] Stopped training because there are no more leaves that meet the split requirements\n",
      "[LightGBM] [Warning] Stopped training because there are no more leaves that meet the split requirements\n",
      "[LightGBM] [Warning] Stopped training because there are no more leaves that meet the split requirements\n",
      "[LightGBM] [Warning] Stopped training because there are no more leaves that meet the split requirements\n",
      "[LightGBM] [Warning] Stopped training because there are no more leaves that meet the split requirements\n",
      "[LightGBM] [Warning] Stopped training because there are no more leaves that meet the split requirements\n",
      "[LightGBM] [Warning] Stopped training because there are no more leaves that meet the split requirements\n",
      "[LightGBM] [Warning] Stopped training because there are no more leaves that meet the split requirements\n",
      "[LightGBM] [Warning] Stopped training because there are no more leaves that meet the split requirements\n",
      "[LightGBM] [Warning] Stopped training because there are no more leaves that meet the split requirements\n",
      "[LightGBM] [Warning] Stopped training because there are no more leaves that meet the split requirements\n",
      "[LightGBM] [Warning] Stopped training because there are no more leaves that meet the split requirements\n",
      "[LightGBM] [Warning] Stopped training because there are no more leaves that meet the split requirements\n",
      "[LightGBM] [Warning] Stopped training because there are no more leaves that meet the split requirements\n",
      "[LightGBM] [Warning] Stopped training because there are no more leaves that meet the split requirements\n",
      "[LightGBM] [Warning] Stopped training because there are no more leaves that meet the split requirements\n",
      "[LightGBM] [Warning] Stopped training because there are no more leaves that meet the split requirements\n",
      "[LightGBM] [Warning] Stopped training because there are no more leaves that meet the split requirements\n",
      "[LightGBM] [Warning] Stopped training because there are no more leaves that meet the split requirements\n",
      "[LightGBM] [Warning] Stopped training because there are no more leaves that meet the split requirements\n",
      "[LightGBM] [Warning] Stopped training because there are no more leaves that meet the split requirements\n",
      "[LightGBM] [Warning] Stopped training because there are no more leaves that meet the split requirements\n",
      "[LightGBM] [Warning] Stopped training because there are no more leaves that meet the split requirements\n",
      "[LightGBM] [Warning] Stopped training because there are no more leaves that meet the split requirements\n",
      "[LightGBM] [Warning] Stopped training because there are no more leaves that meet the split requirements\n",
      "[LightGBM] [Warning] Stopped training because there are no more leaves that meet the split requirements\n",
      "[LightGBM] [Warning] Stopped training because there are no more leaves that meet the split requirements\n",
      "[LightGBM] [Warning] Stopped training because there are no more leaves that meet the split requirements\n",
      "[LightGBM] [Warning] Stopped training because there are no more leaves that meet the split requirements\n",
      "[LightGBM] [Warning] Stopped training because there are no more leaves that meet the split requirements\n",
      "[LightGBM] [Warning] Stopped training because there are no more leaves that meet the split requirements\n",
      "[LightGBM] [Warning] Stopped training because there are no more leaves that meet the split requirements\n",
      "[LightGBM] [Warning] Stopped training because there are no more leaves that meet the split requirements\n",
      "[LightGBM] [Warning] Stopped training because there are no more leaves that meet the split requirements\n",
      "[LightGBM] [Warning] Stopped training because there are no more leaves that meet the split requirements\n",
      "[LightGBM] [Warning] Stopped training because there are no more leaves that meet the split requirements\n",
      "[LightGBM] [Warning] Stopped training because there are no more leaves that meet the split requirements\n",
      "[LightGBM] [Warning] Stopped training because there are no more leaves that meet the split requirements\n",
      "[LightGBM] [Warning] Stopped training because there are no more leaves that meet the split requirements\n",
      "[LightGBM] [Warning] Stopped training because there are no more leaves that meet the split requirements\n",
      "[LightGBM] [Warning] Stopped training because there are no more leaves that meet the split requirements\n",
      "[LightGBM] [Warning] Stopped training because there are no more leaves that meet the split requirements\n",
      "[LightGBM] [Warning] Stopped training because there are no more leaves that meet the split requirements\n",
      "[LightGBM] [Warning] Stopped training because there are no more leaves that meet the split requirements\n",
      "[LightGBM] [Warning] Stopped training because there are no more leaves that meet the split requirements\n",
      "[LightGBM] [Warning] Stopped training because there are no more leaves that meet the split requirements\n",
      "[LightGBM] [Warning] Stopped training because there are no more leaves that meet the split requirements\n",
      "[LightGBM] [Warning] Stopped training because there are no more leaves that meet the split requirements\n",
      "[LightGBM] [Warning] Stopped training because there are no more leaves that meet the split requirements\n",
      "[LightGBM] [Warning] Stopped training because there are no more leaves that meet the split requirements\n",
      "[LightGBM] [Warning] Stopped training because there are no more leaves that meet the split requirements\n",
      "[LightGBM] [Warning] Stopped training because there are no more leaves that meet the split requirements\n",
      "[LightGBM] [Warning] Stopped training because there are no more leaves that meet the split requirements\n",
      "[LightGBM] [Warning] Stopped training because there are no more leaves that meet the split requirements\n",
      "[LightGBM] [Warning] Stopped training because there are no more leaves that meet the split requirements\n",
      "[LightGBM] [Warning] Stopped training because there are no more leaves that meet the split requirements\n",
      "[LightGBM] [Warning] Stopped training because there are no more leaves that meet the split requirements\n",
      "[LightGBM] [Warning] Stopped training because there are no more leaves that meet the split requirements\n",
      "[LightGBM] [Warning] Stopped training because there are no more leaves that meet the split requirements\n",
      "[LightGBM] [Warning] Stopped training because there are no more leaves that meet the split requirements\n",
      "[LightGBM] [Warning] Stopped training because there are no more leaves that meet the split requirements\n",
      "[LightGBM] [Warning] Stopped training because there are no more leaves that meet the split requirements\n",
      "[LightGBM] [Warning] Stopped training because there are no more leaves that meet the split requirements\n",
      "[LightGBM] [Warning] Stopped training because there are no more leaves that meet the split requirements\n",
      "[LightGBM] [Warning] Stopped training because there are no more leaves that meet the split requirements\n",
      "[LightGBM] [Warning] Stopped training because there are no more leaves that meet the split requirements\n",
      "[LightGBM] [Warning] Stopped training because there are no more leaves that meet the split requirements\n",
      "[LightGBM] [Warning] Stopped training because there are no more leaves that meet the split requirements\n",
      "[LightGBM] [Warning] Stopped training because there are no more leaves that meet the split requirements\n",
      "[LightGBM] [Warning] Stopped training because there are no more leaves that meet the split requirements\n",
      "[LightGBM] [Warning] Stopped training because there are no more leaves that meet the split requirements\n",
      "[LightGBM] [Warning] Stopped training because there are no more leaves that meet the split requirements\n",
      "[LightGBM] [Warning] Stopped training because there are no more leaves that meet the split requirements\n",
      "[LightGBM] [Warning] Stopped training because there are no more leaves that meet the split requirements\n",
      "[LightGBM] [Warning] Stopped training because there are no more leaves that meet the split requirements\n",
      "[LightGBM] [Warning] Stopped training because there are no more leaves that meet the split requirements\n",
      "[LightGBM] [Warning] Stopped training because there are no more leaves that meet the split requirements\n",
      "[LightGBM] [Warning] Stopped training because there are no more leaves that meet the split requirements\n",
      "[LightGBM] [Warning] Stopped training because there are no more leaves that meet the split requirements\n",
      "[LightGBM] [Warning] There are no meaningful features, as all feature values are constant.\n",
      "[LightGBM] [Info] Number of positive: 299, number of negative: 301\n",
      "[LightGBM] [Info] Total Bins 0\n",
      "[LightGBM] [Info] Number of data points in the train set: 600, number of used features: 0\n",
      "[LightGBM] [Info] [binary:BoostFromScore]: pavg=0.498333 -> initscore=-0.006667\n",
      "[LightGBM] [Info] Start training from score -0.006667\n",
      "[LightGBM] [Warning] Stopped training because there are no more leaves that meet the split requirements\n",
      "[LightGBM] [Warning] Stopped training because there are no more leaves that meet the split requirements\n",
      "[LightGBM] [Warning] Stopped training because there are no more leaves that meet the split requirements\n",
      "[LightGBM] [Warning] Stopped training because there are no more leaves that meet the split requirements\n",
      "[LightGBM] [Warning] Stopped training because there are no more leaves that meet the split requirements\n",
      "[LightGBM] [Warning] Stopped training because there are no more leaves that meet the split requirements\n",
      "[LightGBM] [Warning] Stopped training because there are no more leaves that meet the split requirements\n",
      "[LightGBM] [Warning] Stopped training because there are no more leaves that meet the split requirements\n",
      "[LightGBM] [Warning] There are no meaningful features, as all feature values are constant.\n",
      "[LightGBM] [Info] Number of positive: 299, number of negative: 301\n",
      "[LightGBM] [Info] Total Bins 0\n",
      "[LightGBM] [Info] Number of data points in the train set: 600, number of used features: 0\n",
      "[LightGBM] [Info] [binary:BoostFromScore]: pavg=0.498333 -> initscore=-0.006667\n",
      "[LightGBM] [Info] Start training from score -0.006667\n",
      "[LightGBM] [Warning] Stopped training because there are no more leaves that meet the split requirements\n",
      "[LightGBM] [Warning] Stopped training because there are no more leaves that meet the split requirements\n",
      "[LightGBM] [Warning] Stopped training because there are no more leaves that meet the split requirements\n",
      "[LightGBM] [Warning] Stopped training because there are no more leaves that meet the split requirements\n",
      "[LightGBM] [Warning] Stopped training because there are no more leaves that meet the split requirements\n",
      "[LightGBM] [Warning] Stopped training because there are no more leaves that meet the split requirements\n",
      "[LightGBM] [Warning] Stopped training because there are no more leaves that meet the split requirements\n",
      "[LightGBM] [Warning] Stopped training because there are no more leaves that meet the split requirements\n",
      "[LightGBM] [Warning] There are no meaningful features, as all feature values are constant.\n",
      "[LightGBM] [Info] Number of positive: 299, number of negative: 301\n",
      "[LightGBM] [Info] Total Bins 0\n",
      "[LightGBM] [Info] Number of data points in the train set: 600, number of used features: 0\n",
      "[LightGBM] [Info] [binary:BoostFromScore]: pavg=0.498333 -> initscore=-0.006667\n",
      "[LightGBM] [Info] Start training from score -0.006667\n",
      "[LightGBM] [Warning] Stopped training because there are no more leaves that meet the split requirements\n",
      "[LightGBM] [Warning] Stopped training because there are no more leaves that meet the split requirements\n",
      "[LightGBM] [Warning] Stopped training because there are no more leaves that meet the split requirements\n",
      "[LightGBM] [Warning] Stopped training because there are no more leaves that meet the split requirements\n",
      "[LightGBM] [Warning] Stopped training because there are no more leaves that meet the split requirements\n",
      "[LightGBM] [Warning] Stopped training because there are no more leaves that meet the split requirements\n",
      "[LightGBM] [Warning] Stopped training because there are no more leaves that meet the split requirements\n",
      "[LightGBM] [Warning] Stopped training because there are no more leaves that meet the split requirements\n",
      "[LightGBM] [Warning] There are no meaningful features, as all feature values are constant.\n",
      "[LightGBM] [Info] Number of positive: 299, number of negative: 301\n",
      "[LightGBM] [Info] Total Bins 0\n",
      "[LightGBM] [Info] Number of data points in the train set: 600, number of used features: 0\n",
      "[LightGBM] [Info] [binary:BoostFromScore]: pavg=0.498333 -> initscore=-0.006667\n",
      "[LightGBM] [Info] Start training from score -0.006667\n",
      "[LightGBM] [Warning] Stopped training because there are no more leaves that meet the split requirements\n",
      "[LightGBM] [Warning] Stopped training because there are no more leaves that meet the split requirements\n",
      "[LightGBM] [Warning] Stopped training because there are no more leaves that meet the split requirements\n",
      "[LightGBM] [Warning] Stopped training because there are no more leaves that meet the split requirements\n",
      "[LightGBM] [Warning] Stopped training because there are no more leaves that meet the split requirements\n",
      "[LightGBM] [Warning] Stopped training because there are no more leaves that meet the split requirements\n",
      "[LightGBM] [Warning] Stopped training because there are no more leaves that meet the split requirements\n",
      "[LightGBM] [Warning] Stopped training because there are no more leaves that meet the split requirements\n",
      "[LightGBM] [Warning] There are no meaningful features, as all feature values are constant.\n",
      "[LightGBM] [Info] Number of positive: 300, number of negative: 300\n",
      "[LightGBM] [Info] Total Bins 0\n",
      "[LightGBM] [Info] Number of data points in the train set: 600, number of used features: 0\n",
      "[LightGBM] [Info] [binary:BoostFromScore]: pavg=0.500000 -> initscore=0.000000\n",
      "[LightGBM] [Warning] Stopped training because there are no more leaves that meet the split requirements\n",
      "[LightGBM] [Warning] Stopped training because there are no more leaves that meet the split requirements\n",
      "[LightGBM] [Warning] Stopped training because there are no more leaves that meet the split requirements\n",
      "[LightGBM] [Warning] Stopped training because there are no more leaves that meet the split requirements\n",
      "[LightGBM] [Warning] Stopped training because there are no more leaves that meet the split requirements\n",
      "[LightGBM] [Warning] Stopped training because there are no more leaves that meet the split requirements\n",
      "[LightGBM] [Warning] Stopped training because there are no more leaves that meet the split requirements\n",
      "[LightGBM] [Warning] Stopped training because there are no more leaves that meet the split requirements\n"
     ]
    },
    {
     "data": {
      "text/plain": [
       "RandomizedSearchCV(cv=5, error_score=nan,\n",
       "                   estimator=LGBMClassifier(boosting_type='gbdt',\n",
       "                                            class_weight=None,\n",
       "                                            colsample_bytree=1.0,\n",
       "                                            importance_type='split',\n",
       "                                            learning_rate=0.1, max_depth=-1,\n",
       "                                            min_child_samples=20,\n",
       "                                            min_child_weight=0.001,\n",
       "                                            min_split_gain=0.0,\n",
       "                                            n_estimators=100, n_jobs=-1,\n",
       "                                            num_leaves=31, objective=None,\n",
       "                                            random_state=None, reg_alpha=0.0,\n",
       "                                            reg_lambda=0.0, sile...\n",
       "                                        'num_leaves': <scipy.stats._distn_infrastructure.rv_frozen object at 0x0000029F4EC19A08>,\n",
       "                                        'reg_alpha': [0, 0.1, 1, 2, 5, 7, 10,\n",
       "                                                      50, 100],\n",
       "                                        'reg_lambda': [0, 0.1, 1, 5, 10, 20, 50,\n",
       "                                                       100],\n",
       "                                        'silent': [True, False],\n",
       "                                        'subsample': <scipy.stats._distn_infrastructure.rv_frozen object at 0x0000029F4EC15888>},\n",
       "                   pre_dispatch='2*n_jobs', random_state=None, refit=True,\n",
       "                   return_train_score=False, scoring=None, verbose=0)"
      ]
     },
     "execution_count": 707,
     "metadata": {},
     "output_type": "execute_result"
    }
   ],
   "source": [
    "clf_cv = RandomizedSearchCV(clf_lgb, params, cv=5)\n",
    "clf_cv.fit(X_train, y_train)"
   ]
  },
  {
   "cell_type": "code",
   "execution_count": 708,
   "metadata": {},
   "outputs": [
    {
     "data": {
      "text/plain": [
       "{'boosting_type': 'dart',\n",
       " 'colsample_bytree': 0.47786446583529807,\n",
       " 'importance_type': 'split',\n",
       " 'learning_rate': 0.05,\n",
       " 'min_child_samples': 60,\n",
       " 'min_child_weight': 0.001,\n",
       " 'n_estimators': 176,\n",
       " 'num_leaves': 182,\n",
       " 'reg_alpha': 1,\n",
       " 'reg_lambda': 1,\n",
       " 'silent': True,\n",
       " 'subsample': 0.9430238633336383}"
      ]
     },
     "execution_count": 708,
     "metadata": {},
     "output_type": "execute_result"
    }
   ],
   "source": [
    "clf_cv.best_params_"
   ]
  },
  {
   "cell_type": "code",
   "execution_count": 709,
   "metadata": {},
   "outputs": [
    {
     "data": {
      "text/plain": [
       "0.7533333333333333"
      ]
     },
     "execution_count": 709,
     "metadata": {},
     "output_type": "execute_result"
    }
   ],
   "source": [
    "clf_cv.best_score_"
   ]
  },
  {
   "cell_type": "code",
   "execution_count": 277,
   "metadata": {},
   "outputs": [
    {
     "data": {
      "text/plain": [
       "array([ True,  True,  True,  True,  True,  True,  True,  True,  True,\n",
       "        True,  True,  True,  True,  True,  True,  True,  True,  True,\n",
       "        True,  True,  True,  True,  True,  True,  True,  True,  True,\n",
       "        True,  True,  True,  True,  True,  True,  True,  True,  True,\n",
       "        True,  True,  True,  True,  True,  True,  True,  True,  True,\n",
       "        True,  True,  True,  True,  True,  True,  True,  True,  True,\n",
       "        True,  True,  True,  True,  True,  True,  True,  True,  True,\n",
       "        True,  True,  True,  True,  True,  True, False,  True,  True,\n",
       "        True,  True,  True,  True,  True,  True,  True,  True,  True,\n",
       "        True, False,  True,  True,  True,  True,  True,  True,  True,\n",
       "        True,  True,  True,  True,  True,  True,  True,  True,  True,\n",
       "        True,  True,  True,  True,  True, False,  True,  True,  True,\n",
       "        True,  True,  True,  True,  True,  True,  True,  True,  True,\n",
       "        True,  True,  True,  True,  True,  True,  True,  True,  True,\n",
       "        True, False,  True,  True,  True,  True,  True,  True,  True,\n",
       "        True,  True,  True,  True,  True,  True,  True, False,  True,\n",
       "        True,  True,  True,  True,  True,  True,  True,  True,  True,\n",
       "        True,  True,  True,  True,  True,  True,  True,  True,  True,\n",
       "        True,  True,  True,  True,  True,  True,  True,  True,  True,\n",
       "        True,  True,  True,  True,  True,  True,  True,  True,  True,\n",
       "        True,  True,  True,  True,  True,  True,  True,  True,  True,\n",
       "        True,  True,  True,  True,  True,  True,  True,  True,  True,\n",
       "        True,  True,  True,  True,  True,  True,  True,  True,  True,\n",
       "        True,  True,  True,  True,  True,  True,  True,  True,  True,\n",
       "        True,  True,  True,  True,  True,  True,  True,  True,  True,\n",
       "        True,  True,  True,  True,  True,  True,  True,  True,  True,\n",
       "        True,  True,  True,  True,  True,  True,  True,  True,  True,\n",
       "        True, False,  True, False,  True,  True,  True,  True,  True,\n",
       "        True,  True,  True,  True,  True,  True,  True,  True,  True,\n",
       "        True,  True,  True,  True,  True,  True, False,  True,  True,\n",
       "        True,  True,  True,  True,  True,  True,  True,  True,  True,\n",
       "        True,  True,  True,  True,  True,  True,  True,  True,  True,\n",
       "        True,  True,  True,  True, False,  True,  True,  True,  True,\n",
       "        True,  True,  True,  True,  True,  True,  True,  True,  True,\n",
       "        True,  True,  True, False,  True,  True,  True,  True,  True,\n",
       "        True,  True,  True,  True,  True,  True,  True,  True,  True,\n",
       "        True,  True,  True,  True,  True,  True,  True,  True,  True,\n",
       "        True,  True,  True,  True,  True,  True, False,  True,  True,\n",
       "        True,  True,  True,  True,  True,  True,  True,  True,  True,\n",
       "        True,  True,  True,  True,  True, False,  True,  True,  True,\n",
       "        True,  True,  True,  True,  True,  True,  True,  True,  True,\n",
       "        True,  True,  True,  True,  True,  True,  True,  True,  True,\n",
       "        True,  True,  True,  True,  True,  True,  True,  True,  True,\n",
       "        True,  True,  True,  True,  True,  True,  True,  True,  True,\n",
       "        True,  True,  True,  True, False,  True,  True,  True,  True,\n",
       "        True,  True,  True,  True,  True,  True,  True,  True,  True,\n",
       "        True,  True,  True,  True,  True,  True,  True,  True,  True,\n",
       "        True,  True,  True,  True,  True,  True,  True,  True,  True,\n",
       "        True,  True,  True,  True,  True, False,  True,  True,  True,\n",
       "        True,  True,  True,  True,  True,  True,  True,  True,  True,\n",
       "        True,  True,  True,  True,  True,  True,  True,  True,  True,\n",
       "        True,  True,  True,  True,  True,  True,  True,  True,  True,\n",
       "        True,  True,  True,  True,  True,  True,  True,  True,  True,\n",
       "        True,  True,  True,  True,  True,  True,  True,  True,  True,\n",
       "        True,  True,  True,  True,  True,  True,  True,  True,  True,\n",
       "        True,  True,  True,  True,  True,  True,  True,  True,  True,\n",
       "        True,  True,  True,  True,  True,  True,  True,  True,  True,\n",
       "        True,  True,  True,  True,  True,  True,  True,  True,  True,\n",
       "        True, False,  True,  True,  True,  True,  True,  True,  True,\n",
       "        True,  True,  True,  True,  True,  True,  True,  True,  True,\n",
       "        True,  True,  True,  True,  True,  True,  True,  True,  True,\n",
       "        True,  True,  True,  True,  True,  True,  True,  True,  True,\n",
       "        True,  True,  True,  True,  True,  True,  True,  True,  True,\n",
       "        True,  True,  True,  True,  True,  True,  True,  True,  True,\n",
       "        True,  True,  True,  True, False,  True,  True,  True,  True,\n",
       "       False,  True,  True,  True,  True, False,  True,  True,  True,\n",
       "        True,  True,  True,  True,  True,  True,  True,  True,  True,\n",
       "        True,  True,  True,  True,  True,  True,  True,  True,  True,\n",
       "        True,  True,  True,  True,  True,  True,  True,  True,  True,\n",
       "        True,  True,  True,  True,  True,  True,  True,  True,  True,\n",
       "        True,  True,  True,  True,  True,  True,  True,  True,  True,\n",
       "        True,  True,  True,  True,  True,  True,  True,  True,  True,\n",
       "        True,  True,  True,  True,  True,  True,  True,  True,  True,\n",
       "        True,  True,  True,  True,  True,  True,  True,  True,  True,\n",
       "        True,  True,  True,  True,  True,  True,  True,  True,  True,\n",
       "        True,  True,  True,  True,  True, False,  True,  True,  True,\n",
       "        True,  True,  True,  True,  True,  True,  True,  True,  True,\n",
       "        True,  True,  True,  True,  True,  True,  True,  True,  True,\n",
       "        True,  True,  True,  True,  True,  True,  True,  True,  True,\n",
       "        True,  True,  True,  True,  True,  True,  True,  True,  True,\n",
       "        True, False,  True,  True,  True,  True,  True,  True,  True,\n",
       "        True,  True,  True,  True,  True,  True,  True,  True,  True,\n",
       "        True,  True,  True,  True,  True,  True,  True,  True,  True,\n",
       "        True,  True,  True,  True,  True,  True,  True,  True,  True,\n",
       "        True,  True,  True,  True,  True,  True,  True,  True,  True,\n",
       "        True,  True,  True,  True,  True,  True,  True,  True,  True,\n",
       "        True,  True,  True,  True,  True,  True,  True,  True,  True,\n",
       "        True,  True,  True,  True,  True,  True,  True,  True,  True,\n",
       "        True,  True,  True,  True,  True,  True,  True,  True,  True,\n",
       "        True,  True,  True,  True,  True,  True,  True,  True,  True,\n",
       "        True,  True,  True,  True,  True,  True, False,  True,  True,\n",
       "        True,  True,  True,  True,  True,  True,  True,  True,  True,\n",
       "        True,  True,  True,  True,  True,  True,  True,  True,  True,\n",
       "        True,  True,  True,  True,  True,  True,  True,  True,  True,\n",
       "        True,  True,  True,  True,  True,  True,  True,  True,  True,\n",
       "        True,  True,  True,  True,  True,  True,  True,  True,  True,\n",
       "        True,  True,  True, False,  True,  True,  True,  True,  True,\n",
       "        True,  True,  True,  True,  True,  True,  True,  True,  True,\n",
       "        True,  True,  True,  True,  True,  True,  True,  True,  True,\n",
       "        True,  True,  True,  True,  True,  True,  True,  True,  True,\n",
       "        True,  True,  True,  True,  True,  True,  True,  True,  True,\n",
       "        True,  True,  True,  True,  True,  True,  True,  True,  True,\n",
       "        True,  True,  True,  True,  True,  True,  True,  True,  True,\n",
       "        True,  True,  True,  True,  True,  True,  True,  True,  True,\n",
       "        True,  True,  True,  True,  True,  True,  True,  True,  True,\n",
       "        True,  True,  True,  True,  True,  True,  True,  True,  True,\n",
       "        True,  True,  True,  True,  True,  True,  True,  True,  True,\n",
       "        True,  True, False,  True,  True,  True,  True,  True,  True,\n",
       "        True,  True, False,  True,  True,  True,  True,  True,  True,\n",
       "        True,  True,  True,  True,  True,  True,  True,  True,  True,\n",
       "        True,  True,  True,  True,  True,  True,  True,  True,  True,\n",
       "        True])"
      ]
     },
     "execution_count": 277,
     "metadata": {},
     "output_type": "execute_result"
    }
   ],
   "source": [
    "y_pred"
   ]
  },
  {
   "cell_type": "markdown",
   "metadata": {},
   "source": [
    "## K Means Clustering"
   ]
  },
  {
   "cell_type": "markdown",
   "metadata": {},
   "source": [
    "***k means algorith implementation for classification***"
   ]
  },
  {
   "cell_type": "markdown",
   "metadata": {},
   "source": [
    "****We use the k-means elbow method and the Silhouette Method to achieve how many clusters we should use for our analysis.****"
   ]
  },
  {
   "cell_type": "markdown",
   "metadata": {},
   "source": [
    "Elbow Method\n",
    "K-Means is a simple unsupervised machine learning algorithm that groups data into the number  K  of clusters specified by the user, even if it is not the optimal number of clusters for the dataset.\n",
    "\n",
    "Yellowbrick's KElbowVisualizer implements the “elbow” method of selecting the optimal number of clusters by fitting the K-Means model with a range of values for  K . If the line chart looks like an arm, then the “elbow” (the point of inflection on the curve) is a good indication that the underlying model fits best at that point.\n",
    "\n",
    "In the following example, the KElbowVisualizer fits the model for a range of  K  values from 1 to 11, which is set by the parameter k=(1,12). When the model is fit with 2 clusters we can see an \"elbow\" in the graph, which in this case we know to be the optimal number since we created our synthetic dataset with 12 clusters of points."
   ]
  },
  {
   "cell_type": "markdown",
   "metadata": {},
   "source": [
    "By default, the scoring parameter metric is set to distortion, which computes the sum of squared distances from each point to its assigned center. However, two other metrics can also be used with the KElbowVisualizer—silhouette and calinski_harabaz"
   ]
  },
  {
   "cell_type": "code",
   "execution_count": 710,
   "metadata": {},
   "outputs": [
    {
     "data": {
      "image/png": "[encoded data removed]",
      "text/plain": [
       "<Figure size 800x620 with 2 Axes>"
      ]
     },
     "metadata": {},
     "output_type": "display_data"
    },
    {
     "data": {
      "text/plain": [
       "<matplotlib.axes._subplots.AxesSubplot at 0x29f4ec66708>"
      ]
     },
     "execution_count": 710,
     "metadata": {},
     "output_type": "execute_result"
    }
   ],
   "source": [
    "from yellowbrick.cluster import KElbowVisualizer\n",
    "from sklearn.cluster import KMeans\n",
    "model = KMeans()\n",
    "visualizer = KElbowVisualizer(model, k=(1,12), size=(800, 620)).fit(df_data)\n",
    "visualizer.show()"
   ]
  },
  {
   "cell_type": "code",
   "execution_count": 711,
   "metadata": {},
   "outputs": [],
   "source": [
    "kmeans = KMeans(n_clusters=2, init='k-means++', random_state=0).fit(df_data)"
   ]
  },
  {
   "cell_type": "code",
   "execution_count": 714,
   "metadata": {},
   "outputs": [
    {
     "data": {
      "text/plain": [
       "array([0, 1, 0, 1, 1, 1, 0, 1, 1, 0, 1, 0, 1, 1, 1, 1, 1, 1, 0, 0, 0, 0,\n",
       "       0, 1, 0, 0, 0, 1, 0, 1, 0, 1, 1, 0, 1, 0, 0, 0, 0, 0, 1, 0, 1, 0,\n",
       "       1, 1, 0, 0, 1, 0, 1, 1, 0, 1, 0, 1, 1, 1, 1, 1, 0, 0, 1, 0, 0, 0,\n",
       "       0, 1, 0, 1, 1, 1, 1, 1, 1, 1, 0, 1, 0, 0, 1, 1, 0, 1, 1, 1, 1, 0,\n",
       "       1, 1, 0, 1, 0, 1, 1, 0, 1, 1, 0, 1, 1, 0, 1, 0, 0, 0, 0, 1, 1, 1,\n",
       "       0, 0, 1, 1, 1, 0, 1, 1, 0, 0, 0, 0, 1, 1, 0, 0, 1, 0, 1, 1, 1, 1,\n",
       "       1, 0, 1, 0, 0, 1, 0, 1, 1, 1, 1, 0, 0, 1, 1, 1, 0, 0, 1, 0, 0, 0,\n",
       "       0, 1, 0, 0, 0, 0, 0, 0, 1, 1, 1, 1, 1, 0, 0, 0, 0, 0, 0, 1, 1, 0,\n",
       "       1, 1, 1, 1, 1, 1, 0, 1, 1, 1, 0, 0, 1, 1, 1, 0, 1, 0, 1, 0, 0, 0,\n",
       "       1, 0, 1, 1, 1, 0, 0, 0, 1, 0, 0, 0, 0, 1, 1, 1, 0, 0, 0, 0, 1, 0,\n",
       "       0, 1, 1, 1, 1, 0, 0, 1, 0, 1, 0, 1, 1, 1, 0, 1, 0, 1, 1, 0, 1, 0,\n",
       "       1, 1, 0, 0, 1, 1, 1, 1, 1, 1, 0, 1, 0, 1, 1, 0, 0, 0, 0, 0, 1, 0,\n",
       "       0, 1, 1, 0, 0, 1, 1, 1, 0, 1, 0, 1, 1, 1, 0, 0, 1, 0, 1, 1, 1, 0,\n",
       "       0, 0, 0, 1, 0, 0, 1, 1, 0, 1, 0, 1, 0, 1, 0, 0, 1, 0, 0, 1, 1, 0,\n",
       "       0, 0, 1, 0, 1, 1, 1, 0, 1, 0, 1, 1, 1, 1, 1, 1, 0, 1, 1, 1, 0, 0,\n",
       "       1, 1, 1, 0, 1, 1, 1, 1, 0, 0, 1, 1, 0, 1, 1, 0, 1, 0, 1, 1, 0, 1,\n",
       "       1, 0, 1, 0, 0, 1, 1, 1, 0, 1, 0, 1, 0, 0, 1, 1, 1, 0, 1, 1, 0, 0,\n",
       "       0, 0, 1, 1, 0, 1, 1, 0, 1, 0, 1, 1, 1, 1, 0, 1, 1, 1, 1, 0, 0, 1,\n",
       "       0, 1, 1, 1, 0, 1, 0, 1, 1, 0, 0, 0, 1, 0, 1, 1, 0, 0, 0, 1, 0, 0,\n",
       "       1, 1, 1, 1, 1, 1, 0, 0, 0, 1, 1, 1, 1, 1, 1, 0, 0, 1, 1, 1, 0, 0,\n",
       "       1, 0, 1, 1, 0, 0, 1, 1, 0, 1, 0, 0, 1, 1, 0, 1, 1, 1, 0, 0, 0, 1,\n",
       "       1, 0, 1, 1, 1, 1, 1, 1, 1, 0, 1, 0, 0, 1, 1, 1, 1, 0, 0, 1, 1, 0,\n",
       "       1, 0, 0, 0, 0, 1, 0, 0, 0, 0, 1, 0, 1, 0, 1, 0, 1, 0, 1, 0, 1, 1,\n",
       "       1, 0, 1, 1, 0, 0, 0, 1, 1, 1, 1, 1, 0, 0, 1, 0, 0, 1, 0, 0, 0, 0,\n",
       "       1, 0, 1, 0, 0, 0, 0, 0, 0, 1, 1, 1, 0, 1, 1, 1, 1, 0, 0, 1, 0, 0,\n",
       "       1, 0, 1, 0, 0, 0, 0, 0, 0, 0, 1, 1, 0, 1, 1, 1, 0, 0, 1, 1, 0, 0,\n",
       "       0, 1, 1, 0, 0, 0, 1, 0, 1, 1, 1, 0, 0, 1, 0, 0, 1, 1, 0, 1, 0, 0,\n",
       "       1, 0, 0, 1, 1, 0, 1, 0, 0, 1, 1, 1, 1, 0, 0, 0, 1, 1, 0, 1, 1, 0,\n",
       "       0, 1, 0, 1, 0, 1, 0, 1, 0, 0, 0, 0, 1, 1, 1, 0, 0, 0, 1, 0, 0, 1,\n",
       "       1, 1, 0, 0, 1, 1, 0, 1, 1, 1, 1, 1, 0, 1, 1, 0, 1, 0, 1, 1, 1, 0,\n",
       "       1, 0, 0, 0, 0, 1, 1, 0, 0, 0, 1, 0, 0, 1, 0, 1, 1, 1, 0, 0, 0, 0,\n",
       "       1, 1, 1, 0, 1, 0, 0, 1, 1, 0, 0, 1, 0, 1, 0, 1, 1, 0, 1, 1, 0, 0,\n",
       "       0, 0, 1, 1, 1, 0, 0, 1, 0, 0, 0, 1, 1, 0, 0, 1, 1, 0, 0, 1, 1, 0,\n",
       "       1, 0, 1, 1, 0, 1, 0, 0, 0, 1, 0, 1, 1, 1, 1, 0, 1, 0, 0, 0, 0, 1,\n",
       "       0, 1, 0, 0, 1, 1, 1, 1, 1, 0, 1, 1, 1, 1, 1, 1, 0, 0, 1, 0, 1, 1,\n",
       "       0, 0, 0, 1, 1, 1, 0, 0, 0, 1, 1, 0, 1, 0, 1, 0, 0, 1, 0, 0, 1, 1,\n",
       "       0, 0, 0, 1, 0, 1, 0, 1, 1, 0, 0, 1, 0, 1, 0, 1, 1, 1, 0, 1, 0, 1,\n",
       "       0, 1, 0, 1, 0, 1, 0, 1, 1, 0, 0, 1, 0, 0, 1, 0, 0, 1, 1, 0, 1, 1,\n",
       "       0, 0, 1, 1, 0, 1, 1, 0, 1, 1, 0, 1, 1, 0, 0, 0, 0, 1, 1, 1, 0, 0,\n",
       "       0, 1, 0, 1, 1, 0, 1, 1, 0, 0, 1, 1, 0, 0, 1, 1, 1, 0, 0, 1, 0, 0,\n",
       "       0, 1, 1, 1, 0, 1, 1, 0, 1, 1, 1, 0, 0, 1, 0, 1, 1, 1, 0, 1, 0, 1,\n",
       "       1, 1, 1, 1, 1, 1, 1, 0, 0, 0, 0, 1, 1, 0, 0, 1, 0, 0, 1, 1, 1, 1,\n",
       "       0, 1, 0, 0, 0, 0, 0, 0, 0, 1, 1, 1, 1, 1, 1, 0, 1, 1, 1, 0, 1, 0,\n",
       "       0, 1, 0, 0, 0, 1, 1, 1, 0, 0, 0, 1, 0, 0, 1, 0, 1, 0, 1, 0, 1, 1,\n",
       "       0, 1, 0, 0, 1, 1, 0, 1, 0, 1, 1, 0, 0, 1, 0, 1, 1, 1, 0, 0, 0, 1,\n",
       "       1, 1, 1, 0, 1, 0, 0, 1, 0, 1])"
      ]
     },
     "execution_count": 714,
     "metadata": {},
     "output_type": "execute_result"
    }
   ],
   "source": [
    "kmeans.labels_"
   ]
  },
  {
   "cell_type": "code",
   "execution_count": 715,
   "metadata": {},
   "outputs": [
    {
     "data": {
      "text/plain": [
       "204.1008297819597"
      ]
     },
     "execution_count": 715,
     "metadata": {},
     "output_type": "execute_result"
    }
   ],
   "source": [
    "kmeans.inertia_"
   ]
  },
  {
   "cell_type": "code",
   "execution_count": 716,
   "metadata": {},
   "outputs": [
    {
     "data": {
      "text/plain": [
       "2"
      ]
     },
     "execution_count": 716,
     "metadata": {},
     "output_type": "execute_result"
    }
   ],
   "source": [
    "kmeans.n_iter_"
   ]
  },
  {
   "cell_type": "code",
   "execution_count": 717,
   "metadata": {
    "scrolled": true
   },
   "outputs": [
    {
     "data": {
      "text/plain": [
       "array([[4.30098611e-01, 2.22044605e-15, 4.69539676e-01, 2.08869661e-01,\n",
       "        7.96178981e-01, 8.16239640e-01, 8.12443159e-01, 8.89290824e-01,\n",
       "        6.45665775e-01, 5.00960500e-01, 2.11654680e-01, 7.98708382e-01,\n",
       "        9.34168924e-01, 1.99433972e-01, 5.50724176e-01, 7.13119437e-02,\n",
       "        6.34460422e-01, 4.42187903e-01, 5.09537616e-01],\n",
       "       [4.32200058e-01, 1.00000000e+00, 4.68066892e-01, 2.03781828e-01,\n",
       "        7.89452575e-01, 8.09895031e-01, 8.11496409e-01, 8.87389146e-01,\n",
       "        6.44020729e-01, 5.01385218e-01, 1.98106731e-01, 8.06706224e-01,\n",
       "        9.34163286e-01, 1.77978511e-01, 5.48738551e-01, 6.84002640e-02,\n",
       "        6.37204826e-01, 4.40568769e-01, 5.06347832e-01]])"
      ]
     },
     "execution_count": 717,
     "metadata": {},
     "output_type": "execute_result"
    }
   ],
   "source": [
    "kmeans.cluster_centers_"
   ]
  },
  {
   "cell_type": "code",
   "execution_count": 718,
   "metadata": {},
   "outputs": [
    {
     "data": {
      "text/plain": [
       "<bound method KMeans.score of KMeans(algorithm='auto', copy_x=True, init='k-means++', max_iter=300,\n",
       "       n_clusters=2, n_init=10, n_jobs=None, precompute_distances='auto',\n",
       "       random_state=0, tol=0.0001, verbose=0)>"
      ]
     },
     "execution_count": 718,
     "metadata": {},
     "output_type": "execute_result"
    }
   ],
   "source": [
    "kmeans.score"
   ]
  },
  {
   "cell_type": "markdown",
   "metadata": {},
   "source": [
    "## TakeAway -- K means clustering\n",
    "Clustering apart from being an unsupervised machine learning can also be used to create clusters as features to improve classification models. On their own they aren’t enough for classification as the results show. But when used as features they improve model accuracy."
   ]
  },
  {
   "cell_type": "markdown",
   "metadata": {},
   "source": [
    "# Prediction on test data using Decision Tree"
   ]
  },
  {
   "cell_type": "code",
   "execution_count": 723,
   "metadata": {},
   "outputs": [
    {
     "data": {
      "text/html": [
       "<div>\n",
       "<style scoped>\n",
       "    .dataframe tbody tr th:only-of-type {\n",
       "        vertical-align: middle;\n",
       "    }\n",
       "\n",
       "    .dataframe tbody tr th {\n",
       "        vertical-align: top;\n",
       "    }\n",
       "\n",
       "    .dataframe thead th {\n",
       "        text-align: right;\n",
       "    }\n",
       "</style>\n",
       "<table border=\"1\" class=\"dataframe\">\n",
       "  <thead>\n",
       "    <tr style=\"text-align: right;\">\n",
       "      <th></th>\n",
       "      <th>F1</th>\n",
       "      <th>F2</th>\n",
       "      <th>F3</th>\n",
       "      <th>F4</th>\n",
       "      <th>F5</th>\n",
       "      <th>F7</th>\n",
       "      <th>F8</th>\n",
       "      <th>F9</th>\n",
       "      <th>F10</th>\n",
       "      <th>F11</th>\n",
       "      <th>F12</th>\n",
       "      <th>F13</th>\n",
       "      <th>F14</th>\n",
       "      <th>F15</th>\n",
       "      <th>F16</th>\n",
       "      <th>F17</th>\n",
       "      <th>F18</th>\n",
       "      <th>F20</th>\n",
       "      <th>F21</th>\n",
       "    </tr>\n",
       "  </thead>\n",
       "  <tbody>\n",
       "    <tr>\n",
       "      <th>0</th>\n",
       "      <td>0.443384</td>\n",
       "      <td>1.0</td>\n",
       "      <td>0.586530</td>\n",
       "      <td>0.419569</td>\n",
       "      <td>0.961831</td>\n",
       "      <td>0.975403</td>\n",
       "      <td>0.888647</td>\n",
       "      <td>0.843789</td>\n",
       "      <td>0.664344</td>\n",
       "      <td>0.587877</td>\n",
       "      <td>0.034285</td>\n",
       "      <td>0.825671</td>\n",
       "      <td>0.477498</td>\n",
       "      <td>0.025591</td>\n",
       "      <td>0.314048</td>\n",
       "      <td>0.070760</td>\n",
       "      <td>0.550625</td>\n",
       "      <td>0.338729</td>\n",
       "      <td>0.397279</td>\n",
       "    </tr>\n",
       "    <tr>\n",
       "      <th>1</th>\n",
       "      <td>0.524980</td>\n",
       "      <td>0.0</td>\n",
       "      <td>0.554938</td>\n",
       "      <td>0.044421</td>\n",
       "      <td>0.936611</td>\n",
       "      <td>0.955159</td>\n",
       "      <td>0.535072</td>\n",
       "      <td>0.951501</td>\n",
       "      <td>0.542267</td>\n",
       "      <td>0.598425</td>\n",
       "      <td>0.169789</td>\n",
       "      <td>0.736409</td>\n",
       "      <td>0.478026</td>\n",
       "      <td>0.084626</td>\n",
       "      <td>0.439639</td>\n",
       "      <td>0.037531</td>\n",
       "      <td>0.459755</td>\n",
       "      <td>0.268649</td>\n",
       "      <td>0.397279</td>\n",
       "    </tr>\n",
       "  </tbody>\n",
       "</table>\n",
       "</div>"
      ],
      "text/plain": [
       "         F1   F2        F3        F4        F5        F7        F8        F9  \\\n",
       "0  0.443384  1.0  0.586530  0.419569  0.961831  0.975403  0.888647  0.843789   \n",
       "1  0.524980  0.0  0.554938  0.044421  0.936611  0.955159  0.535072  0.951501   \n",
       "\n",
       "        F10       F11       F12       F13       F14       F15       F16  \\\n",
       "0  0.664344  0.587877  0.034285  0.825671  0.477498  0.025591  0.314048   \n",
       "1  0.542267  0.598425  0.169789  0.736409  0.478026  0.084626  0.439639   \n",
       "\n",
       "        F17       F18       F20       F21  \n",
       "0  0.070760  0.550625  0.338729  0.397279  \n",
       "1  0.037531  0.459755  0.268649  0.397279  "
      ]
     },
     "execution_count": 723,
     "metadata": {},
     "output_type": "execute_result"
    }
   ],
   "source": [
    "test_data.head(2)"
   ]
  },
  {
   "cell_type": "code",
   "execution_count": 727,
   "metadata": {},
   "outputs": [],
   "source": [
    "test_data_prediction = dtree.predict(test_data).tolist()"
   ]
  },
  {
   "cell_type": "code",
   "execution_count": null,
   "metadata": {},
   "outputs": [],
   "source": []
  },
  {
   "cell_type": "markdown",
   "metadata": {},
   "source": [
    "### Part B"
   ]
  },
  {
   "cell_type": "code",
   "execution_count": 730,
   "metadata": {},
   "outputs": [],
   "source": [
    "# Load the test data\n",
    "test_df = pd.read_csv('CE802_P2_Test.csv')\n",
    "\n",
    "# Make sure you work on a copy\n",
    "test_data = test_df.iloc[:,:-1].copy()\n",
    "\n",
    "predicted = test_data_prediction \n",
    "\n",
    "# Replace the last (empty) column with your prediction\n",
    "test_df.iloc[:,-1] = predicted\n",
    "\n",
    "# Save to the destination file\n",
    "test_df.to_csv('CE802_P2_Test_Predictions.csv', index=False, float_format='%.8g')\n",
    "\n",
    "# IMPORTANT!! Make sure only the last column has changed\n",
    "assert pd.read_csv('CE802_P2_Test.csv').iloc[:,:-1].equals(pd.read_csv('CE802_P2_Test_Predictions.csv').iloc[:,:-1])"
   ]
  }
 ],
 "metadata": {
  "kernelspec": {
   "display_name": "Python 3",
   "language": "python",
   "name": "python3"
  },
  "language_info": {
   "codemirror_mode": {
    "name": "ipython",
    "version": 3
   },
   "file_extension": ".py",
   "mimetype": "text/x-python",
   "name": "python",
   "nbconvert_exporter": "python",
   "pygments_lexer": "ipython3",
   "version": "3.7.6"
  }
 },
 "nbformat": 4,
 "nbformat_minor": 4
}
